{
 "cells": [
  {
   "cell_type": "markdown",
   "execution_count": null,
   "metadata": {},
   "source": [
    "![](https://www.pata.org/wp-content/uploads/2014/09/TripAdvisor_Logo-300x119.png)\n",
    "# Predict TripAdvisor Rating\n"
   ]
  },
  {
   "cell_type": "markdown",
   "execution_count": null,
   "metadata": {},
   "source": [
    "# import"
   ]
  },
  {
   "cell_type": "code",
   "execution_count": 1,
   "metadata": {
    "_cell_guid": "b1076dfc-b9ad-4769-8c92-a6c4dae69d19",
    "_uuid": "8f2839f25d086af736a60e9eeb907d3b93b6e0e5"
   },
   "outputs": [
    {
     "name": "stdout",
     "output_type": "stream",
     "text": [
      "/kaggle/input/restaurant-expenses-in-europe-by-country/nama_10_co3_p3_1_Data.csv\n",
      "/kaggle/input/sf-dst-restaurant-rating/kaggle_task.csv\n",
      "/kaggle/input/sf-dst-restaurant-rating/main_task.csv\n",
      "/kaggle/input/sf-dst-restaurant-rating/sample_submission.csv\n"
     ]
    }
   ],
   "source": [
    "# This Python 3 environment comes with many helpful analytics libraries installed\n",
    "# It is defined by the kaggle/python docker image: https://github.com/kaggle/docker-python\n",
    "# For example, here's several helpful packages to load in \n",
    "\n",
    "import numpy as np # linear algebra\n",
    "import pandas as pd # data processing, CSV file I/O (e.g. pd.read_csv)\n",
    "from datetime import datetime, timedelta\n",
    "import string\n",
    "import re\n",
    "import matplotlib.pyplot as plt\n",
    "import seaborn as sns \n",
    "%matplotlib inline\n",
    "\n",
    "# Загружаем специальный удобный инструмент для разделения датасета:\n",
    "from sklearn.model_selection import train_test_split\n",
    "\n",
    "# Input data files are available in the \"../input/\" directory.\n",
    "# For example, running this (by clicking run or pressing Shift+Enter) will list all files under the input directory\n",
    "\n",
    "import os\n",
    "for dirname, _, filenames in os.walk('/kaggle/input'):\n",
    "    for filename in filenames:\n",
    "        print(os.path.join(dirname, filename))\n",
    "\n",
    "# Any results you write to the current directory are saved as output."
   ]
  },
  {
   "cell_type": "code",
   "execution_count": 2,
   "metadata": {},
   "outputs": [],
   "source": [
    "from collections import Counter"
   ]
  },
  {
   "cell_type": "code",
   "execution_count": 3,
   "metadata": {},
   "outputs": [],
   "source": [
    "# всегда фиксируйте RANDOM_SEED, чтобы ваши эксперименты были воспроизводимы!\n",
    "RANDOM_SEED = 42"
   ]
  },
  {
   "cell_type": "code",
   "execution_count": 4,
   "metadata": {},
   "outputs": [],
   "source": [
    "# зафиксируем версию пакетов, чтобы эксперименты были воспроизводимы:\n",
    "!pip freeze > requirements.txt"
   ]
  },
  {
   "cell_type": "markdown",
   "execution_count": null,
   "metadata": {},
   "source": [
    "# DATA"
   ]
  },
  {
   "cell_type": "code",
   "execution_count": 5,
   "metadata": {
    "_cell_guid": "79c7e3d0-c299-4dcb-8224-4455121ee9b0",
    "_uuid": "d629ff2d2480ee46fbb7e2d37f6b5fab8052498a"
   },
   "outputs": [],
   "source": [
    "DATA_DIR = '/kaggle/input/sf-dst-restaurant-rating/'\n",
    "df_train = pd.read_csv(DATA_DIR+'/main_task.csv')\n",
    "df_test = pd.read_csv(DATA_DIR+'kaggle_task.csv')\n",
    "sample_submission = pd.read_csv(DATA_DIR+'/sample_submission.csv')"
   ]
  },
  {
   "cell_type": "code",
   "execution_count": 6,
   "metadata": {},
   "outputs": [
    {
     "name": "stdout",
     "output_type": "stream",
     "text": [
      "<class 'pandas.core.frame.DataFrame'>\n",
      "RangeIndex: 40000 entries, 0 to 39999\n",
      "Data columns (total 10 columns):\n",
      "Restaurant_id        40000 non-null object\n",
      "City                 40000 non-null object\n",
      "Cuisine Style        30717 non-null object\n",
      "Ranking              40000 non-null float64\n",
      "Rating               40000 non-null float64\n",
      "Price Range          26114 non-null object\n",
      "Number of Reviews    37457 non-null float64\n",
      "Reviews              40000 non-null object\n",
      "URL_TA               40000 non-null object\n",
      "ID_TA                40000 non-null object\n",
      "dtypes: float64(3), object(7)\n",
      "memory usage: 3.1+ MB\n"
     ]
    }
   ],
   "source": [
    "df_train.info()"
   ]
  },
  {
   "cell_type": "code",
   "execution_count": 7,
   "metadata": {},
   "outputs": [
    {
     "data": {
      "text/html": [
       "<div>\n",
       "<style scoped>\n",
       "    .dataframe tbody tr th:only-of-type {\n",
       "        vertical-align: middle;\n",
       "    }\n",
       "\n",
       "    .dataframe tbody tr th {\n",
       "        vertical-align: top;\n",
       "    }\n",
       "\n",
       "    .dataframe thead th {\n",
       "        text-align: right;\n",
       "    }\n",
       "</style>\n",
       "<table border=\"1\" class=\"dataframe\">\n",
       "  <thead>\n",
       "    <tr style=\"text-align: right;\">\n",
       "      <th></th>\n",
       "      <th>Restaurant_id</th>\n",
       "      <th>City</th>\n",
       "      <th>Cuisine Style</th>\n",
       "      <th>Ranking</th>\n",
       "      <th>Rating</th>\n",
       "      <th>Price Range</th>\n",
       "      <th>Number of Reviews</th>\n",
       "      <th>Reviews</th>\n",
       "      <th>URL_TA</th>\n",
       "      <th>ID_TA</th>\n",
       "    </tr>\n",
       "  </thead>\n",
       "  <tbody>\n",
       "    <tr>\n",
       "      <th>0</th>\n",
       "      <td>id_5569</td>\n",
       "      <td>Paris</td>\n",
       "      <td>['European', 'French', 'International']</td>\n",
       "      <td>5570.0</td>\n",
       "      <td>3.5</td>\n",
       "      <td>$$ - $$$</td>\n",
       "      <td>194.0</td>\n",
       "      <td>[['Good food at your doorstep', 'A good hotel ...</td>\n",
       "      <td>/Restaurant_Review-g187147-d1912643-Reviews-R_...</td>\n",
       "      <td>d1912643</td>\n",
       "    </tr>\n",
       "    <tr>\n",
       "      <th>1</th>\n",
       "      <td>id_1535</td>\n",
       "      <td>Stockholm</td>\n",
       "      <td>NaN</td>\n",
       "      <td>1537.0</td>\n",
       "      <td>4.0</td>\n",
       "      <td>NaN</td>\n",
       "      <td>10.0</td>\n",
       "      <td>[['Unique cuisine', 'Delicious Nepalese food']...</td>\n",
       "      <td>/Restaurant_Review-g189852-d7992032-Reviews-Bu...</td>\n",
       "      <td>d7992032</td>\n",
       "    </tr>\n",
       "    <tr>\n",
       "      <th>2</th>\n",
       "      <td>id_352</td>\n",
       "      <td>London</td>\n",
       "      <td>['Japanese', 'Sushi', 'Asian', 'Grill', 'Veget...</td>\n",
       "      <td>353.0</td>\n",
       "      <td>4.5</td>\n",
       "      <td>$$$$</td>\n",
       "      <td>688.0</td>\n",
       "      <td>[['Catch up with friends', 'Not exceptional'],...</td>\n",
       "      <td>/Restaurant_Review-g186338-d8632781-Reviews-RO...</td>\n",
       "      <td>d8632781</td>\n",
       "    </tr>\n",
       "    <tr>\n",
       "      <th>3</th>\n",
       "      <td>id_3456</td>\n",
       "      <td>Berlin</td>\n",
       "      <td>NaN</td>\n",
       "      <td>3458.0</td>\n",
       "      <td>5.0</td>\n",
       "      <td>NaN</td>\n",
       "      <td>3.0</td>\n",
       "      <td>[[], []]</td>\n",
       "      <td>/Restaurant_Review-g187323-d1358776-Reviews-Es...</td>\n",
       "      <td>d1358776</td>\n",
       "    </tr>\n",
       "    <tr>\n",
       "      <th>4</th>\n",
       "      <td>id_615</td>\n",
       "      <td>Munich</td>\n",
       "      <td>['German', 'Central European', 'Vegetarian Fri...</td>\n",
       "      <td>621.0</td>\n",
       "      <td>4.0</td>\n",
       "      <td>$$ - $$$</td>\n",
       "      <td>84.0</td>\n",
       "      <td>[['Best place to try a Bavarian food', 'Nice b...</td>\n",
       "      <td>/Restaurant_Review-g187309-d6864963-Reviews-Au...</td>\n",
       "      <td>d6864963</td>\n",
       "    </tr>\n",
       "  </tbody>\n",
       "</table>\n",
       "</div>"
      ],
      "text/plain": [
       "  Restaurant_id       City                                      Cuisine Style  \\\n",
       "0       id_5569      Paris            ['European', 'French', 'International']   \n",
       "1       id_1535  Stockholm                                                NaN   \n",
       "2        id_352     London  ['Japanese', 'Sushi', 'Asian', 'Grill', 'Veget...   \n",
       "3       id_3456     Berlin                                                NaN   \n",
       "4        id_615     Munich  ['German', 'Central European', 'Vegetarian Fri...   \n",
       "\n",
       "   Ranking  Rating Price Range  Number of Reviews  \\\n",
       "0   5570.0     3.5    $$ - $$$              194.0   \n",
       "1   1537.0     4.0         NaN               10.0   \n",
       "2    353.0     4.5        $$$$              688.0   \n",
       "3   3458.0     5.0         NaN                3.0   \n",
       "4    621.0     4.0    $$ - $$$               84.0   \n",
       "\n",
       "                                             Reviews  \\\n",
       "0  [['Good food at your doorstep', 'A good hotel ...   \n",
       "1  [['Unique cuisine', 'Delicious Nepalese food']...   \n",
       "2  [['Catch up with friends', 'Not exceptional'],...   \n",
       "3                                           [[], []]   \n",
       "4  [['Best place to try a Bavarian food', 'Nice b...   \n",
       "\n",
       "                                              URL_TA     ID_TA  \n",
       "0  /Restaurant_Review-g187147-d1912643-Reviews-R_...  d1912643  \n",
       "1  /Restaurant_Review-g189852-d7992032-Reviews-Bu...  d7992032  \n",
       "2  /Restaurant_Review-g186338-d8632781-Reviews-RO...  d8632781  \n",
       "3  /Restaurant_Review-g187323-d1358776-Reviews-Es...  d1358776  \n",
       "4  /Restaurant_Review-g187309-d6864963-Reviews-Au...  d6864963  "
      ]
     },
     "execution_count": 7,
     "metadata": {},
     "output_type": "execute_result"
    }
   ],
   "source": [
    "df_train.head(5)"
   ]
  },
  {
   "cell_type": "code",
   "execution_count": 8,
   "metadata": {},
   "outputs": [
    {
     "name": "stdout",
     "output_type": "stream",
     "text": [
      "<class 'pandas.core.frame.DataFrame'>\n",
      "RangeIndex: 10000 entries, 0 to 9999\n",
      "Data columns (total 9 columns):\n",
      "Restaurant_id        10000 non-null object\n",
      "City                 10000 non-null object\n",
      "Cuisine Style        7693 non-null object\n",
      "Ranking              10000 non-null float64\n",
      "Price Range          6525 non-null object\n",
      "Number of Reviews    9343 non-null float64\n",
      "Reviews              9998 non-null object\n",
      "URL_TA               10000 non-null object\n",
      "ID_TA                10000 non-null object\n",
      "dtypes: float64(2), object(7)\n",
      "memory usage: 703.2+ KB\n"
     ]
    }
   ],
   "source": [
    "df_test.info()"
   ]
  },
  {
   "cell_type": "code",
   "execution_count": 9,
   "metadata": {},
   "outputs": [
    {
     "data": {
      "text/html": [
       "<div>\n",
       "<style scoped>\n",
       "    .dataframe tbody tr th:only-of-type {\n",
       "        vertical-align: middle;\n",
       "    }\n",
       "\n",
       "    .dataframe tbody tr th {\n",
       "        vertical-align: top;\n",
       "    }\n",
       "\n",
       "    .dataframe thead th {\n",
       "        text-align: right;\n",
       "    }\n",
       "</style>\n",
       "<table border=\"1\" class=\"dataframe\">\n",
       "  <thead>\n",
       "    <tr style=\"text-align: right;\">\n",
       "      <th></th>\n",
       "      <th>Restaurant_id</th>\n",
       "      <th>City</th>\n",
       "      <th>Cuisine Style</th>\n",
       "      <th>Ranking</th>\n",
       "      <th>Price Range</th>\n",
       "      <th>Number of Reviews</th>\n",
       "      <th>Reviews</th>\n",
       "      <th>URL_TA</th>\n",
       "      <th>ID_TA</th>\n",
       "    </tr>\n",
       "  </thead>\n",
       "  <tbody>\n",
       "    <tr>\n",
       "      <th>0</th>\n",
       "      <td>id_0</td>\n",
       "      <td>Paris</td>\n",
       "      <td>['Bar', 'Pub']</td>\n",
       "      <td>12963.0</td>\n",
       "      <td>$$ - $$$</td>\n",
       "      <td>4.0</td>\n",
       "      <td>[[], []]</td>\n",
       "      <td>/Restaurant_Review-g187147-d10746918-Reviews-L...</td>\n",
       "      <td>d10746918</td>\n",
       "    </tr>\n",
       "    <tr>\n",
       "      <th>1</th>\n",
       "      <td>id_1</td>\n",
       "      <td>Helsinki</td>\n",
       "      <td>['European', 'Scandinavian', 'Gluten Free Opti...</td>\n",
       "      <td>106.0</td>\n",
       "      <td>$$ - $$$</td>\n",
       "      <td>97.0</td>\n",
       "      <td>[['Very good reviews!', 'Fine dining in Hakani...</td>\n",
       "      <td>/Restaurant_Review-g189934-d6674944-Reviews-Ra...</td>\n",
       "      <td>d6674944</td>\n",
       "    </tr>\n",
       "    <tr>\n",
       "      <th>2</th>\n",
       "      <td>id_2</td>\n",
       "      <td>Edinburgh</td>\n",
       "      <td>['Vegetarian Friendly']</td>\n",
       "      <td>810.0</td>\n",
       "      <td>$$ - $$$</td>\n",
       "      <td>28.0</td>\n",
       "      <td>[['Better than the Links', 'Ivy Black'], ['12/...</td>\n",
       "      <td>/Restaurant_Review-g186525-d13129638-Reviews-B...</td>\n",
       "      <td>d13129638</td>\n",
       "    </tr>\n",
       "    <tr>\n",
       "      <th>3</th>\n",
       "      <td>id_3</td>\n",
       "      <td>London</td>\n",
       "      <td>['Italian', 'Mediterranean', 'European', 'Vege...</td>\n",
       "      <td>1669.0</td>\n",
       "      <td>$$$$</td>\n",
       "      <td>202.0</td>\n",
       "      <td>[['Most exquisite', 'Delicious and authentic']...</td>\n",
       "      <td>/Restaurant_Review-g186338-d680417-Reviews-Qui...</td>\n",
       "      <td>d680417</td>\n",
       "    </tr>\n",
       "    <tr>\n",
       "      <th>4</th>\n",
       "      <td>id_4</td>\n",
       "      <td>Bratislava</td>\n",
       "      <td>['Italian', 'Mediterranean', 'European', 'Seaf...</td>\n",
       "      <td>37.0</td>\n",
       "      <td>$$$$</td>\n",
       "      <td>162.0</td>\n",
       "      <td>[['Always the best in bratislava', 'Very good ...</td>\n",
       "      <td>/Restaurant_Review-g274924-d1112354-Reviews-Ma...</td>\n",
       "      <td>d1112354</td>\n",
       "    </tr>\n",
       "  </tbody>\n",
       "</table>\n",
       "</div>"
      ],
      "text/plain": [
       "  Restaurant_id        City  \\\n",
       "0          id_0       Paris   \n",
       "1          id_1    Helsinki   \n",
       "2          id_2   Edinburgh   \n",
       "3          id_3      London   \n",
       "4          id_4  Bratislava   \n",
       "\n",
       "                                       Cuisine Style  Ranking Price Range  \\\n",
       "0                                     ['Bar', 'Pub']  12963.0    $$ - $$$   \n",
       "1  ['European', 'Scandinavian', 'Gluten Free Opti...    106.0    $$ - $$$   \n",
       "2                            ['Vegetarian Friendly']    810.0    $$ - $$$   \n",
       "3  ['Italian', 'Mediterranean', 'European', 'Vege...   1669.0        $$$$   \n",
       "4  ['Italian', 'Mediterranean', 'European', 'Seaf...     37.0        $$$$   \n",
       "\n",
       "   Number of Reviews                                            Reviews  \\\n",
       "0                4.0                                           [[], []]   \n",
       "1               97.0  [['Very good reviews!', 'Fine dining in Hakani...   \n",
       "2               28.0  [['Better than the Links', 'Ivy Black'], ['12/...   \n",
       "3              202.0  [['Most exquisite', 'Delicious and authentic']...   \n",
       "4              162.0  [['Always the best in bratislava', 'Very good ...   \n",
       "\n",
       "                                              URL_TA      ID_TA  \n",
       "0  /Restaurant_Review-g187147-d10746918-Reviews-L...  d10746918  \n",
       "1  /Restaurant_Review-g189934-d6674944-Reviews-Ra...   d6674944  \n",
       "2  /Restaurant_Review-g186525-d13129638-Reviews-B...  d13129638  \n",
       "3  /Restaurant_Review-g186338-d680417-Reviews-Qui...    d680417  \n",
       "4  /Restaurant_Review-g274924-d1112354-Reviews-Ma...   d1112354  "
      ]
     },
     "execution_count": 9,
     "metadata": {},
     "output_type": "execute_result"
    }
   ],
   "source": [
    "df_test.head(5)"
   ]
  },
  {
   "cell_type": "code",
   "execution_count": 10,
   "metadata": {},
   "outputs": [
    {
     "data": {
      "text/html": [
       "<div>\n",
       "<style scoped>\n",
       "    .dataframe tbody tr th:only-of-type {\n",
       "        vertical-align: middle;\n",
       "    }\n",
       "\n",
       "    .dataframe tbody tr th {\n",
       "        vertical-align: top;\n",
       "    }\n",
       "\n",
       "    .dataframe thead th {\n",
       "        text-align: right;\n",
       "    }\n",
       "</style>\n",
       "<table border=\"1\" class=\"dataframe\">\n",
       "  <thead>\n",
       "    <tr style=\"text-align: right;\">\n",
       "      <th></th>\n",
       "      <th>Restaurant_id</th>\n",
       "      <th>Rating</th>\n",
       "    </tr>\n",
       "  </thead>\n",
       "  <tbody>\n",
       "    <tr>\n",
       "      <th>0</th>\n",
       "      <td>id_0</td>\n",
       "      <td>2.0</td>\n",
       "    </tr>\n",
       "    <tr>\n",
       "      <th>1</th>\n",
       "      <td>id_1</td>\n",
       "      <td>2.5</td>\n",
       "    </tr>\n",
       "    <tr>\n",
       "      <th>2</th>\n",
       "      <td>id_2</td>\n",
       "      <td>4.0</td>\n",
       "    </tr>\n",
       "    <tr>\n",
       "      <th>3</th>\n",
       "      <td>id_3</td>\n",
       "      <td>1.0</td>\n",
       "    </tr>\n",
       "    <tr>\n",
       "      <th>4</th>\n",
       "      <td>id_4</td>\n",
       "      <td>4.0</td>\n",
       "    </tr>\n",
       "  </tbody>\n",
       "</table>\n",
       "</div>"
      ],
      "text/plain": [
       "  Restaurant_id  Rating\n",
       "0          id_0     2.0\n",
       "1          id_1     2.5\n",
       "2          id_2     4.0\n",
       "3          id_3     1.0\n",
       "4          id_4     4.0"
      ]
     },
     "execution_count": 10,
     "metadata": {},
     "output_type": "execute_result"
    }
   ],
   "source": [
    "sample_submission.head(5)"
   ]
  },
  {
   "cell_type": "code",
   "execution_count": 11,
   "metadata": {},
   "outputs": [
    {
     "name": "stdout",
     "output_type": "stream",
     "text": [
      "<class 'pandas.core.frame.DataFrame'>\n",
      "RangeIndex: 10000 entries, 0 to 9999\n",
      "Data columns (total 2 columns):\n",
      "Restaurant_id    10000 non-null object\n",
      "Rating           10000 non-null float64\n",
      "dtypes: float64(1), object(1)\n",
      "memory usage: 156.4+ KB\n"
     ]
    }
   ],
   "source": [
    "sample_submission.info()"
   ]
  },
  {
   "cell_type": "code",
   "execution_count": 12,
   "metadata": {},
   "outputs": [],
   "source": [
    "# ВАЖНО! дря корректной обработки признаков объединяем трейн и тест в один датасет\n",
    "df_train['sample'] = 1 # помечаем где у нас трейн\n",
    "df_test['sample'] = 0 # помечаем где у нас тест\n",
    "df_test['Rating'] = 0 # в тесте у нас нет значения Rating, мы его должны предсказать, по этому пока просто заполняем нулями\n",
    "\n",
    "data = df_test.append(df_train, sort=False).reset_index(drop=True) # объединяем"
   ]
  },
  {
   "cell_type": "code",
   "execution_count": 13,
   "metadata": {},
   "outputs": [
    {
     "name": "stdout",
     "output_type": "stream",
     "text": [
      "<class 'pandas.core.frame.DataFrame'>\n",
      "RangeIndex: 50000 entries, 0 to 49999\n",
      "Data columns (total 11 columns):\n",
      "Restaurant_id        50000 non-null object\n",
      "City                 50000 non-null object\n",
      "Cuisine Style        38410 non-null object\n",
      "Ranking              50000 non-null float64\n",
      "Price Range          32639 non-null object\n",
      "Number of Reviews    46800 non-null float64\n",
      "Reviews              49998 non-null object\n",
      "URL_TA               50000 non-null object\n",
      "ID_TA                50000 non-null object\n",
      "sample               50000 non-null int64\n",
      "Rating               50000 non-null float64\n",
      "dtypes: float64(3), int64(1), object(7)\n",
      "memory usage: 4.2+ MB\n"
     ]
    }
   ],
   "source": [
    "data.info()"
   ]
  },
  {
   "cell_type": "markdown",
   "execution_count": null,
   "metadata": {},
   "source": [
    "Подробнее по признакам:\n",
    "* City: Город \n",
    "* Cuisine Style: Кухня\n",
    "* Ranking: Ранг ресторана относительно других ресторанов в этом городе\n",
    "* Price Range: Цены в ресторане в 3 категориях\n",
    "* Number of Reviews: Количество отзывов\n",
    "* Reviews: 2 последних отзыва и даты этих отзывов\n",
    "* URL_TA: страница ресторана на 'www.tripadvisor.com' \n",
    "* ID_TA: ID ресторана в TripAdvisor\n",
    "* Rating: Рейтинг ресторана"
   ]
  },
  {
   "cell_type": "code",
   "execution_count": 14,
   "metadata": {},
   "outputs": [
    {
     "data": {
      "text/html": [
       "<div>\n",
       "<style scoped>\n",
       "    .dataframe tbody tr th:only-of-type {\n",
       "        vertical-align: middle;\n",
       "    }\n",
       "\n",
       "    .dataframe tbody tr th {\n",
       "        vertical-align: top;\n",
       "    }\n",
       "\n",
       "    .dataframe thead th {\n",
       "        text-align: right;\n",
       "    }\n",
       "</style>\n",
       "<table border=\"1\" class=\"dataframe\">\n",
       "  <thead>\n",
       "    <tr style=\"text-align: right;\">\n",
       "      <th></th>\n",
       "      <th>Restaurant_id</th>\n",
       "      <th>City</th>\n",
       "      <th>Cuisine Style</th>\n",
       "      <th>Ranking</th>\n",
       "      <th>Price Range</th>\n",
       "      <th>Number of Reviews</th>\n",
       "      <th>Reviews</th>\n",
       "      <th>URL_TA</th>\n",
       "      <th>ID_TA</th>\n",
       "      <th>sample</th>\n",
       "      <th>Rating</th>\n",
       "    </tr>\n",
       "  </thead>\n",
       "  <tbody>\n",
       "    <tr>\n",
       "      <th>18975</th>\n",
       "      <td>id_3746</td>\n",
       "      <td>Rome</td>\n",
       "      <td>['American', 'Bar', 'Pub']</td>\n",
       "      <td>3747.0</td>\n",
       "      <td>$$ - $$$</td>\n",
       "      <td>338.0</td>\n",
       "      <td>[['Simple and good', 'The best Tex-mex'], ['09...</td>\n",
       "      <td>/Restaurant_Review-g187791-d2390005-Reviews-Cr...</td>\n",
       "      <td>d2390005</td>\n",
       "      <td>1</td>\n",
       "      <td>3.5</td>\n",
       "    </tr>\n",
       "  </tbody>\n",
       "</table>\n",
       "</div>"
      ],
      "text/plain": [
       "      Restaurant_id  City               Cuisine Style  Ranking Price Range  \\\n",
       "18975       id_3746  Rome  ['American', 'Bar', 'Pub']   3747.0    $$ - $$$   \n",
       "\n",
       "       Number of Reviews                                            Reviews  \\\n",
       "18975              338.0  [['Simple and good', 'The best Tex-mex'], ['09...   \n",
       "\n",
       "                                                  URL_TA     ID_TA  sample  \\\n",
       "18975  /Restaurant_Review-g187791-d2390005-Reviews-Cr...  d2390005       1   \n",
       "\n",
       "       Rating  \n",
       "18975     3.5  "
      ]
     },
     "execution_count": 14,
     "metadata": {},
     "output_type": "execute_result"
    }
   ],
   "source": [
    "data.sample()"
   ]
  },
  {
   "cell_type": "code",
   "execution_count": 15,
   "metadata": {},
   "outputs": [
    {
     "data": {
      "text/plain": [
       "'[[], []]'"
      ]
     },
     "execution_count": 15,
     "metadata": {},
     "output_type": "execute_result"
    }
   ],
   "source": [
    "data.Reviews[40554]"
   ]
  },
  {
   "cell_type": "markdown",
   "execution_count": null,
   "metadata": {},
   "source": [
    "Как видим, большинство признаков у нас требует очистки и предварительной обработки."
   ]
  },
  {
   "cell_type": "markdown",
   "execution_count": null,
   "metadata": {},
   "source": [
    "## 1. Обработка NAN \n",
    "У наличия пропусков могут быть разные причины, но пропуски нужно либо заполнить, либо исключить из набора полностью. Но с пропусками нужно быть внимательным, **даже отсутствие информации может быть важным признаком!**   \n",
    "По этому перед обработкой NAN лучше вынести информацию о наличии пропуска как отдельный признак "
   ]
  },
  {
   "cell_type": "code",
   "execution_count": 16,
   "metadata": {},
   "outputs": [],
   "source": [
    "# Незаполнены признаки: Number of Reviews, Cuisine Style, Price Range, Reviews\n",
    "data['Number_of_Reviews_isNAN'] = pd.isna(data['Number of Reviews']).astype('uint8')\n",
    "data['Cuisine Style_isNAN'] = pd.isna(data['Cuisine Style']).astype('uint8')\n",
    "data['Price Range_isNAN'] = pd.isna(data['Price Range']).astype('uint8')\n",
    "data['Reviews_isNAN'] = pd.isna(data['Reviews']).astype('uint8')"
   ]
  },
  {
   "cell_type": "code",
   "execution_count": 17,
   "metadata": {},
   "outputs": [],
   "source": [
    "cities_lst = list(data.City.unique())"
   ]
  },
  {
   "cell_type": "code",
   "execution_count": 18,
   "metadata": {},
   "outputs": [],
   "source": [
    "# Небольшая подготовка:\n",
    "city_no_rev = data.groupby('City').agg({'Number of Reviews':'median'})['Number of Reviews'].to_dict()"
   ]
  },
  {
   "cell_type": "code",
   "execution_count": 19,
   "metadata": {},
   "outputs": [],
   "source": [
    "# Заполняем число отзывов медианным по городу, там, где оно пропущено\n",
    "for city in cities_lst:\n",
    "    mask = (data.City == city) & data['Number of Reviews'].isna()\n",
    "    data.loc[mask, 'Number of Reviews'] = city_no_rev[city]"
   ]
  },
  {
   "cell_type": "code",
   "execution_count": 20,
   "metadata": {},
   "outputs": [],
   "source": [
    "# по опыту посещения европейских ресторанов делаем признак Price Range ординальным с правильным соотношением цен:\n",
    "data['Price Range'] = data['Price Range'].map({'$': 1, '$$ - $$$': 2, '$$$$': 6})"
   ]
  },
  {
   "cell_type": "code",
   "execution_count": 21,
   "metadata": {},
   "outputs": [],
   "source": [
    "# выясняем средний ценовой уровень в зависимости от города \n",
    "city_price = data.groupby('City').agg({'Price Range':'mean'})['Price Range'].to_dict()\n",
    "# получается, что в городах рестораны всреднем имеют более высокую ценовую категорию, а в Португалии и Польше они подешевле."
   ]
  },
  {
   "cell_type": "code",
   "execution_count": 22,
   "metadata": {},
   "outputs": [],
   "source": [
    "# Заполняем ценовой уровень средним по городу, там, где оно пропущено\n",
    "for city in cities_lst:\n",
    "    mask = (data.City == city) & data['Price Range'].isna()\n",
    "    data.loc[mask, 'Price Range'] = city_price[city]"
   ]
  },
  {
   "cell_type": "code",
   "execution_count": 23,
   "metadata": {},
   "outputs": [],
   "source": [
    "# я не знаю, как заполнить отзывы какими-то средними по городу, поэтому заполняем пустым значением\n",
    "data['Reviews'].fillna('\"[[], []]\"',inplace=True)"
   ]
  },
  {
   "cell_type": "code",
   "execution_count": 24,
   "metadata": {},
   "outputs": [],
   "source": [
    "# Почитал по ссылкам о ресторанах, в записях о которых не заполнен признак \"Cuisine Style\". Выяснилось, что это может быть все, что угодно - кофейни, бары, \n",
    "# фастфуды, недорогие столовые и буфеты самообслуживания. Поэтому решил для них сделать отдельное значение признака 'Random'.\n",
    "data['Cuisine Style'].fillna(\"['Random']\", inplace=True)\n"
   ]
  },
  {
   "cell_type": "code",
   "execution_count": 25,
   "metadata": {},
   "outputs": [
    {
     "name": "stdout",
     "output_type": "stream",
     "text": [
      "<class 'pandas.core.frame.DataFrame'>\n",
      "RangeIndex: 50000 entries, 0 to 49999\n",
      "Data columns (total 15 columns):\n",
      "Restaurant_id              50000 non-null object\n",
      "City                       50000 non-null object\n",
      "Cuisine Style              50000 non-null object\n",
      "Ranking                    50000 non-null float64\n",
      "Price Range                50000 non-null float64\n",
      "Number of Reviews          50000 non-null float64\n",
      "Reviews                    50000 non-null object\n",
      "URL_TA                     50000 non-null object\n",
      "ID_TA                      50000 non-null object\n",
      "sample                     50000 non-null int64\n",
      "Rating                     50000 non-null float64\n",
      "Number_of_Reviews_isNAN    50000 non-null uint8\n",
      "Cuisine Style_isNAN        50000 non-null uint8\n",
      "Price Range_isNAN          50000 non-null uint8\n",
      "Reviews_isNAN              50000 non-null uint8\n",
      "dtypes: float64(4), int64(1), object(6), uint8(4)\n",
      "memory usage: 4.4+ MB\n"
     ]
    }
   ],
   "source": [
    "# данные готовы к обработке\n",
    "data.info()"
   ]
  },
  {
   "cell_type": "markdown",
   "execution_count": null,
   "metadata": {},
   "source": [
    "### 2. Обработка признаков\n"
   ]
  },
  {
   "cell_type": "code",
   "execution_count": 26,
   "metadata": {},
   "outputs": [],
   "source": [
    "# тут мой код обработки признаков\n",
    "# сначала разбираем Cuisine Style в список названий\n",
    "data['Cuisine Style'] = data['Cuisine Style'].apply(\n",
    "    lambda row: list(cusine[1:-1] for cusine in row[1:-1].strip().split(', ')))"
   ]
  },
  {
   "cell_type": "code",
   "execution_count": 27,
   "metadata": {},
   "outputs": [
    {
     "data": {
      "text/plain": [
       "126"
      ]
     },
     "execution_count": 27,
     "metadata": {},
     "output_type": "execute_result"
    }
   ],
   "source": [
    "# Нахожу общее число стилей кухни (включая Random)\n",
    "len(np.unique(np.hstack(data['Cuisine Style'])))"
   ]
  },
  {
   "cell_type": "code",
   "execution_count": 28,
   "metadata": {},
   "outputs": [],
   "source": [
    "# И список всех стилей кухни.\n",
    "all_cuisine = list(cuisine[0] for cuisine in Counter(\n",
    "    np.hstack(data['Cuisine Style'])).most_common())"
   ]
  },
  {
   "cell_type": "code",
   "execution_count": 29,
   "metadata": {},
   "outputs": [],
   "source": [
    "# разбираем  ID_TA\n",
    "data['ID_TA'] = data['ID_TA'].apply(lambda row: row[1:]).apply(int)"
   ]
  },
  {
   "cell_type": "code",
   "execution_count": 30,
   "metadata": {},
   "outputs": [
    {
     "data": {
      "text/plain": [
       "2477531     2\n",
       "11921719    2\n",
       "3161682     2\n",
       "793170      2\n",
       "5617412     2\n",
       "Name: ID_TA, dtype: int64"
      ]
     },
     "execution_count": 30,
     "metadata": {},
     "output_type": "execute_result"
    }
   ],
   "source": [
    "# выясняем, что здесь происходит\n",
    "data['ID_TA'].value_counts().head()"
   ]
  },
  {
   "cell_type": "code",
   "execution_count": 31,
   "metadata": {},
   "outputs": [
    {
     "data": {
      "text/plain": [
       "'/Restaurant_Review-g187514-d2477531-Reviews-Haya_19-Madrid.html'"
      ]
     },
     "execution_count": 31,
     "metadata": {},
     "output_type": "execute_result"
    }
   ],
   "source": [
    "data['URL_TA'][18421]"
   ]
  },
  {
   "cell_type": "code",
   "execution_count": 32,
   "metadata": {},
   "outputs": [
    {
     "data": {
      "text/plain": [
       "'/Restaurant_Review-g187514-d2477531-Reviews-Haya_19-Madrid.html'"
      ]
     },
     "execution_count": 32,
     "metadata": {},
     "output_type": "execute_result"
    }
   ],
   "source": [
    "data['URL_TA'][34545]"
   ]
  },
  {
   "cell_type": "markdown",
   "execution_count": null,
   "metadata": {},
   "source": [
    "> > Мы видим. что в базе есть две записи про один и тот же ресторан ( и таких дубликатов много - 37 записей ). В них различается только Ranking и Restaurant_id."
   ]
  },
  {
   "cell_type": "code",
   "execution_count": 33,
   "metadata": {},
   "outputs": [],
   "source": [
    "# формируем список таких дубликатов\n",
    "id_ta_duplicates = data['ID_TA'].value_counts().head(37).index.tolist()"
   ]
  },
  {
   "cell_type": "code",
   "execution_count": 34,
   "metadata": {},
   "outputs": [],
   "source": [
    "# и присваиваем единицы только дубликатным записям\n",
    "data['duplicate_ID_TA'] = data['ID_TA'].apply(lambda row: row in id_ta_duplicates).astype('uint8')"
   ]
  },
  {
   "cell_type": "code",
   "execution_count": 35,
   "metadata": {},
   "outputs": [
    {
     "data": {
      "text/plain": [
       "17"
      ]
     },
     "execution_count": 35,
     "metadata": {},
     "output_type": "execute_result"
    }
   ],
   "source": [
    "# выясняем, что 17 дубликатных записей находятся в тестовом датасете. Удалять мы их не будем.\n",
    "len(data[(data['duplicate_ID_TA']==1)&(data['sample']==0)])"
   ]
  },
  {
   "cell_type": "code",
   "execution_count": 36,
   "metadata": {},
   "outputs": [],
   "source": [
    "# парсить базу мы не будем, поэтому используем признак URL_TA, чтобы записать туда цифровой идентификатор из адресной строки.\n",
    "data['URL_TA'] = data['URL_TA'].apply(lambda row: row.split('-')[1]).apply(lambda row: row[1:]).apply(int)"
   ]
  },
  {
   "cell_type": "code",
   "execution_count": 37,
   "metadata": {},
   "outputs": [
    {
     "data": {
      "text/plain": [
       "1080937    2\n",
       "3284927    1\n",
       "1080936    1\n",
       "1439609    1\n",
       "6919449    1\n",
       "Name: URL_TA, dtype: int64"
      ]
     },
     "execution_count": 37,
     "metadata": {},
     "output_type": "execute_result"
    }
   ],
   "source": [
    "# видим, что только 4 ресторана из объединенного датасета имеют уникальное значение признака, остальные, видимо, сетевые.\n",
    "# Буду надеяться, что модель сама обнаружит какие рестораны по этому признаку одинаковы.\n",
    "data['URL_TA'].value_counts().tail(5)"
   ]
  },
  {
   "cell_type": "code",
   "execution_count": 38,
   "metadata": {},
   "outputs": [],
   "source": [
    "# Обогащаем данные новым признаком - страной с помощью самодельного словаря:\n",
    "    countries = {'Amsterdam': 'Netherlands',\n",
    "             'Athens': 'Greece',\n",
    "             'Barcelona': 'Spain',\n",
    "             'Berlin': 'Germany',\n",
    "             'Bratislava': 'Slovakia',\n",
    "             'Brussels': 'Belgium',\n",
    "             'Budapest': 'Hungary',\n",
    "             'Copenhagen': 'Denmark',\n",
    "             'Dublin': 'Ireland',\n",
    "             'Edinburgh': 'United Kingdom',\n",
    "             'Geneva': 'Switzerland',\n",
    "             'Hamburg': 'Germany',\n",
    "             'Helsinki': 'Finland',\n",
    "             'Krakow': 'Poland',\n",
    "             'Lisbon': 'Portugal',\n",
    "             'Ljubljana': 'Slovenia',\n",
    "             'London': 'United Kingdom',\n",
    "             'Luxembourg': 'Luxembourg',\n",
    "             'Lyon': 'France',\n",
    "             'Madrid': 'Spain',\n",
    "             'Milan': 'Italy',\n",
    "             'Munich': 'Germany',\n",
    "             'Oporto': 'Portugal',\n",
    "             'Oslo': 'Norway',\n",
    "             'Paris': 'France',\n",
    "             'Prague': 'Czechia',\n",
    "             'Rome': 'Italy',\n",
    "             'Stockholm': 'Sweden',\n",
    "             'Vienna': 'Austria',\n",
    "             'Warsaw': 'Poland',\n",
    "             'Zurich': 'Switzerland'}"
   ]
  },
  {
   "cell_type": "code",
   "execution_count": 39,
   "metadata": {},
   "outputs": [],
   "source": [
    "# создаем новый признак\n",
    "data['Country'] = data['City'].map(countries)"
   ]
  },
  {
   "cell_type": "code",
   "execution_count": 40,
   "metadata": {},
   "outputs": [],
   "source": [
    "# некоторые из наших городов = столицы стран, куда приезжает больше туристов и бизнесменов, надо их пометить с помощью списка столиц:\n",
    "capitals = ['Paris', 'Stockholm', 'London', 'Berlin',\n",
    "       'Bratislava', 'Vienna', 'Rome', 'Madrid',\n",
    "       'Dublin', 'Brussels', 'Warsaw', 'Budapest', 'Copenhagen',\n",
    "       'Amsterdam', 'Lisbon', 'Prague', 'Oslo',\n",
    "       'Helsinki', 'Ljubljana', 'Athens', 'Luxembourg']"
   ]
  },
  {
   "cell_type": "code",
   "execution_count": 41,
   "metadata": {},
   "outputs": [],
   "source": [
    "# новый признак назовем is_capital\n",
    "data['is_capital'] = data['City'].apply(lambda row: row in capitals).astype('uint8')"
   ]
  },
  {
   "cell_type": "code",
   "execution_count": 42,
   "metadata": {},
   "outputs": [
    {
     "data": {
      "text/plain": [
       "0.74476"
      ]
     },
     "execution_count": 42,
     "metadata": {},
     "output_type": "execute_result"
    }
   ],
   "source": [
    "# почти три четверти ресторанов находятся в столицах.\n",
    "data['is_capital'].mean()"
   ]
  },
  {
   "cell_type": "code",
   "execution_count": 43,
   "metadata": {},
   "outputs": [],
   "source": [
    "# не лишне будет знать население наших городов. Словарик создадим с помощью Википедии, как и список столиц\n",
    "# https://en.wikipedia.org/wiki/List_of_cities_in_the_European_Union_by_population_within_city_limits\n",
    "population = {\n",
    "    'London': 9304016, \n",
    "    'Paris': 2140526, \n",
    "    'Madrid': 3348536,\n",
    "    'Barcelona': 1620343,\n",
    "    'Berlin': 3748148,\n",
    "    'Milan': 1404239,\n",
    "    'Rome': 2856133,\n",
    "    'Prague': 1324277,\n",
    "    'Lisbon': 506654,\n",
    "    'Vienna': 1911728,\n",
    "    'Amsterdam': 873555,\n",
    "    'Brussels': 1209000,\n",
    "    'Hamburg': 1841179,\n",
    "    'Munich': 1471508,\n",
    "    'Lyon': 515695,\n",
    "    'Stockholm': 974073,\n",
    "    'Budapest': 1752286,\n",
    "    'Warsaw': 1790658,\n",
    "    'Dublin': 554554,\n",
    "    'Copenhagen': 626508,\n",
    "    'Athens': 664046,\n",
    "    'Edinburgh': 524930,\n",
    "    'Zurich': 415367,\n",
    "    'Oporto': 237559,\n",
    "    'Geneva': 201818,\n",
    "    'Krakow': 779115,\n",
    "    'Oslo': 693491,\n",
    "    'Helsinki': 648042,\n",
    "    'Bratislava': 432864,\n",
    "    'Luxembourg': 613894,\n",
    "    'Ljubljana': 292988\n",
    "}"
   ]
  },
  {
   "cell_type": "code",
   "execution_count": 44,
   "metadata": {},
   "outputs": [],
   "source": [
    "# немного поработав над данными Евростата, получаем словарь, сколько в среднем тратит в год житель каждой страны на рестораны:\n",
    "money_for_rest_by_country = {'Belgium': 1280.0,\n",
    "                             'Bulgaria': 350.0,\n",
    "                             'Czechia': 840.0,\n",
    "                             'Denmark': 1500.0,\n",
    "                             'Germany': 1100.0,\n",
    "                             'Estonia': 830.0,\n",
    "                             'Ireland': 3350.0,\n",
    "                             'Greece': 1425.0,\n",
    "                             'Spain': 2270.0,\n",
    "                             'France': 1370.0,\n",
    "                             'Italy': 1820.0,\n",
    "                             'Cyprus': 2940.0,\n",
    "                             'Latvia': 600.0,\n",
    "                             'Lithuania': 410.0,\n",
    "                             'Luxembourg': 2350.0,\n",
    "                             'Hungary': 630.0,\n",
    "                             'Malta': 2820.0,\n",
    "                             'Netherlands': 1690.0,\n",
    "                             'Austria': 3080.0,\n",
    "                             'Poland': 270.0,\n",
    "                             'Portugal': 1800.0,\n",
    "                             'Romania': 210.0,\n",
    "                             'Slovenia': 930.0,\n",
    "                             'Slovakia': 550.0,\n",
    "                             'Finland': 1430.0,\n",
    "                             'Sweden': 1420.0,\n",
    "                             'United Kingdom': 2120.0,\n",
    "                             'Iceland': 4710.0,\n",
    "                             'Norway': 1940.0,\n",
    "                             'Switzerland': 1425.0}"
   ]
  },
  {
   "cell_type": "code",
   "execution_count": 45,
   "metadata": {},
   "outputs": [],
   "source": [
    "# если еще немного постараться, то можно посчитать, сколько денег тратят на рестораны в год все жители каждого из наших городов:\n",
    "rest_market_value = dict(((city), (population[city] * money_for_rest_by_country[countries[city]])) for city in cities_lst)"
   ]
  },
  {
   "cell_type": "code",
   "execution_count": 46,
   "metadata": {},
   "outputs": [
    {
     "data": {
      "text/plain": [
       "31"
      ]
     },
     "execution_count": 46,
     "metadata": {},
     "output_type": "execute_result"
    }
   ],
   "source": [
    "# проверка показала, что мы охватили все города\n",
    "len(rest_market_value)"
   ]
  },
  {
   "cell_type": "code",
   "execution_count": 47,
   "metadata": {},
   "outputs": [],
   "source": [
    "# для создания нескольких признаков надо еще немного потрудиться:? создать словарь количества ресторанов по городам:\n",
    "no_rests_by_city = data.groupby('City').agg({'Ranking':'count'})['Ranking'].to_dict()"
   ]
  },
  {
   "cell_type": "code",
   "execution_count": 48,
   "metadata": {},
   "outputs": [],
   "source": [
    "# надеюсь, что признаки money_by_rest и population_by_rest будут полезны, а пронормированный по числу ресторанов Ranking_norm точно пригодится:\n",
    "data['Total_no_of_rests'] = data['City'].map(no_rests_by_city)\n",
    "data['Ranking_norm'] = data['Ranking'] / data['Total_no_of_rests']\n",
    "data['population'] = data['City'].map(population)\n",
    "data['population_by_rest'] = data['population'] / data['Total_no_of_rests']\n",
    "data['rest_market_value'] = data['City'].map(rest_market_value)\n",
    "data['money_by_rest'] = data['rest_market_value'] /( data['Total_no_of_rests']*1000000)\n",
    "data.drop(['Total_no_of_rests','rest_market_value'], axis = 1, inplace=True)\n",
    "# сохраняем population\n",
    "data['population'] = data['population'] / 100000"
   ]
  },
  {
   "cell_type": "code",
   "execution_count": 49,
   "metadata": {},
   "outputs": [
    {
     "data": {
      "text/plain": [
       "46879    0.480111\n",
       "15645    0.480111\n",
       "15424    4.080473\n",
       "49533    0.553720\n",
       "40400    0.480111\n",
       "34779    1.524201\n",
       "29807    0.480111\n",
       "21864    1.524201\n",
       "25642    1.083410\n",
       "41962    2.742182\n",
       "Name: money_by_rest, dtype: float64"
      ]
     },
     "execution_count": 49,
     "metadata": {},
     "output_type": "execute_result"
    }
   ],
   "source": [
    "data['money_by_rest'].sample(10)"
   ]
  },
  {
   "cell_type": "code",
   "execution_count": 50,
   "metadata": {},
   "outputs": [],
   "source": [
    "# разберемся со стилями кухни: например, интересно их количество\n",
    "data['No of cuicins'] = data['Cuisine Style'].apply(len)"
   ]
  },
  {
   "cell_type": "code",
   "execution_count": 51,
   "metadata": {},
   "outputs": [
    {
     "data": {
      "text/plain": [
       "2.62532"
      ]
     },
     "execution_count": 51,
     "metadata": {},
     "output_type": "execute_result"
    }
   ],
   "source": [
    "# в среднем 2.6 стилей на ресторан, включая Random\n",
    "data['No of cuicins'].mean()"
   ]
  },
  {
   "cell_type": "code",
   "execution_count": 52,
   "metadata": {},
   "outputs": [],
   "source": [
    "cuisines = Counter(data['Cuisine Style'].sum()).most_common(126)"
   ]
  },
  {
   "cell_type": "code",
   "execution_count": 53,
   "metadata": {},
   "outputs": [
    {
     "data": {
      "text/plain": [
       "[('Salvadoran', 1), ('Xinjiang', 1), ('Burmese', 1), ('Latvian', 1)]"
      ]
     },
     "execution_count": 53,
     "metadata": {},
     "output_type": "execute_result"
    }
   ],
   "source": [
    "# среди них есть очень редкие кухни. \n",
    "cuisines[122:]"
   ]
  },
  {
   "cell_type": "code",
   "execution_count": 54,
   "metadata": {},
   "outputs": [],
   "source": [
    "# Для каждого города найдем список редких кухонь - в каждом городе он свой. Потом пометим рестораны с редкими кухнями\n",
    "rare_cusines = {}\n",
    "for city in cities_lst:\n",
    "    cnt = Counter(data[data['City']==city]['Cuisine Style'].values.sum()).most_common()\n",
    "    rare_cusines[city] = []\n",
    "    for cuisine, no in cnt:\n",
    "        if no==1:\n",
    "            rare_cusines[city].append(cuisine)"
   ]
  },
  {
   "cell_type": "code",
   "execution_count": 55,
   "metadata": {},
   "outputs": [
    {
     "data": {
      "text/plain": [
       "{'Paris': ['Filipino',\n",
       "  'Norwegian',\n",
       "  'Hungarian',\n",
       "  'Mongolian',\n",
       "  'Scottish',\n",
       "  'Southwestern',\n",
       "  'Armenian',\n",
       "  'Xinjiang',\n",
       "  'Native American',\n",
       "  'Hawaiian',\n",
       "  'Dutch'],\n",
       " 'Helsinki': ['Irish',\n",
       "  'Singaporean',\n",
       "  'Malaysian',\n",
       "  'Australian',\n",
       "  'Gastropub',\n",
       "  'Belgian',\n",
       "  'Israeli',\n",
       "  'Kosher',\n",
       "  'German',\n",
       "  'Peruvian',\n",
       "  'Egyptian',\n",
       "  'Afghani',\n",
       "  'Brazilian',\n",
       "  'Grill',\n",
       "  'Caucasian',\n",
       "  'Czech',\n",
       "  'Ethiopian'],\n",
       " 'Edinburgh': ['Argentinean',\n",
       "  'Irish',\n",
       "  'Austrian',\n",
       "  'Moroccan',\n",
       "  'Tibetan',\n",
       "  'Swedish',\n",
       "  'Malaysian',\n",
       "  'Latin'],\n",
       " 'London': ['Swiss',\n",
       "  'Chilean',\n",
       "  'Ukrainian',\n",
       "  'Ecuadorean',\n",
       "  'Burmese',\n",
       "  'Cambodian',\n",
       "  'Minority Chinese',\n",
       "  'Uzbek',\n",
       "  'Georgian',\n",
       "  'Albanian'],\n",
       " 'Bratislava': ['Irish',\n",
       "  'Egyptian',\n",
       "  'Arabic',\n",
       "  'Slovenian',\n",
       "  'Belgian',\n",
       "  'Minority Chinese',\n",
       "  'Latin',\n",
       "  'Armenian',\n",
       "  'Romanian',\n",
       "  'Scottish',\n",
       "  'British',\n",
       "  'Caucasian',\n",
       "  'Georgian',\n",
       "  'Indian',\n",
       "  'Turkish',\n",
       "  'Indonesian',\n",
       "  'Portuguese'],\n",
       " 'Lisbon': ['Cuban',\n",
       "  'Irish',\n",
       "  'Venezuelan',\n",
       "  'Korean',\n",
       "  'Chilean',\n",
       "  'Malaysian',\n",
       "  'Vietnamese',\n",
       "  'Albanian',\n",
       "  'Israeli',\n",
       "  'Eastern European',\n",
       "  'Swiss',\n",
       "  'Moroccan'],\n",
       " 'Budapest': ['Bangladeshi',\n",
       "  'Norwegian',\n",
       "  'Peruvian',\n",
       "  'Moroccan',\n",
       "  'Central Asian',\n",
       "  'Argentinean',\n",
       "  'Egyptian',\n",
       "  'Afghani',\n",
       "  'Arabic',\n",
       "  'Caribbean',\n",
       "  'Cuban',\n",
       "  'Latvian'],\n",
       " 'Stockholm': ['Brazilian',\n",
       "  'Cajun & Creole',\n",
       "  'Belgian',\n",
       "  'Malaysian',\n",
       "  'Caribbean',\n",
       "  'Jamaican',\n",
       "  'Caucasian',\n",
       "  'Israeli',\n",
       "  'Swiss',\n",
       "  'Brew Pub',\n",
       "  'Diner',\n",
       "  'New Zealand',\n",
       "  'Central American',\n",
       "  'Argentinean',\n",
       "  'Chilean',\n",
       "  'Russian',\n",
       "  'Ukrainian'],\n",
       " 'Rome': ['Cajun & Creole',\n",
       "  'Balti',\n",
       "  'Swiss',\n",
       "  'Australian',\n",
       "  'Southwestern',\n",
       "  'Venezuelan',\n",
       "  'Colombian',\n",
       "  'Danish',\n",
       "  'Swedish',\n",
       "  'Norwegian',\n",
       "  'Taiwanese',\n",
       "  'Pakistani',\n",
       "  'Egyptian',\n",
       "  'Afghani',\n",
       "  'Bangladeshi',\n",
       "  'Filipino',\n",
       "  'Scandinavian',\n",
       "  'Arabic',\n",
       "  'Moroccan',\n",
       "  'Tunisian'],\n",
       " 'Milan': ['Ecuadorean',\n",
       "  'Israeli',\n",
       "  'Ukrainian',\n",
       "  'Swedish',\n",
       "  'Scandinavian',\n",
       "  'Uzbek',\n",
       "  'Southwestern',\n",
       "  'Taiwanese',\n",
       "  'Austrian',\n",
       "  'Singaporean',\n",
       "  'Caribbean',\n",
       "  'Colombian',\n",
       "  'Hawaiian',\n",
       "  'Dutch',\n",
       "  'Fujian'],\n",
       " 'Munich': ['Minority Chinese',\n",
       "  'Kosher',\n",
       "  'Caribbean',\n",
       "  'Azerbaijani',\n",
       "  'Venezuelan',\n",
       "  'Tunisian',\n",
       "  'Romanian',\n",
       "  'Swiss',\n",
       "  'Moroccan',\n",
       "  'Balti',\n",
       "  'Irish',\n",
       "  'Southwestern',\n",
       "  'Polynesian'],\n",
       " 'Hamburg': ['Russian',\n",
       "  'Swiss',\n",
       "  'Southwestern',\n",
       "  'Peruvian',\n",
       "  'Israeli',\n",
       "  'Kosher',\n",
       "  'Minority Chinese',\n",
       "  'Indonesian',\n",
       "  'Sri Lankan',\n",
       "  'Arabic',\n",
       "  'Moroccan',\n",
       "  'Persian',\n",
       "  'Danish',\n",
       "  'Caribbean',\n",
       "  'Cuban'],\n",
       " 'Prague': ['Romanian',\n",
       "  'Minority Chinese',\n",
       "  'Slovenian',\n",
       "  'Brazilian',\n",
       "  'Venezuelan',\n",
       "  'Croatian',\n",
       "  'Indonesian',\n",
       "  'Scandinavian',\n",
       "  'Polish',\n",
       "  'Taiwanese',\n",
       "  'Central Asian',\n",
       "  'Cuban',\n",
       "  'Scottish',\n",
       "  'German'],\n",
       " 'Vienna': ['Filipino',\n",
       "  'Ecuadorean',\n",
       "  'Indonesian',\n",
       "  'Mongolian',\n",
       "  'Venezuelan',\n",
       "  'Egyptian',\n",
       "  'Danish',\n",
       "  'Caribbean',\n",
       "  'Cuban',\n",
       "  'Arabic',\n",
       "  'Scottish',\n",
       "  'Balti',\n",
       "  'Bangladeshi',\n",
       "  'Southwestern',\n",
       "  'Tunisian',\n",
       "  'Tibetan'],\n",
       " 'Dublin': ['Malaysian',\n",
       "  'Ethiopian',\n",
       "  'Ecuadorean',\n",
       "  'Israeli',\n",
       "  'Greek',\n",
       "  'Brew Pub',\n",
       "  'Brazilian',\n",
       "  'Singaporean',\n",
       "  'Hungarian',\n",
       "  'Argentinean',\n",
       "  'Croatian',\n",
       "  'Albanian',\n",
       "  'Turkish',\n",
       "  'Cajun & Creole',\n",
       "  'Afghani',\n",
       "  'Egyptian'],\n",
       " 'Barcelona': ['Dutch',\n",
       "  'Mongolian',\n",
       "  'Scottish',\n",
       "  'Ecuadorean',\n",
       "  'Hungarian',\n",
       "  'Uzbek',\n",
       "  'Taiwanese',\n",
       "  'Yunnan',\n",
       "  'Romanian',\n",
       "  'Ethiopian',\n",
       "  'Croatian',\n",
       "  'Minority Chinese',\n",
       "  'Jamaican',\n",
       "  'Arabic',\n",
       "  'Armenian',\n",
       "  'Tibetan',\n",
       "  'Swedish',\n",
       "  'Scandinavian',\n",
       "  'Singaporean',\n",
       "  'Australian',\n",
       "  'Malaysian'],\n",
       " 'Brussels': ['Israeli',\n",
       "  'Cajun & Creole',\n",
       "  'Filipino',\n",
       "  'Bangladeshi',\n",
       "  'Croatian',\n",
       "  'Scandinavian',\n",
       "  'Southwestern',\n",
       "  'Indonesian',\n",
       "  'Swiss',\n",
       "  'Nepali',\n",
       "  'Balti',\n",
       "  'Dutch',\n",
       "  'Egyptian',\n",
       "  'Hawaiian',\n",
       "  'Korean',\n",
       "  'Peruvian',\n",
       "  'Native American'],\n",
       " 'Madrid': ['Tunisian',\n",
       "  'Ethiopian',\n",
       "  'Chilean',\n",
       "  'Polish',\n",
       "  'Romanian',\n",
       "  'Salvadoran',\n",
       "  'Arabic',\n",
       "  'Bangladeshi',\n",
       "  'Belgian',\n",
       "  'Dutch',\n",
       "  'Kosher',\n",
       "  'Balti',\n",
       "  'Singaporean',\n",
       "  'Czech',\n",
       "  'Minority Chinese',\n",
       "  'Swedish',\n",
       "  'Scandinavian',\n",
       "  'Fujian',\n",
       "  'Pakistani',\n",
       "  'Tibetan'],\n",
       " 'Oslo': ['Mongolian',\n",
       "  'Lebanese',\n",
       "  'Sri Lankan',\n",
       "  'Hawaiian',\n",
       "  'Brew Pub',\n",
       "  'Polish',\n",
       "  'Irish',\n",
       "  'Persian',\n",
       "  'Swedish',\n",
       "  'Healthy',\n",
       "  'German',\n",
       "  'Greek',\n",
       "  'Moroccan',\n",
       "  'African',\n",
       "  'Peruvian',\n",
       "  'Southwestern'],\n",
       " 'Amsterdam': ['Cuban',\n",
       "  'Afghani',\n",
       "  'Egyptian',\n",
       "  'Cajun & Creole',\n",
       "  'Pakistani',\n",
       "  'Taiwanese',\n",
       "  'Israeli',\n",
       "  'Swedish',\n",
       "  'Georgian',\n",
       "  'Persian',\n",
       "  'Hawaiian'],\n",
       " 'Berlin': ['Norwegian',\n",
       "  'Native American',\n",
       "  'Southwestern',\n",
       "  'Afghani',\n",
       "  'British',\n",
       "  'Jamaican',\n",
       "  'Central Asian',\n",
       "  'Ukrainian',\n",
       "  'Hawaiian',\n",
       "  'Dutch',\n",
       "  'Colombian',\n",
       "  'Canadian',\n",
       "  'Caucasian'],\n",
       " 'Lyon': ['Peruvian',\n",
       "  'Chilean',\n",
       "  'Yunnan',\n",
       "  'Danish',\n",
       "  'Caribbean',\n",
       "  'Tunisian',\n",
       "  'Scottish',\n",
       "  'Cambodian',\n",
       "  'Canadian',\n",
       "  'Welsh',\n",
       "  'Central American',\n",
       "  'Scandinavian',\n",
       "  'Cajun & Creole',\n",
       "  'Arabic'],\n",
       " 'Athens': ['Brazilian',\n",
       "  'Azerbaijani',\n",
       "  'Moroccan',\n",
       "  'Bangladeshi',\n",
       "  'Czech',\n",
       "  'Swiss',\n",
       "  'Scottish',\n",
       "  'South American',\n",
       "  'Irish',\n",
       "  'Peruvian',\n",
       "  'Russian'],\n",
       " 'Warsaw': ['African',\n",
       "  'Moroccan',\n",
       "  'German',\n",
       "  'Street Food',\n",
       "  'Brazilian',\n",
       "  'Malaysian',\n",
       "  'Tunisian',\n",
       "  'Balti',\n",
       "  'Taiwanese',\n",
       "  'Irish',\n",
       "  'Argentinean',\n",
       "  'Belgian',\n",
       "  'Sri Lankan',\n",
       "  'Delicatessen'],\n",
       " 'Oporto': ['Gastropub',\n",
       "  'Southwestern',\n",
       "  'Thai',\n",
       "  'Belgian',\n",
       "  'Albanian',\n",
       "  'Mexican',\n",
       "  'German'],\n",
       " 'Krakow': ['Latin',\n",
       "  'British',\n",
       "  'German',\n",
       "  'Polynesian',\n",
       "  'Russian',\n",
       "  'Nepali',\n",
       "  'Balti',\n",
       "  'Azerbaijani',\n",
       "  'Arabic',\n",
       "  'Korean',\n",
       "  'Delicatessen',\n",
       "  'Canadian'],\n",
       " 'Copenhagen': ['Hungarian',\n",
       "  'Colombian',\n",
       "  'Belgian',\n",
       "  'Dutch',\n",
       "  'Australian',\n",
       "  'German',\n",
       "  'Moroccan',\n",
       "  'Mongolian',\n",
       "  'New Zealand',\n",
       "  'British',\n",
       "  'African',\n",
       "  'Ethiopian',\n",
       "  'Venezuelan',\n",
       "  'Peruvian',\n",
       "  'Argentinean',\n",
       "  'Filipino',\n",
       "  'Nepali'],\n",
       " 'Luxembourg': ['Argentinean',\n",
       "  'Polish',\n",
       "  'Eastern European',\n",
       "  'Tibetan',\n",
       "  'Peruvian',\n",
       "  'Bangladeshi',\n",
       "  'Moroccan',\n",
       "  'Contemporary',\n",
       "  'Gastropub',\n",
       "  'Danish'],\n",
       " 'Zurich': ['Nepali',\n",
       "  'Belgian',\n",
       "  'Danish',\n",
       "  'Bangladeshi',\n",
       "  'Arabic',\n",
       "  'Central Asian',\n",
       "  'Australian',\n",
       "  'Persian',\n",
       "  'Singaporean',\n",
       "  'Malaysian',\n",
       "  'Native American',\n",
       "  'Portuguese',\n",
       "  'Caribbean',\n",
       "  'Jamaican',\n",
       "  'Tibetan',\n",
       "  'Cambodian',\n",
       "  'Balti'],\n",
       " 'Geneva': ['Argentinean',\n",
       "  'Albanian',\n",
       "  'Venezuelan',\n",
       "  'Tunisian',\n",
       "  'Irish',\n",
       "  'Pakistani',\n",
       "  'Afghani',\n",
       "  'British'],\n",
       " 'Ljubljana': ['Croatian',\n",
       "  'Nepali',\n",
       "  'Diner',\n",
       "  'Argentinean',\n",
       "  'French',\n",
       "  'African',\n",
       "  'Native American',\n",
       "  'Bangladeshi',\n",
       "  'Albanian',\n",
       "  'Persian',\n",
       "  'Irish',\n",
       "  'British']}"
      ]
     },
     "execution_count": 55,
     "metadata": {},
     "output_type": "execute_result"
    }
   ],
   "source": [
    "# искомый словарь находится здесь\n",
    "rare_cusines"
   ]
  },
  {
   "cell_type": "code",
   "execution_count": 56,
   "metadata": {},
   "outputs": [],
   "source": [
    "# сначала делаем Dummies на каждый стиль кухни:\n",
    "for cuisine in all_cuisine:\n",
    "    data[cuisine] = data['Cuisine Style'].apply(lambda row: cuisine in row).astype('uint8')"
   ]
  },
  {
   "cell_type": "code",
   "execution_count": 57,
   "metadata": {},
   "outputs": [
    {
     "data": {
      "text/html": [
       "<div>\n",
       "<style scoped>\n",
       "    .dataframe tbody tr th:only-of-type {\n",
       "        vertical-align: middle;\n",
       "    }\n",
       "\n",
       "    .dataframe tbody tr th {\n",
       "        vertical-align: top;\n",
       "    }\n",
       "\n",
       "    .dataframe thead th {\n",
       "        text-align: right;\n",
       "    }\n",
       "</style>\n",
       "<table border=\"1\" class=\"dataframe\">\n",
       "  <thead>\n",
       "    <tr style=\"text-align: right;\">\n",
       "      <th></th>\n",
       "      <th>Restaurant_id</th>\n",
       "      <th>Ranking</th>\n",
       "    </tr>\n",
       "  </thead>\n",
       "  <tbody>\n",
       "    <tr>\n",
       "      <th>Restaurant_id</th>\n",
       "      <td>1.00000</td>\n",
       "      <td>0.82509</td>\n",
       "    </tr>\n",
       "    <tr>\n",
       "      <th>Ranking</th>\n",
       "      <td>0.82509</td>\n",
       "      <td>1.00000</td>\n",
       "    </tr>\n",
       "  </tbody>\n",
       "</table>\n",
       "</div>"
      ],
      "text/plain": [
       "               Restaurant_id  Ranking\n",
       "Restaurant_id        1.00000  0.82509\n",
       "Ranking              0.82509  1.00000"
      ]
     },
     "execution_count": 57,
     "metadata": {},
     "output_type": "execute_result"
    }
   ],
   "source": [
    "# Признак 'Restaurant_id' практически неотличим от признака 'Ranking'. Убедимся в этом, переведя его в численный вид:\n",
    "data['Restaurant_id'] = (data['Restaurant_id'].map(lambda x: x[3:])).apply(int)\n",
    "data[['Restaurant_id', 'Ranking']].corr()"
   ]
  },
  {
   "cell_type": "code",
   "execution_count": 58,
   "metadata": {},
   "outputs": [
    {
     "data": {
      "text/plain": [
       "9287"
      ]
     },
     "execution_count": 58,
     "metadata": {},
     "output_type": "execute_result"
    }
   ],
   "source": [
    "# при этом у нас есть группы ресторанов с одинаковым id, видимо, они принадлежат к сетям. Надо бы их пометить\n",
    "id_count = data['Restaurant_id'].value_counts()\n",
    "isin_chain = list(set(id_count[id_count.values>1].index))\n",
    "len(isin_chain)"
   ]
  },
  {
   "cell_type": "code",
   "execution_count": 59,
   "metadata": {},
   "outputs": [],
   "source": [
    "# помечаем их\n",
    "data['isin_chain'] = data['Restaurant_id'].isin(isin_chain).astype('uint8')"
   ]
  },
  {
   "cell_type": "markdown",
   "execution_count": null,
   "metadata": {},
   "source": [
    "Разбираем признак Reviews на даты и слова. Из дат формируем 2 новых признака, а слова отзывов ранжируем для использования как Dummy."
   ]
  },
  {
   "cell_type": "code",
   "execution_count": 60,
   "metadata": {},
   "outputs": [],
   "source": [
    "# Формируем вспомогательный признак List of Reviews, который в дальнейшем разберем на слова:\n",
    "data['List of Reviews'] = data.Reviews.apply(\n",
    "    lambda row: row[2:-2].split('], [')[0][1:-1].split(\"', '\"))"
   ]
  },
  {
   "cell_type": "code",
   "execution_count": 61,
   "metadata": {},
   "outputs": [],
   "source": [
    "# Формируем вспомогательный признак 'dates', который в дальнейшем разберем на 2 признака - количество дней с последнего отзыва и количество дней между отзывами:\n",
    "data['dates'] = data.Reviews.apply(\n",
    "    lambda row: row[2:-2].split('], [')[1][1:-1].split(\"', '\"))"
   ]
  },
  {
   "cell_type": "code",
   "execution_count": 62,
   "metadata": {},
   "outputs": [],
   "source": [
    "# Признак 'dates' содержит ни одной, одну или две даты. Если признак не заполнен, заполняем его списком из пустой строки ( первое, что пришло в голову ).\n",
    "data['dates'] = data['dates'].apply(lambda row: [''] if row == None else row)"
   ]
  },
  {
   "cell_type": "code",
   "execution_count": 63,
   "metadata": {},
   "outputs": [],
   "source": [
    "# готовим значение неопределенной даты-времени\n",
    "\n",
    "nat = np.datetime64('NaT')\n",
    "\n",
    "# мы уверены, что в списке дат на первом месте или список из пустой строки или первая дата,\n",
    "# если это дата, записываем ее в признак Last date\n",
    "\n",
    "data['Last date'] = data['dates'].apply(lambda row: datetime.strptime(\n",
    "    row[0], '%m/%d/%Y')if len(row[0]) > 0 else nat)\n",
    "\n",
    "# Если длина списка в значении признака 'dates' больше 1, там есть еще одна дата.\n",
    "# Записываем ее в признак 'Before date'\n",
    "\n",
    "data['Before date'] = data['dates'].apply(lambda row: datetime.strptime(\n",
    "    row[1], '%m/%d/%Y')if len(row) > 1 else nat)"
   ]
  },
  {
   "cell_type": "code",
   "execution_count": 64,
   "metadata": {},
   "outputs": [],
   "source": [
    "# Как оказалось, иногда хронология дат перепутана. Я не увидел, что это связано с целевой переменной,\n",
    "# поэтому просто приводим даты в порядок:\n",
    "data['Last date'], data['Before date'] = data[['Last date', 'Before date']\n",
    "                                              ].values.max(axis=1), data[['Last date', 'Before date']].values.min(axis=1)"
   ]
  },
  {
   "cell_type": "code",
   "execution_count": 65,
   "metadata": {},
   "outputs": [],
   "source": [
    "# помечаем строки с одной или обоими неопределенными датами\n",
    "data['all_dates_ISNA'] = data['Last date'].isna().astype('uint8')\n",
    "data['before_date_ISNA'] = data['Before date'].isna().astype('uint8')"
   ]
  },
  {
   "cell_type": "code",
   "execution_count": 66,
   "metadata": {},
   "outputs": [],
   "source": [
    "# вычисляем временной интервал между отзывами в виде целого числа дней:\n",
    "data['interval'] = (data['Last date'] - data['Before date']).astype('timedelta64[D]')"
   ]
  },
  {
   "cell_type": "code",
   "execution_count": 67,
   "metadata": {},
   "outputs": [],
   "source": [
    "# договариваемся для удобства, что дата самого позднего из всех отзывов - это \"сегодняшний день\"\n",
    "# от него будем отсчитывать назад все количества дней в признаках\n",
    "day_now = data['Last date'].max()"
   ]
  },
  {
   "cell_type": "code",
   "execution_count": 68,
   "metadata": {},
   "outputs": [
    {
     "data": {
      "text/plain": [
       "Timestamp('2018-02-26 00:00:00')"
      ]
     },
     "execution_count": 68,
     "metadata": {},
     "output_type": "execute_result"
    }
   ],
   "source": [
    "# вот он:\n",
    "day_now"
   ]
  },
  {
   "cell_type": "markdown",
   "execution_count": null,
   "metadata": {},
   "source": [
    "Из дат формируем 2 новых числовых признака для моделирования: количество дней со дня последнего отзыва и временной интервал между отзывами в днях.\n",
    "\n"
   ]
  },
  {
   "cell_type": "code",
   "execution_count": 69,
   "metadata": {},
   "outputs": [],
   "source": [
    "# количество дней со дня последнего отзыва - заполняем средним значением\n",
    "data['days since last rew'] = (day_now - data['Last date']).astype('timedelta64[D]')\n",
    "days_median = int(data['days since last rew'].median())\n",
    "data['days since last rew'].fillna(days_median, inplace=True);"
   ]
  },
  {
   "cell_type": "code",
   "execution_count": 70,
   "metadata": {},
   "outputs": [],
   "source": [
    "# временной интервал между отзывами в днях\n",
    "data['interval'].fillna(data['interval'].median(), inplace=True)"
   ]
  },
  {
   "cell_type": "markdown",
   "execution_count": null,
   "metadata": {},
   "source": [
    "**Разбираем отзывы на слова**\n",
    "\n",
    "Я применил самый простой и быстрый способ разбора по причине отсутствия навыка и ограниченного времени. Я потерял зависимости целевой переменной от идиоматических выражений английского языка (состоящих из нескольких слов и обладающих самостоятельным смыслом, выделять которые надо было до разбиения на слова). Тем не менее надеюсь, что просто выделение ключевых слов даст нам возможность улучшить модель."
   ]
  },
  {
   "cell_type": "code",
   "execution_count": 71,
   "metadata": {},
   "outputs": [
    {
     "data": {
      "text/plain": [
       "'!\"#$%&\\'()*+,-./:;<=>?@[\\\\]^_`{|}~'"
      ]
     },
     "execution_count": 71,
     "metadata": {},
     "output_type": "execute_result"
    }
   ],
   "source": [
    "# это полезная константа, содержащая все знаки препинания.\n",
    "string.punctuation"
   ]
  },
  {
   "cell_type": "code",
   "execution_count": 72,
   "metadata": {},
   "outputs": [],
   "source": [
    "# Определяем функцию, переводящую каждую строку rev (текст одного отзыва) из row\n",
    "# (значения признака 'List of Reviews') в нижний регистр, заменяющую пунктуацию, разделяющую строку на слова\n",
    "# и удаляющую числа\n",
    "\n",
    "\n",
    "def reviews_tolist(row):\n",
    "    table = str.maketrans(dict.fromkeys(string.punctuation, ' '))\n",
    "    words = []\n",
    "    for rev in row:\n",
    "        words += rev.lower().translate(table).split(' ')\n",
    "    words = [w for w in words if (not w.isdigit() & (not w == ' '))]\n",
    "    return words"
   ]
  },
  {
   "cell_type": "code",
   "execution_count": 73,
   "metadata": {},
   "outputs": [],
   "source": [
    "# применяем функцию\n",
    "data['rew words'] = data['List of Reviews'].apply(reviews_tolist)"
   ]
  },
  {
   "cell_type": "code",
   "execution_count": 74,
   "metadata": {},
   "outputs": [
    {
     "data": {
      "text/plain": [
       "0                                                   []\n",
       "1    [very, good, reviews, , fine, dining, in, haka...\n",
       "2               [better, than, the, links, ivy, black]\n",
       "3         [most, exquisite, delicious, and, authentic]\n",
       "4    [always, the, best, in, bratislava, very, good...\n",
       "Name: rew words, dtype: object"
      ]
     },
     "execution_count": 74,
     "metadata": {},
     "output_type": "execute_result"
    }
   ],
   "source": [
    "# вуаля\n",
    "data['rew words'].head()"
   ]
  },
  {
   "cell_type": "code",
   "execution_count": 75,
   "metadata": {},
   "outputs": [],
   "source": [
    "# выбираем и ранжируем популярные слова из списков data['rew words']\n",
    "pop_words= list(word[0] for word in Counter(np.hstack(data['rew words'])).most_common(101))"
   ]
  },
  {
   "cell_type": "code",
   "execution_count": 76,
   "metadata": {},
   "outputs": [
    {
     "data": {
      "text/plain": [
       "''"
      ]
     },
     "execution_count": 76,
     "metadata": {},
     "output_type": "execute_result"
    }
   ],
   "source": [
    "# самое частое слово - пробел\n",
    "pop_words[0]"
   ]
  },
  {
   "cell_type": "code",
   "execution_count": 77,
   "metadata": {},
   "outputs": [],
   "source": [
    "# удаляем его из списка\n",
    "pop_words = pop_words[1:]"
   ]
  },
  {
   "cell_type": "code",
   "execution_count": 78,
   "metadata": {},
   "outputs": [],
   "source": [
    "# Делаем Dummy из 100 ключевых слов\n",
    "for word in pop_words:\n",
    "    data[word] = data['rew words'].apply(lambda row: word in row).astype('uint8')"
   ]
  },
  {
   "cell_type": "code",
   "execution_count": 79,
   "metadata": {},
   "outputs": [],
   "source": [
    "# Делаем Dummy из всех городов\n",
    "data = pd.concat([data, pd.get_dummies(data.City, drop_first=False)], axis=1)"
   ]
  },
  {
   "cell_type": "code",
   "execution_count": 80,
   "metadata": {},
   "outputs": [],
   "source": [
    "# Делаем Dummy из всех стран\n",
    "data = pd.concat([data, pd.get_dummies(data.Country, drop_first=False)], axis=1)"
   ]
  },
  {
   "cell_type": "code",
   "execution_count": 81,
   "metadata": {
    "collapsed": true
   },
   "outputs": [
    {
     "name": "stdout",
     "output_type": "stream",
     "text": [
      "<class 'pandas.core.frame.DataFrame'>\n",
      "RangeIndex: 50000 entries, 0 to 49999\n",
      "Data columns (total 312 columns):\n",
      "Restaurant_id              int64\n",
      "City                       object\n",
      "Cuisine Style              object\n",
      "Ranking                    float64\n",
      "Price Range                float64\n",
      "Number of Reviews          float64\n",
      "Reviews                    object\n",
      "URL_TA                     int64\n",
      "ID_TA                      int64\n",
      "sample                     int64\n",
      "Rating                     float64\n",
      "Number_of_Reviews_isNAN    uint8\n",
      "Cuisine Style_isNAN        uint8\n",
      "Price Range_isNAN          uint8\n",
      "Reviews_isNAN              uint8\n",
      "duplicate_ID_TA            uint8\n",
      "Country                    object\n",
      "is_capital                 uint8\n",
      "Ranking_norm               float64\n",
      "population                 float64\n",
      "population_by_rest         float64\n",
      "money_by_rest              float64\n",
      "No of cuicins              int64\n",
      "Vegetarian Friendly        uint8\n",
      "European                   uint8\n",
      "Random                     uint8\n",
      "Mediterranean              uint8\n",
      "Italian                    uint8\n",
      "Vegan Options              uint8\n",
      "Gluten Free Options        uint8\n",
      "Bar                        uint8\n",
      "French                     uint8\n",
      "Asian                      uint8\n",
      "Pizza                      uint8\n",
      "Spanish                    uint8\n",
      "Pub                        uint8\n",
      "Cafe                       uint8\n",
      "Fast Food                  uint8\n",
      "British                    uint8\n",
      "International              uint8\n",
      "Seafood                    uint8\n",
      "Japanese                   uint8\n",
      "Central European           uint8\n",
      "American                   uint8\n",
      "Sushi                      uint8\n",
      "Chinese                    uint8\n",
      "Portuguese                 uint8\n",
      "Indian                     uint8\n",
      "Middle Eastern             uint8\n",
      "Thai                       uint8\n",
      "Wine Bar                   uint8\n",
      "German                     uint8\n",
      "Halal                      uint8\n",
      "Greek                      uint8\n",
      "Healthy                    uint8\n",
      "Fusion                     uint8\n",
      "Czech                      uint8\n",
      "Steakhouse                 uint8\n",
      "Barbecue                   uint8\n",
      "Contemporary               uint8\n",
      "Soups                      uint8\n",
      "Eastern European           uint8\n",
      "Vietnamese                 uint8\n",
      "Grill                      uint8\n",
      "Gastropub                  uint8\n",
      "Turkish                    uint8\n",
      "Mexican                    uint8\n",
      "South American             uint8\n",
      "Delicatessen               uint8\n",
      "Austrian                   uint8\n",
      "Polish                     uint8\n",
      "Scandinavian               uint8\n",
      "Hungarian                  uint8\n",
      "Lebanese                   uint8\n",
      "Diner                      uint8\n",
      "Latin                      uint8\n",
      "Dutch                      uint8\n",
      "Irish                      uint8\n",
      "Street Food                uint8\n",
      "Belgian                    uint8\n",
      "Brew Pub                   uint8\n",
      "Danish                     uint8\n",
      "Swiss                      uint8\n",
      "Swedish                    uint8\n",
      "Argentinean                uint8\n",
      "Korean                     uint8\n",
      "Scottish                   uint8\n",
      "African                    uint8\n",
      "Moroccan                   uint8\n",
      "Central American           uint8\n",
      "Brazilian                  uint8\n",
      "Pakistani                  uint8\n",
      "Peruvian                   uint8\n",
      "Caribbean                  uint8\n",
      "Nepali                     uint8\n",
      "Balti                      uint8\n",
      "Bangladeshi                uint8\n",
      "Norwegian                  uint8\n",
      "Israeli                    uint8\n",
      "Slovenian                  uint8\n",
      "Persian                    uint8\n",
      "Indonesian                 uint8\n",
      "Russian                    uint8\n",
      "Arabic                     uint8\n",
      "Kosher                     uint8\n",
      "Ethiopian                  uint8\n",
      "Venezuelan                 uint8\n",
      "Malaysian                  uint8\n",
      "Australian                 uint8\n",
      "Jamaican                   uint8\n",
      "Croatian                   uint8\n",
      "Cuban                      uint8\n",
      "Colombian                  uint8\n",
      "Sri Lankan                 uint8\n",
      "Taiwanese                  uint8\n",
      "Tibetan                    uint8\n",
      "Afghani                    uint8\n",
      "Cajun & Creole             uint8\n",
      "Southwestern               uint8\n",
      "Egyptian                   uint8\n",
      "Tunisian                   uint8\n",
      "Hawaiian                   uint8\n",
      "Cambodian                  uint8\n",
      "Singaporean                uint8\n",
      "Mongolian                  uint8\n",
      "Ukrainian                  uint8\n",
      "Georgian                   uint8\n",
      "Armenian                   uint8\n",
      "Filipino                   uint8\n",
      "Chilean                    uint8\n",
      "Romanian                   uint8\n",
      "Minority Chinese           uint8\n",
      "Central Asian              uint8\n",
      "Ecuadorean                 uint8\n",
      "Albanian                   uint8\n",
      "Canadian                   uint8\n",
      "New Zealand                uint8\n",
      "Native American            uint8\n",
      "Uzbek                      uint8\n",
      "Caucasian                  uint8\n",
      "Welsh                      uint8\n",
      "Azerbaijani                uint8\n",
      "Yunnan                     uint8\n",
      "Polynesian                 uint8\n",
      "Fujian                     uint8\n",
      "Salvadoran                 uint8\n",
      "Xinjiang                   uint8\n",
      "Burmese                    uint8\n",
      "Latvian                    uint8\n",
      "isin_chain                 uint8\n",
      "List of Reviews            object\n",
      "dates                      object\n",
      "Last date                  datetime64[ns]\n",
      "Before date                datetime64[ns]\n",
      "all_dates_ISNA             uint8\n",
      "before_date_ISNA           uint8\n",
      "interval                   float64\n",
      "days since last rew        float64\n",
      "rew words                  object\n",
      "food                       uint8\n",
      "good                       uint8\n",
      "great                      uint8\n",
      "and                        uint8\n",
      "a                          uint8\n",
      "in                         uint8\n",
      "the                        uint8\n",
      "nice                       uint8\n",
      "place                      uint8\n",
      "for                        uint8\n",
      "service                    uint8\n",
      "very                       uint8\n",
      "restaurant                 uint8\n",
      "best                       uint8\n",
      "excellent                  uint8\n",
      "to                         uint8\n",
      "of                         uint8\n",
      "lunch                      uint8\n",
      "but                        uint8\n",
      "with                       uint8\n",
      "delicious                  uint8\n",
      "not                        uint8\n",
      "friendly                   uint8\n",
      "pizza                      uint8\n",
      "lovely                     uint8\n",
      "amazing                    uint8\n",
      "tasty                      uint8\n",
      "dinner                     uint8\n",
      "italian                    uint8\n",
      "it                         uint8\n",
      "little                     uint8\n",
      "bar                        uint8\n",
      "atmosphere                 uint8\n",
      "at                         uint8\n",
      "staff                      uint8\n",
      "meal                       uint8\n",
      "breakfast                  uint8\n",
      "experience                 uint8\n",
      "local                      uint8\n",
      "value                      uint8\n",
      "i                          uint8\n",
      "you                        uint8\n",
      "is                         uint8\n",
      "coffee                     uint8\n",
      "fantastic                  uint8\n",
      "authentic                  uint8\n",
      "average                    uint8\n",
      "quick                      uint8\n",
      "quality                    uint8\n",
      "on                         uint8\n",
      "price                      uint8\n",
      "perfect                    uint8\n",
      "cafe                       uint8\n",
      "wonderful                  uint8\n",
      "pub                        uint8\n",
      "this                       uint8\n",
      "cheap                      uint8\n",
      "sushi                      uint8\n",
      "ok                         uint8\n",
      "gem                        uint8\n",
      "s                          uint8\n",
      "really                     uint8\n",
      "bad                        uint8\n",
      "fresh                      uint8\n",
      "location                   uint8\n",
      "beer                       uint8\n",
      "an                         uint8\n",
      "go                         uint8\n",
      "find                       uint8\n",
      "visit                      uint8\n",
      "just                       uint8\n",
      "one                        uint8\n",
      "spot                       uint8\n",
      "ever                       uint8\n",
      "so                         uint8\n",
      "t                          uint8\n",
      "decent                     uint8\n",
      "my                         uint8\n",
      "eat                        uint8\n",
      "small                      uint8\n",
      "tapas                      uint8\n",
      "wine                       uint8\n",
      "cuisine                    uint8\n",
      "indian                     uint8\n",
      "was                        uint8\n",
      "what                       uint8\n",
      "be                         uint8\n",
      "hidden                     uint8\n",
      "worth                      uint8\n",
      "burger                     uint8\n",
      "expensive                  uint8\n",
      "night                      uint8\n",
      "cozy                       uint8\n",
      "better                     uint8\n",
      "paris                      uint8\n",
      "cosy                       uint8\n",
      "fast                       uint8\n",
      "as                         uint8\n",
      "prices                     uint8\n",
      "time                       uint8\n",
      "Amsterdam                  uint8\n",
      "Athens                     uint8\n",
      "Barcelona                  uint8\n",
      "Berlin                     uint8\n",
      "Bratislava                 uint8\n",
      "Brussels                   uint8\n",
      "Budapest                   uint8\n",
      "Copenhagen                 uint8\n",
      "Dublin                     uint8\n",
      "Edinburgh                  uint8\n",
      "Geneva                     uint8\n",
      "Hamburg                    uint8\n",
      "Helsinki                   uint8\n",
      "Krakow                     uint8\n",
      "Lisbon                     uint8\n",
      "Ljubljana                  uint8\n",
      "London                     uint8\n",
      "Luxembourg                 uint8\n",
      "Lyon                       uint8\n",
      "Madrid                     uint8\n",
      "Milan                      uint8\n",
      "Munich                     uint8\n",
      "Oporto                     uint8\n",
      "Oslo                       uint8\n",
      "Paris                      uint8\n",
      "Prague                     uint8\n",
      "Rome                       uint8\n",
      "Stockholm                  uint8\n",
      "Vienna                     uint8\n",
      "Warsaw                     uint8\n",
      "Zurich                     uint8\n",
      "Austria                    uint8\n",
      "Belgium                    uint8\n",
      "Czechia                    uint8\n",
      "Denmark                    uint8\n",
      "Finland                    uint8\n",
      "France                     uint8\n",
      "Germany                    uint8\n",
      "Greece                     uint8\n",
      "Hungary                    uint8\n",
      "Ireland                    uint8\n",
      "Italy                      uint8\n",
      "Luxembourg                 uint8\n",
      "Netherlands                uint8\n",
      "Norway                     uint8\n",
      "Poland                     uint8\n",
      "Portugal                   uint8\n",
      "Slovakia                   uint8\n",
      "Slovenia                   uint8\n",
      "Spain                      uint8\n",
      "Sweden                     uint8\n",
      "Switzerland                uint8\n",
      "United Kingdom             uint8\n",
      "dtypes: datetime64[ns](2), float64(10), int64(5), object(7), uint8(288)\n",
      "memory usage: 22.9+ MB\n"
     ]
    }
   ],
   "source": [
    "# теперь наша задача - удалить колонки нецифрового типа\n",
    "data.info(verbose=True)"
   ]
  },
  {
   "cell_type": "code",
   "execution_count": 82,
   "metadata": {},
   "outputs": [
    {
     "data": {
      "text/plain": [
       "dtype('uint8')"
      ]
     },
     "execution_count": 82,
     "metadata": {},
     "output_type": "execute_result"
    }
   ],
   "source": [
    "data['Norway'].dtype"
   ]
  },
  {
   "cell_type": "code",
   "execution_count": 83,
   "metadata": {},
   "outputs": [],
   "source": [
    "# удаляем\n",
    "object_columns = ['City','Cuisine Style','Reviews','Country','List of Reviews','dates','rew words']\n",
    "data.drop(object_columns, axis = 1, inplace=True)"
   ]
  },
  {
   "cell_type": "code",
   "execution_count": 84,
   "metadata": {},
   "outputs": [],
   "source": [
    "dt_columns = ['Last date','Before date']\n",
    "data.drop(dt_columns, axis = 1, inplace=True)"
   ]
  },
  {
   "cell_type": "code",
   "execution_count": 85,
   "metadata": {},
   "outputs": [],
   "source": [
    "# df_train['Rating'].value_counts(ascending=True).plot(kind='barh')"
   ]
  },
  {
   "cell_type": "code",
   "execution_count": 86,
   "metadata": {},
   "outputs": [],
   "source": [
    "# df_train['Ranking'][df_train['Rating'] == 5].hist(bins=100)"
   ]
  },
  {
   "cell_type": "code",
   "execution_count": 87,
   "metadata": {},
   "outputs": [],
   "source": [
    "# df_train['Ranking'][df_train['Rating'] < 4].hist(bins=100)"
   ]
  },
  {
   "cell_type": "markdown",
   "execution_count": null,
   "metadata": {},
   "source": [
    "### И один из моих любимых - [корреляция признаков](https://ru.wikipedia.org/wiki/Корреляция)\n",
    "На этом графике уже сейчас вы сможете заметить, как признаки связаны между собой и с целевой переменной."
   ]
  },
  {
   "cell_type": "code",
   "execution_count": 88,
   "metadata": {},
   "outputs": [],
   "source": [
    "# plt.rcParams['figure.figsize'] = (15,10)\n",
    "# sns.heatmap(data.drop(['sample'], axis=1).corr(),)"
   ]
  },
  {
   "cell_type": "markdown",
   "execution_count": null,
   "metadata": {},
   "source": [
    "Вообще благодаря визуализации в этом датасете можно узнать много интересных фактов, например:\n",
    "* где больше Пицерий в Мадриде или Лондоне?\n",
    "* в каком городе кухня ресторанов более разнообразна?\n",
    "\n",
    "придумайте свои вопрос и найдите на него ответ в данных)"
   ]
  },
  {
   "cell_type": "markdown",
   "execution_count": null,
   "metadata": {},
   "source": [
    "# Data Preprocessing\n",
    "Теперь, для удобства и воспроизводимости кода, завернем всю обработку в одну большую функцию."
   ]
  },
  {
   "cell_type": "code",
   "execution_count": 89,
   "metadata": {},
   "outputs": [],
   "source": [
    "# # на всякий случай, заново подгружаем данные\n",
    "# df_train = pd.read_csv(DATA_DIR+'/main_task.csv')\n",
    "# df_test = pd.read_csv(DATA_DIR+'/kaggle_task.csv')\n",
    "# df_train['sample'] = 1 # помечаем где у нас трейн\n",
    "# df_test['sample'] = 0 # помечаем где у нас тест\n",
    "# df_test['Rating'] = 0 # в тесте у нас нет значения Rating, мы его должны предсказать, по этому пока просто заполняем нулями\n",
    "\n",
    "# data = df_test.append(df_train, sort=False).reset_index(drop=True) # объединяем\n",
    "# data.info()"
   ]
  },
  {
   "cell_type": "code",
   "execution_count": 90,
   "metadata": {},
   "outputs": [],
   "source": [
    "# df_preproc = preproc_data(data)\n",
    "# df_preproc.sample(10)"
   ]
  },
  {
   "cell_type": "code",
   "execution_count": 91,
   "metadata": {},
   "outputs": [],
   "source": [
    "df_preproc = data"
   ]
  },
  {
   "cell_type": "code",
   "execution_count": 92,
   "metadata": {},
   "outputs": [],
   "source": [
    "# Теперь выделим тестовую часть\n",
    "train_data = df_preproc.query('sample == 1').drop(['sample'], axis=1)\n",
    "test_data = df_preproc.query('sample == 0').drop(['sample'], axis=1)\n",
    "\n",
    "y = train_data.Rating.values            # наш таргет\n",
    "X = train_data.drop(['Rating'], axis=1)"
   ]
  },
  {
   "cell_type": "markdown",
   "execution_count": null,
   "metadata": {},
   "source": [
    "**Перед тем как отправлять наши данные на обучение, разделим данные на еще один тест и трейн, для валидации. \n",
    "Это поможет нам проверить, как хорошо наша модель работает, до отправки submissiona на kaggle.**"
   ]
  },
  {
   "cell_type": "code",
   "execution_count": 93,
   "metadata": {},
   "outputs": [],
   "source": [
    "# Воспользуемся специальной функцие train_test_split для разбивки тестовых данных\n",
    "# выделим 20% данных на валидацию (параметр test_size)\n",
    "X_train, X_test, y_train, y_test = train_test_split(X, y, test_size=0.2, random_state=RANDOM_SEED)"
   ]
  },
  {
   "cell_type": "code",
   "execution_count": 94,
   "metadata": {},
   "outputs": [
    {
     "data": {
      "text/plain": [
       "((10000, 302), (40000, 302), (40000, 301), (32000, 301), (8000, 301))"
      ]
     },
     "execution_count": 94,
     "metadata": {},
     "output_type": "execute_result"
    }
   ],
   "source": [
    "# проверяем\n",
    "test_data.shape, train_data.shape, X.shape, X_train.shape, X_test.shape"
   ]
  },
  {
   "cell_type": "markdown",
   "execution_count": null,
   "metadata": {},
   "source": [
    "# Model \n",
    "Сам ML"
   ]
  },
  {
   "cell_type": "code",
   "execution_count": 95,
   "metadata": {},
   "outputs": [],
   "source": [
    "# Импортируем необходимые библиотеки:\n",
    "from sklearn.ensemble import RandomForestRegressor # инструмент для создания и обучения модели\n",
    "from sklearn import metrics # инструменты для оценки точности модели"
   ]
  },
  {
   "cell_type": "code",
   "execution_count": 96,
   "metadata": {},
   "outputs": [],
   "source": [
    "# Создаём модель (НАСТРОЙКИ НЕ ТРОГАЕМ)\n",
    "model = RandomForestRegressor(n_estimators=100, verbose=1, n_jobs=-1, random_state=RANDOM_SEED)"
   ]
  },
  {
   "cell_type": "code",
   "execution_count": 97,
   "metadata": {},
   "outputs": [
    {
     "name": "stderr",
     "output_type": "stream",
     "text": [
      "[Parallel(n_jobs=-1)]: Using backend ThreadingBackend with 4 concurrent workers.\n",
      "[Parallel(n_jobs=-1)]: Done  42 tasks      | elapsed:   16.3s\n",
      "[Parallel(n_jobs=-1)]: Done 100 out of 100 | elapsed:   37.3s finished\n",
      "[Parallel(n_jobs=4)]: Using backend ThreadingBackend with 4 concurrent workers.\n",
      "[Parallel(n_jobs=4)]: Done  42 tasks      | elapsed:    0.0s\n",
      "[Parallel(n_jobs=4)]: Done 100 out of 100 | elapsed:    0.1s finished\n"
     ]
    }
   ],
   "source": [
    "# Обучаем модель на тестовом наборе данных\n",
    "model.fit(X_train, y_train)\n",
    "\n",
    "# Используем обученную модель для предсказания рейтинга ресторанов в тестовой выборке.\n",
    "# Предсказанные значения записываем в переменную y_pred\n",
    "y_pred = model.predict(X_test)"
   ]
  },
  {
   "cell_type": "code",
   "execution_count": 98,
   "metadata": {},
   "outputs": [
    {
     "name": "stderr",
     "output_type": "stream",
     "text": [
      "[Parallel(n_jobs=4)]: Using backend ThreadingBackend with 4 concurrent workers.\n",
      "[Parallel(n_jobs=4)]: Done  42 tasks      | elapsed:    0.0s\n",
      "[Parallel(n_jobs=4)]: Done 100 out of 100 | elapsed:    0.1s finished\n"
     ]
    }
   ],
   "source": [
    "#округляем результат ( большое спасибо Александру Осинцеву)\n",
    "def rating_round(x, base=0.5):\n",
    "    return base * round(x/base)\n",
    "\n",
    "def predict(ds):\n",
    "    return np.array([rating_round(x) for x in model.predict(ds)])\n",
    "y_pred = predict(X_test)"
   ]
  },
  {
   "cell_type": "code",
   "execution_count": 99,
   "metadata": {},
   "outputs": [
    {
     "name": "stdout",
     "output_type": "stream",
     "text": [
      "MAE: 0.165125\n"
     ]
    }
   ],
   "source": [
    "# Сравниваем предсказанные значения (y_pred) с реальными (y_test), и смотрим насколько они в среднем отличаются\n",
    "# Метрика называется Mean Absolute Error (MAE) и показывает среднее отклонение предсказанных значений от фактических.\n",
    "print('MAE:', metrics.mean_absolute_error(y_test, y_pred))"
   ]
  },
  {
   "cell_type": "code",
   "execution_count": 100,
   "metadata": {},
   "outputs": [
    {
     "data": {
      "text/plain": [
       "<matplotlib.axes._subplots.AxesSubplot at 0x7f967312dfd0>"
      ]
     },
     "execution_count": 100,
     "metadata": {},
     "output_type": "execute_result"
    },
    {
     "data": {
      "image/png": "[encoded data removed]",
      "text/plain": [
       "<Figure size 1440x720 with 1 Axes>"
      ]
     },
     "metadata": {
      "needs_background": "light"
     },
     "output_type": "display_data"
    }
   ],
   "source": [
    "# в RandomForestRegressor есть возможность вывести самые важные признаки для модели\n",
    "plt.rcParams['figure.figsize'] = (20,10)\n",
    "feat_importances = pd.Series(model.feature_importances_, index=X.columns)\n",
    "feat_importances.nlargest(40).plot(kind='barh')"
   ]
  },
  {
   "cell_type": "markdown",
   "execution_count": null,
   "metadata": {},
   "source": [
    "# Submission\n",
    "Если все устраивает - готовим Submission на кагл"
   ]
  },
  {
   "cell_type": "code",
   "execution_count": 101,
   "metadata": {},
   "outputs": [
    {
     "data": {
      "text/html": [
       "<div>\n",
       "<style scoped>\n",
       "    .dataframe tbody tr th:only-of-type {\n",
       "        vertical-align: middle;\n",
       "    }\n",
       "\n",
       "    .dataframe tbody tr th {\n",
       "        vertical-align: top;\n",
       "    }\n",
       "\n",
       "    .dataframe thead th {\n",
       "        text-align: right;\n",
       "    }\n",
       "</style>\n",
       "<table border=\"1\" class=\"dataframe\">\n",
       "  <thead>\n",
       "    <tr style=\"text-align: right;\">\n",
       "      <th></th>\n",
       "      <th>Restaurant_id</th>\n",
       "      <th>Ranking</th>\n",
       "      <th>Price Range</th>\n",
       "      <th>Number of Reviews</th>\n",
       "      <th>URL_TA</th>\n",
       "      <th>ID_TA</th>\n",
       "      <th>Rating</th>\n",
       "      <th>Number_of_Reviews_isNAN</th>\n",
       "      <th>Cuisine Style_isNAN</th>\n",
       "      <th>Price Range_isNAN</th>\n",
       "      <th>...</th>\n",
       "      <th>Netherlands</th>\n",
       "      <th>Norway</th>\n",
       "      <th>Poland</th>\n",
       "      <th>Portugal</th>\n",
       "      <th>Slovakia</th>\n",
       "      <th>Slovenia</th>\n",
       "      <th>Spain</th>\n",
       "      <th>Sweden</th>\n",
       "      <th>Switzerland</th>\n",
       "      <th>United Kingdom</th>\n",
       "    </tr>\n",
       "  </thead>\n",
       "  <tbody>\n",
       "    <tr>\n",
       "      <th>6346</th>\n",
       "      <td>6346</td>\n",
       "      <td>11273.0</td>\n",
       "      <td>1.000000</td>\n",
       "      <td>103.0</td>\n",
       "      <td>186338</td>\n",
       "      <td>8737492</td>\n",
       "      <td>0.0</td>\n",
       "      <td>0</td>\n",
       "      <td>0</td>\n",
       "      <td>0</td>\n",
       "      <td>...</td>\n",
       "      <td>0</td>\n",
       "      <td>0</td>\n",
       "      <td>0</td>\n",
       "      <td>0</td>\n",
       "      <td>0</td>\n",
       "      <td>0</td>\n",
       "      <td>0</td>\n",
       "      <td>0</td>\n",
       "      <td>0</td>\n",
       "      <td>1</td>\n",
       "    </tr>\n",
       "    <tr>\n",
       "      <th>4098</th>\n",
       "      <td>4098</td>\n",
       "      <td>3453.0</td>\n",
       "      <td>1.000000</td>\n",
       "      <td>17.0</td>\n",
       "      <td>189158</td>\n",
       "      <td>12429109</td>\n",
       "      <td>0.0</td>\n",
       "      <td>0</td>\n",
       "      <td>0</td>\n",
       "      <td>0</td>\n",
       "      <td>...</td>\n",
       "      <td>0</td>\n",
       "      <td>0</td>\n",
       "      <td>0</td>\n",
       "      <td>1</td>\n",
       "      <td>0</td>\n",
       "      <td>0</td>\n",
       "      <td>0</td>\n",
       "      <td>0</td>\n",
       "      <td>0</td>\n",
       "      <td>0</td>\n",
       "    </tr>\n",
       "    <tr>\n",
       "      <th>6508</th>\n",
       "      <td>6508</td>\n",
       "      <td>7226.0</td>\n",
       "      <td>2.000000</td>\n",
       "      <td>6.0</td>\n",
       "      <td>187497</td>\n",
       "      <td>1006559</td>\n",
       "      <td>0.0</td>\n",
       "      <td>0</td>\n",
       "      <td>0</td>\n",
       "      <td>0</td>\n",
       "      <td>...</td>\n",
       "      <td>0</td>\n",
       "      <td>0</td>\n",
       "      <td>0</td>\n",
       "      <td>0</td>\n",
       "      <td>0</td>\n",
       "      <td>0</td>\n",
       "      <td>1</td>\n",
       "      <td>0</td>\n",
       "      <td>0</td>\n",
       "      <td>0</td>\n",
       "    </tr>\n",
       "    <tr>\n",
       "      <th>2283</th>\n",
       "      <td>2283</td>\n",
       "      <td>6132.0</td>\n",
       "      <td>1.941358</td>\n",
       "      <td>67.0</td>\n",
       "      <td>187849</td>\n",
       "      <td>3932299</td>\n",
       "      <td>0.0</td>\n",
       "      <td>0</td>\n",
       "      <td>0</td>\n",
       "      <td>1</td>\n",
       "      <td>...</td>\n",
       "      <td>0</td>\n",
       "      <td>0</td>\n",
       "      <td>0</td>\n",
       "      <td>0</td>\n",
       "      <td>0</td>\n",
       "      <td>0</td>\n",
       "      <td>0</td>\n",
       "      <td>0</td>\n",
       "      <td>0</td>\n",
       "      <td>0</td>\n",
       "    </tr>\n",
       "    <tr>\n",
       "      <th>8536</th>\n",
       "      <td>8536</td>\n",
       "      <td>2488.0</td>\n",
       "      <td>1.859116</td>\n",
       "      <td>7.0</td>\n",
       "      <td>187323</td>\n",
       "      <td>11858359</td>\n",
       "      <td>0.0</td>\n",
       "      <td>0</td>\n",
       "      <td>1</td>\n",
       "      <td>1</td>\n",
       "      <td>...</td>\n",
       "      <td>0</td>\n",
       "      <td>0</td>\n",
       "      <td>0</td>\n",
       "      <td>0</td>\n",
       "      <td>0</td>\n",
       "      <td>0</td>\n",
       "      <td>0</td>\n",
       "      <td>0</td>\n",
       "      <td>0</td>\n",
       "      <td>0</td>\n",
       "    </tr>\n",
       "    <tr>\n",
       "      <th>6360</th>\n",
       "      <td>6360</td>\n",
       "      <td>2294.0</td>\n",
       "      <td>2.000000</td>\n",
       "      <td>614.0</td>\n",
       "      <td>187791</td>\n",
       "      <td>6619244</td>\n",
       "      <td>0.0</td>\n",
       "      <td>0</td>\n",
       "      <td>0</td>\n",
       "      <td>0</td>\n",
       "      <td>...</td>\n",
       "      <td>0</td>\n",
       "      <td>0</td>\n",
       "      <td>0</td>\n",
       "      <td>0</td>\n",
       "      <td>0</td>\n",
       "      <td>0</td>\n",
       "      <td>0</td>\n",
       "      <td>0</td>\n",
       "      <td>0</td>\n",
       "      <td>0</td>\n",
       "    </tr>\n",
       "    <tr>\n",
       "      <th>913</th>\n",
       "      <td>913</td>\n",
       "      <td>9702.0</td>\n",
       "      <td>2.000000</td>\n",
       "      <td>35.0</td>\n",
       "      <td>186338</td>\n",
       "      <td>5770110</td>\n",
       "      <td>0.0</td>\n",
       "      <td>0</td>\n",
       "      <td>0</td>\n",
       "      <td>0</td>\n",
       "      <td>...</td>\n",
       "      <td>0</td>\n",
       "      <td>0</td>\n",
       "      <td>0</td>\n",
       "      <td>0</td>\n",
       "      <td>0</td>\n",
       "      <td>0</td>\n",
       "      <td>0</td>\n",
       "      <td>0</td>\n",
       "      <td>0</td>\n",
       "      <td>1</td>\n",
       "    </tr>\n",
       "    <tr>\n",
       "      <th>6067</th>\n",
       "      <td>6067</td>\n",
       "      <td>6208.0</td>\n",
       "      <td>1.000000</td>\n",
       "      <td>5.0</td>\n",
       "      <td>187497</td>\n",
       "      <td>1381410</td>\n",
       "      <td>0.0</td>\n",
       "      <td>0</td>\n",
       "      <td>0</td>\n",
       "      <td>0</td>\n",
       "      <td>...</td>\n",
       "      <td>0</td>\n",
       "      <td>0</td>\n",
       "      <td>0</td>\n",
       "      <td>0</td>\n",
       "      <td>0</td>\n",
       "      <td>0</td>\n",
       "      <td>1</td>\n",
       "      <td>0</td>\n",
       "      <td>0</td>\n",
       "      <td>0</td>\n",
       "    </tr>\n",
       "    <tr>\n",
       "      <th>2399</th>\n",
       "      <td>2399</td>\n",
       "      <td>47.0</td>\n",
       "      <td>2.000000</td>\n",
       "      <td>752.0</td>\n",
       "      <td>274887</td>\n",
       "      <td>692912</td>\n",
       "      <td>0.0</td>\n",
       "      <td>0</td>\n",
       "      <td>0</td>\n",
       "      <td>0</td>\n",
       "      <td>...</td>\n",
       "      <td>0</td>\n",
       "      <td>0</td>\n",
       "      <td>0</td>\n",
       "      <td>0</td>\n",
       "      <td>0</td>\n",
       "      <td>0</td>\n",
       "      <td>0</td>\n",
       "      <td>0</td>\n",
       "      <td>0</td>\n",
       "      <td>0</td>\n",
       "    </tr>\n",
       "    <tr>\n",
       "      <th>2709</th>\n",
       "      <td>2709</td>\n",
       "      <td>2562.0</td>\n",
       "      <td>2.134986</td>\n",
       "      <td>29.0</td>\n",
       "      <td>187309</td>\n",
       "      <td>13076001</td>\n",
       "      <td>0.0</td>\n",
       "      <td>1</td>\n",
       "      <td>1</td>\n",
       "      <td>1</td>\n",
       "      <td>...</td>\n",
       "      <td>0</td>\n",
       "      <td>0</td>\n",
       "      <td>0</td>\n",
       "      <td>0</td>\n",
       "      <td>0</td>\n",
       "      <td>0</td>\n",
       "      <td>0</td>\n",
       "      <td>0</td>\n",
       "      <td>0</td>\n",
       "      <td>0</td>\n",
       "    </tr>\n",
       "  </tbody>\n",
       "</table>\n",
       "<p>10 rows × 302 columns</p>\n",
       "</div>"
      ],
      "text/plain": [
       "      Restaurant_id  Ranking  Price Range  Number of Reviews  URL_TA  \\\n",
       "6346           6346  11273.0     1.000000              103.0  186338   \n",
       "4098           4098   3453.0     1.000000               17.0  189158   \n",
       "6508           6508   7226.0     2.000000                6.0  187497   \n",
       "2283           2283   6132.0     1.941358               67.0  187849   \n",
       "8536           8536   2488.0     1.859116                7.0  187323   \n",
       "6360           6360   2294.0     2.000000              614.0  187791   \n",
       "913             913   9702.0     2.000000               35.0  186338   \n",
       "6067           6067   6208.0     1.000000                5.0  187497   \n",
       "2399           2399     47.0     2.000000              752.0  274887   \n",
       "2709           2709   2562.0     2.134986               29.0  187309   \n",
       "\n",
       "         ID_TA  Rating  Number_of_Reviews_isNAN  Cuisine Style_isNAN  \\\n",
       "6346   8737492     0.0                        0                    0   \n",
       "4098  12429109     0.0                        0                    0   \n",
       "6508   1006559     0.0                        0                    0   \n",
       "2283   3932299     0.0                        0                    0   \n",
       "8536  11858359     0.0                        0                    1   \n",
       "6360   6619244     0.0                        0                    0   \n",
       "913    5770110     0.0                        0                    0   \n",
       "6067   1381410     0.0                        0                    0   \n",
       "2399    692912     0.0                        0                    0   \n",
       "2709  13076001     0.0                        1                    1   \n",
       "\n",
       "      Price Range_isNAN  ...  Netherlands  Norway  Poland  Portugal  Slovakia  \\\n",
       "6346                  0  ...            0       0       0         0         0   \n",
       "4098                  0  ...            0       0       0         1         0   \n",
       "6508                  0  ...            0       0       0         0         0   \n",
       "2283                  1  ...            0       0       0         0         0   \n",
       "8536                  1  ...            0       0       0         0         0   \n",
       "6360                  0  ...            0       0       0         0         0   \n",
       "913                   0  ...            0       0       0         0         0   \n",
       "6067                  0  ...            0       0       0         0         0   \n",
       "2399                  0  ...            0       0       0         0         0   \n",
       "2709                  1  ...            0       0       0         0         0   \n",
       "\n",
       "      Slovenia  Spain  Sweden  Switzerland  United Kingdom  \n",
       "6346         0      0       0            0               1  \n",
       "4098         0      0       0            0               0  \n",
       "6508         0      1       0            0               0  \n",
       "2283         0      0       0            0               0  \n",
       "8536         0      0       0            0               0  \n",
       "6360         0      0       0            0               0  \n",
       "913          0      0       0            0               1  \n",
       "6067         0      1       0            0               0  \n",
       "2399         0      0       0            0               0  \n",
       "2709         0      0       0            0               0  \n",
       "\n",
       "[10 rows x 302 columns]"
      ]
     },
     "execution_count": 101,
     "metadata": {},
     "output_type": "execute_result"
    }
   ],
   "source": [
    "test_data.sample(10)"
   ]
  },
  {
   "cell_type": "code",
   "execution_count": 102,
   "metadata": {},
   "outputs": [],
   "source": [
    "test_data = test_data.drop(['Rating'], axis=1)"
   ]
  },
  {
   "cell_type": "code",
   "execution_count": 103,
   "metadata": {},
   "outputs": [
    {
     "data": {
      "text/html": [
       "<div>\n",
       "<style scoped>\n",
       "    .dataframe tbody tr th:only-of-type {\n",
       "        vertical-align: middle;\n",
       "    }\n",
       "\n",
       "    .dataframe tbody tr th {\n",
       "        vertical-align: top;\n",
       "    }\n",
       "\n",
       "    .dataframe thead th {\n",
       "        text-align: right;\n",
       "    }\n",
       "</style>\n",
       "<table border=\"1\" class=\"dataframe\">\n",
       "  <thead>\n",
       "    <tr style=\"text-align: right;\">\n",
       "      <th></th>\n",
       "      <th>Restaurant_id</th>\n",
       "      <th>Rating</th>\n",
       "    </tr>\n",
       "  </thead>\n",
       "  <tbody>\n",
       "    <tr>\n",
       "      <th>0</th>\n",
       "      <td>id_0</td>\n",
       "      <td>2.0</td>\n",
       "    </tr>\n",
       "    <tr>\n",
       "      <th>1</th>\n",
       "      <td>id_1</td>\n",
       "      <td>2.5</td>\n",
       "    </tr>\n",
       "    <tr>\n",
       "      <th>2</th>\n",
       "      <td>id_2</td>\n",
       "      <td>4.0</td>\n",
       "    </tr>\n",
       "    <tr>\n",
       "      <th>3</th>\n",
       "      <td>id_3</td>\n",
       "      <td>1.0</td>\n",
       "    </tr>\n",
       "    <tr>\n",
       "      <th>4</th>\n",
       "      <td>id_4</td>\n",
       "      <td>4.0</td>\n",
       "    </tr>\n",
       "  </tbody>\n",
       "</table>\n",
       "</div>"
      ],
      "text/plain": [
       "  Restaurant_id  Rating\n",
       "0          id_0     2.0\n",
       "1          id_1     2.5\n",
       "2          id_2     4.0\n",
       "3          id_3     1.0\n",
       "4          id_4     4.0"
      ]
     },
     "execution_count": 103,
     "metadata": {},
     "output_type": "execute_result"
    }
   ],
   "source": [
    "sample_submission.head()"
   ]
  },
  {
   "cell_type": "code",
   "execution_count": 104,
   "metadata": {},
   "outputs": [
    {
     "name": "stderr",
     "output_type": "stream",
     "text": [
      "[Parallel(n_jobs=4)]: Using backend ThreadingBackend with 4 concurrent workers.\n",
      "[Parallel(n_jobs=4)]: Done  42 tasks      | elapsed:    0.0s\n",
      "[Parallel(n_jobs=4)]: Done 100 out of 100 | elapsed:    0.1s finished\n"
     ]
    }
   ],
   "source": [
    "#predict_submission = model.predict(test_data)\n",
    "predict_submission = predict(test_data)"
   ]
  },
  {
   "cell_type": "code",
   "execution_count": 105,
   "metadata": {},
   "outputs": [
    {
     "data": {
      "text/plain": [
       "array([3. , 4. , 4. , ..., 3. , 4.5, 4. ])"
      ]
     },
     "execution_count": 105,
     "metadata": {},
     "output_type": "execute_result"
    }
   ],
   "source": [
    "predict_submission"
   ]
  },
  {
   "cell_type": "code",
   "execution_count": 106,
   "metadata": {},
   "outputs": [
    {
     "data": {
      "text/html": [
       "<div>\n",
       "<style scoped>\n",
       "    .dataframe tbody tr th:only-of-type {\n",
       "        vertical-align: middle;\n",
       "    }\n",
       "\n",
       "    .dataframe tbody tr th {\n",
       "        vertical-align: top;\n",
       "    }\n",
       "\n",
       "    .dataframe thead th {\n",
       "        text-align: right;\n",
       "    }\n",
       "</style>\n",
       "<table border=\"1\" class=\"dataframe\">\n",
       "  <thead>\n",
       "    <tr style=\"text-align: right;\">\n",
       "      <th></th>\n",
       "      <th>Restaurant_id</th>\n",
       "      <th>Rating</th>\n",
       "    </tr>\n",
       "  </thead>\n",
       "  <tbody>\n",
       "    <tr>\n",
       "      <th>0</th>\n",
       "      <td>id_0</td>\n",
       "      <td>3.0</td>\n",
       "    </tr>\n",
       "    <tr>\n",
       "      <th>1</th>\n",
       "      <td>id_1</td>\n",
       "      <td>4.0</td>\n",
       "    </tr>\n",
       "    <tr>\n",
       "      <th>2</th>\n",
       "      <td>id_2</td>\n",
       "      <td>4.0</td>\n",
       "    </tr>\n",
       "    <tr>\n",
       "      <th>3</th>\n",
       "      <td>id_3</td>\n",
       "      <td>4.5</td>\n",
       "    </tr>\n",
       "    <tr>\n",
       "      <th>4</th>\n",
       "      <td>id_4</td>\n",
       "      <td>4.5</td>\n",
       "    </tr>\n",
       "    <tr>\n",
       "      <th>5</th>\n",
       "      <td>id_5</td>\n",
       "      <td>4.5</td>\n",
       "    </tr>\n",
       "    <tr>\n",
       "      <th>6</th>\n",
       "      <td>id_6</td>\n",
       "      <td>2.5</td>\n",
       "    </tr>\n",
       "    <tr>\n",
       "      <th>7</th>\n",
       "      <td>id_7</td>\n",
       "      <td>2.5</td>\n",
       "    </tr>\n",
       "    <tr>\n",
       "      <th>8</th>\n",
       "      <td>id_8</td>\n",
       "      <td>4.0</td>\n",
       "    </tr>\n",
       "    <tr>\n",
       "      <th>9</th>\n",
       "      <td>id_9</td>\n",
       "      <td>4.5</td>\n",
       "    </tr>\n",
       "  </tbody>\n",
       "</table>\n",
       "</div>"
      ],
      "text/plain": [
       "  Restaurant_id  Rating\n",
       "0          id_0     3.0\n",
       "1          id_1     4.0\n",
       "2          id_2     4.0\n",
       "3          id_3     4.5\n",
       "4          id_4     4.5\n",
       "5          id_5     4.5\n",
       "6          id_6     2.5\n",
       "7          id_7     2.5\n",
       "8          id_8     4.0\n",
       "9          id_9     4.5"
      ]
     },
     "execution_count": 106,
     "metadata": {},
     "output_type": "execute_result"
    }
   ],
   "source": [
    "sample_submission['Rating'] = predict_submission\n",
    "sample_submission.to_csv('submission.csv', index=False)\n",
    "sample_submission.head(10)"
   ]
  },
  {
   "cell_type": "markdown",
   "execution_count": null,
   "metadata": {},
   "source": [
    "# What's next?\n",
    "Или что делать, чтоб улучшить результат:\n",
    "* Обработать оставшиеся признаки в понятный для машины формат\n",
    "* Посмотреть, что еще можно извлечь из признаков\n",
    "* Сгенерировать новые признаки\n",
    "* Подгрузить дополнительные данные, например: по населению или благосостоянию городов\n",
    "* Подобрать состав признаков\n",
    "\n",
    "В общем, процесс творческий и весьма увлекательный! Удачи в соревновании!\n"
   ]
  },
  {
   "cell_type": "code",
   "execution_count": null,
   "metadata": {},
   "outputs": [],
   "source": []
  }
 ],
 "metadata": {
  "kernelspec": {
   "display_name": "Python 3",
   "language": "python",
   "name": "python3"
  },
  "language_info": {
   "codemirror_mode": {
    "name": "ipython",
    "version": 3
   },
   "file_extension": ".py",
   "mimetype": "text/x-python",
   "name": "python",
   "nbconvert_exporter": "python",
   "pygments_lexer": "ipython3",
   "version": "3.6.6"
  }
 },
 "nbformat": 4,
 "nbformat_minor": 4
}
