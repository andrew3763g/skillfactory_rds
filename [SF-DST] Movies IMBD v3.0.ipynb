{
 "cells": [
  {
   "cell_type": "code",
   "execution_count": 235,
   "metadata": {
    "_cell_guid": "b1076dfc-b9ad-4769-8c92-a6c4dae69d19",
    "_uuid": "8f2839f25d086af736a60e9eeb907d3b93b6e0e5"
   },
   "outputs": [
    {
     "name": "stdout",
     "output_type": "stream",
     "text": [
      "['.ipynb_checkpoints', '1 - Зависимости.ppt', '1М_1Р_1М.28-29.09.2019. И. Михнева.zip', '2М_1Р_2М.12-13.10.2019.И. Михнева.zip', '5853585.a4.zip', 'Anaconda3-2019.10-Windows-x86_64.exe', 'data.csv', 'data_sf.xls', 'desktop.ini', 'Dilts.zip', 'download (1).png', 'download (10).png', 'download (11).png', 'download (12).png', 'download (13).png', 'download (14).png', 'download (2).png', 'download (3).png', 'download (4).png', 'download (5).png', 'download (6).png', 'download (7).png', 'download (8).png', 'download (9).png', 'download(0).png', 'Git-2.25.0-64-bit.exe', 'GitHubDesktopSetup.exe', 'happy bd.jpg', 'IMG_20190928_175811_resized_20190928_065834078.jpg', 'pycharm-community-2019.3.1 (1).exe', 'pycharm-community-2019.3.1 (2).exe', 'pycharm-community-2019.3.1.exe', 'pycharm-community-anaconda-2019.3.1.exe', 'Python A1-1 (15.12.2019).ipynb', 'Python A4 (12.05.2019).ipynb', 'python-3.8.1.exe', 'Skype-8.53.0.85 (1).exe', 'Skype-8.53.0.85.exe', 'SlackSetup.exe', 'Statistika_i_kotiki_Savelev.620655.fb2', 'StudentsPerformance.xls', 'VC_redist.x64.exe', 'ZoomRooms.exe', '[SF-DST] Movies IMBD v3.0.ipynb', 'Автоматизация рутинных задач с помощью Python.  практическое руководство для начинающих ( PDFDrive.com ).pdf', 'Автоматизация-рутинных-задач-с-помощью-Python.-практическое-руководство-для-начинающих-_-PDFDrive.fb2', 'вебинар 7', 'вебинар 8', 'вебинар НЛП', 'вебинар3 доп', 'вебинар3 тест', 'вебинар4', 'Вебинар5-тест.jpg.zip', 'вебинар6', 'вебинар9', 'Везикова Н.Н. Сахароснижающие препараты и их механизм действия (1).pptx', 'Везикова Н.Н. Сахароснижающие препараты и их механизм действия (2).pptx', 'Везикова Н.Н. Сахароснижающие препараты и их механизм действия.pptx', 'Домашнее задание ко 2 модулю.docx', 'За Голобокову СМ.pdf', 'Модуль1-2 Нутрициолог (1).pdf', 'Модуль1-2 Нутрициолог.pdf', 'Новые методы и технологии в 2020 году.pptx', 'Опросник+изучения+пищевого+расстройства+EDE-QS.docx', 'Презентации Лишний вес из головы', 'Презентации Лишний вес из головы.zip', 'презентация детокс.ppsx', 'Раздатка. Гипноз в псхотерапии.doc', 'Список литературы.docx', 'Тест отношения к приёму пищи (ЕАТ-26).pdf', 'Тест Р_В_Д.docx', 'Умная диета.pptx']\n"
     ]
    }
   ],
   "source": [
    "import numpy as np\n",
    "import pandas as pd\n",
    "import seaborn as sns\n",
    "import matplotlib.pyplot as plt\n",
    "import os\n",
    "from collections import Counter\n",
    "print(os.listdir(\"../Downloads\"))"
   ]
  },
  {
   "cell_type": "code",
   "execution_count": 263,
   "metadata": {},
   "outputs": [
    {
     "data": {
      "text/html": [
       "<div>\n",
       "<style scoped>\n",
       "    .dataframe tbody tr th:only-of-type {\n",
       "        vertical-align: middle;\n",
       "    }\n",
       "\n",
       "    .dataframe tbody tr th {\n",
       "        vertical-align: top;\n",
       "    }\n",
       "\n",
       "    .dataframe thead th {\n",
       "        text-align: right;\n",
       "    }\n",
       "</style>\n",
       "<table border=\"1\" class=\"dataframe\">\n",
       "  <thead>\n",
       "    <tr style=\"text-align: right;\">\n",
       "      <th></th>\n",
       "      <th>imdb_id</th>\n",
       "      <th>popularity</th>\n",
       "      <th>budget</th>\n",
       "      <th>revenue</th>\n",
       "      <th>original_title</th>\n",
       "      <th>cast</th>\n",
       "      <th>director</th>\n",
       "      <th>tagline</th>\n",
       "      <th>overview</th>\n",
       "      <th>runtime</th>\n",
       "      <th>genres</th>\n",
       "      <th>production_companies</th>\n",
       "      <th>release_date</th>\n",
       "      <th>vote_count</th>\n",
       "      <th>vote_average</th>\n",
       "      <th>release_year</th>\n",
       "    </tr>\n",
       "  </thead>\n",
       "  <tbody>\n",
       "    <tr>\n",
       "      <td>1880</td>\n",
       "      <td>tt0180073</td>\n",
       "      <td>0.309754</td>\n",
       "      <td>13500000</td>\n",
       "      <td>7060876</td>\n",
       "      <td>Quills</td>\n",
       "      <td>Geoffrey Rush|Kate Winslet|Joaquin Phoenix|Mic...</td>\n",
       "      <td>Philip Kaufman</td>\n",
       "      <td>There are no bad words... only bad deeds.</td>\n",
       "      <td>A nobleman with a literary flair, the Marquis ...</td>\n",
       "      <td>124</td>\n",
       "      <td>Drama</td>\n",
       "      <td>Fox Searchlight Pictures|Industry Entertainmen...</td>\n",
       "      <td>11/22/2000</td>\n",
       "      <td>52</td>\n",
       "      <td>6.4</td>\n",
       "      <td>2000</td>\n",
       "    </tr>\n",
       "    <tr>\n",
       "      <td>1881</td>\n",
       "      <td>tt0190374</td>\n",
       "      <td>0.284476</td>\n",
       "      <td>35000000</td>\n",
       "      <td>15185241</td>\n",
       "      <td>Dungeons &amp; Dragons</td>\n",
       "      <td>Justin Whalin|Jeremy Irons|Thora Birch|Bruce P...</td>\n",
       "      <td>Courtney Solomon</td>\n",
       "      <td>This is no game.</td>\n",
       "      <td>The classic role-playing game comes to life in...</td>\n",
       "      <td>107</td>\n",
       "      <td>Action|Adventure|Fantasy|Science Fiction</td>\n",
       "      <td>New Line Cinema|Silver Pictures|Sweetpea Enter...</td>\n",
       "      <td>12/8/2000</td>\n",
       "      <td>86</td>\n",
       "      <td>3.9</td>\n",
       "      <td>2000</td>\n",
       "    </tr>\n",
       "    <tr>\n",
       "      <td>1882</td>\n",
       "      <td>tt0213790</td>\n",
       "      <td>0.279624</td>\n",
       "      <td>24000000</td>\n",
       "      <td>13700000</td>\n",
       "      <td>The Ladies Man</td>\n",
       "      <td>Tim Meadows|Karyn Parsons|Billy Dee Williams|J...</td>\n",
       "      <td>Reginald Hudlin</td>\n",
       "      <td>He's cool. He's clean. He's a love machine.</td>\n",
       "      <td>Because of his salacious language, late-night ...</td>\n",
       "      <td>84</td>\n",
       "      <td>Comedy</td>\n",
       "      <td>SNL Studios</td>\n",
       "      <td>10/13/2000</td>\n",
       "      <td>14</td>\n",
       "      <td>5.4</td>\n",
       "      <td>2000</td>\n",
       "    </tr>\n",
       "    <tr>\n",
       "      <td>1883</td>\n",
       "      <td>tt0217756</td>\n",
       "      <td>0.196668</td>\n",
       "      <td>24000000</td>\n",
       "      <td>12372410</td>\n",
       "      <td>Ready to Rumble</td>\n",
       "      <td>David Arquette|Scott Caan|Oliver Platt|Rose Mc...</td>\n",
       "      <td>Brian Robbins</td>\n",
       "      <td>They're headed to the big time...face first.</td>\n",
       "      <td>Two slacker wrestling fans are devastated by t...</td>\n",
       "      <td>107</td>\n",
       "      <td>Action|Comedy|Drama</td>\n",
       "      <td>Bel Air Entertainment|Warner Bros.</td>\n",
       "      <td>4/7/2000</td>\n",
       "      <td>16</td>\n",
       "      <td>4.4</td>\n",
       "      <td>2000</td>\n",
       "    </tr>\n",
       "    <tr>\n",
       "      <td>1884</td>\n",
       "      <td>tt0122459</td>\n",
       "      <td>0.249219</td>\n",
       "      <td>24000000</td>\n",
       "      <td>36609995</td>\n",
       "      <td>Return to Me</td>\n",
       "      <td>David Duchovny|Minnie Driver|Carroll O'Connor|...</td>\n",
       "      <td>Bonnie Hunt</td>\n",
       "      <td>A comedy straight from the heart</td>\n",
       "      <td>It took a lot of cajoling to get Bob (Duchovny...</td>\n",
       "      <td>115</td>\n",
       "      <td>Romance|Comedy|Drama</td>\n",
       "      <td>Metro-Goldwyn-Mayer (MGM)|JLT Productions</td>\n",
       "      <td>4/7/2000</td>\n",
       "      <td>32</td>\n",
       "      <td>5.5</td>\n",
       "      <td>2000</td>\n",
       "    </tr>\n",
       "    <tr>\n",
       "      <td>1885</td>\n",
       "      <td>tt0120903</td>\n",
       "      <td>0.182246</td>\n",
       "      <td>75000000</td>\n",
       "      <td>157299717</td>\n",
       "      <td>X-Men</td>\n",
       "      <td>Patrick Stewart|Hugh Jackman|Ian McKellen|Hall...</td>\n",
       "      <td>Bryan Singer</td>\n",
       "      <td>Evolution Begins</td>\n",
       "      <td>Two mutants, Rogue and Wolverine, come to a pr...</td>\n",
       "      <td>104</td>\n",
       "      <td>Adventure|Action|Science Fiction</td>\n",
       "      <td>Twentieth Century Fox Film Corporation|Donners...</td>\n",
       "      <td>7/13/2000</td>\n",
       "      <td>2766</td>\n",
       "      <td>6.6</td>\n",
       "      <td>2000</td>\n",
       "    </tr>\n",
       "    <tr>\n",
       "      <td>1886</td>\n",
       "      <td>tt0192255</td>\n",
       "      <td>0.123920</td>\n",
       "      <td>22000000</td>\n",
       "      <td>13555988</td>\n",
       "      <td>The Little Vampire</td>\n",
       "      <td>Richard E. Grant|Jonathan Lipnicki|Jim Carter|...</td>\n",
       "      <td>Uli Edel</td>\n",
       "      <td>They're not just best friends, they're blood b...</td>\n",
       "      <td>Based on the popular books, the story tells of...</td>\n",
       "      <td>95</td>\n",
       "      <td>Horror|Family|Foreign</td>\n",
       "      <td>New Line Cinema</td>\n",
       "      <td>10/27/2000</td>\n",
       "      <td>42</td>\n",
       "      <td>6.4</td>\n",
       "      <td>2000</td>\n",
       "    </tr>\n",
       "    <tr>\n",
       "      <td>1887</td>\n",
       "      <td>tt0131704</td>\n",
       "      <td>0.104908</td>\n",
       "      <td>76000000</td>\n",
       "      <td>35134820</td>\n",
       "      <td>The Adventures of Rocky &amp; Bullwinkle</td>\n",
       "      <td>Rene Russo|Jason Alexander|Piper Perabo|Randy ...</td>\n",
       "      <td>Des McAnuff</td>\n",
       "      <td>This summer it's not the same old bull.</td>\n",
       "      <td>Rocky and Bullwinkle have been living off the ...</td>\n",
       "      <td>88</td>\n",
       "      <td>Adventure|Animation|Action|Comedy|Family</td>\n",
       "      <td>Universal Pictures|Capella International|KC Me...</td>\n",
       "      <td>6/30/2000</td>\n",
       "      <td>35</td>\n",
       "      <td>4.0</td>\n",
       "      <td>2000</td>\n",
       "    </tr>\n",
       "    <tr>\n",
       "      <td>1888</td>\n",
       "      <td>tt0162983</td>\n",
       "      <td>0.031018</td>\n",
       "      <td>40000000</td>\n",
       "      <td>36037909</td>\n",
       "      <td>Hanging Up</td>\n",
       "      <td>Meg Ryan|Diane Keaton|Lisa Kudrow|Walter Matth...</td>\n",
       "      <td>Diane Keaton</td>\n",
       "      <td>Every family has a few hang-ups.</td>\n",
       "      <td>A trio of sisters bond over their ambivalence ...</td>\n",
       "      <td>94</td>\n",
       "      <td>Comedy|Drama</td>\n",
       "      <td>Laurence Mark Productions|Columbia Pictures Co...</td>\n",
       "      <td>2/16/2000</td>\n",
       "      <td>21</td>\n",
       "      <td>5.2</td>\n",
       "      <td>2000</td>\n",
       "    </tr>\n",
       "    <tr>\n",
       "      <td>1889</td>\n",
       "      <td>tt0163676</td>\n",
       "      <td>0.015997</td>\n",
       "      <td>15000000</td>\n",
       "      <td>5217498</td>\n",
       "      <td>The In Crowd</td>\n",
       "      <td>Susan Ward|Lori Heuring|Matthew Settle|Nathan ...</td>\n",
       "      <td>Mary Lambert</td>\n",
       "      <td>What would you do to get in?</td>\n",
       "      <td>A mentally disturbed young woman takes a job a...</td>\n",
       "      <td>105</td>\n",
       "      <td>Thriller</td>\n",
       "      <td>Warner Bros. Pictures</td>\n",
       "      <td>7/19/2000</td>\n",
       "      <td>12</td>\n",
       "      <td>5.2</td>\n",
       "      <td>2000</td>\n",
       "    </tr>\n",
       "  </tbody>\n",
       "</table>\n",
       "</div>"
      ],
      "text/plain": [
       "        imdb_id  popularity    budget    revenue  \\\n",
       "1880  tt0180073    0.309754  13500000    7060876   \n",
       "1881  tt0190374    0.284476  35000000   15185241   \n",
       "1882  tt0213790    0.279624  24000000   13700000   \n",
       "1883  tt0217756    0.196668  24000000   12372410   \n",
       "1884  tt0122459    0.249219  24000000   36609995   \n",
       "1885  tt0120903    0.182246  75000000  157299717   \n",
       "1886  tt0192255    0.123920  22000000   13555988   \n",
       "1887  tt0131704    0.104908  76000000   35134820   \n",
       "1888  tt0162983    0.031018  40000000   36037909   \n",
       "1889  tt0163676    0.015997  15000000    5217498   \n",
       "\n",
       "                            original_title  \\\n",
       "1880                                Quills   \n",
       "1881                    Dungeons & Dragons   \n",
       "1882                        The Ladies Man   \n",
       "1883                       Ready to Rumble   \n",
       "1884                          Return to Me   \n",
       "1885                                 X-Men   \n",
       "1886                    The Little Vampire   \n",
       "1887  The Adventures of Rocky & Bullwinkle   \n",
       "1888                            Hanging Up   \n",
       "1889                          The In Crowd   \n",
       "\n",
       "                                                   cast          director  \\\n",
       "1880  Geoffrey Rush|Kate Winslet|Joaquin Phoenix|Mic...    Philip Kaufman   \n",
       "1881  Justin Whalin|Jeremy Irons|Thora Birch|Bruce P...  Courtney Solomon   \n",
       "1882  Tim Meadows|Karyn Parsons|Billy Dee Williams|J...   Reginald Hudlin   \n",
       "1883  David Arquette|Scott Caan|Oliver Platt|Rose Mc...     Brian Robbins   \n",
       "1884  David Duchovny|Minnie Driver|Carroll O'Connor|...       Bonnie Hunt   \n",
       "1885  Patrick Stewart|Hugh Jackman|Ian McKellen|Hall...      Bryan Singer   \n",
       "1886  Richard E. Grant|Jonathan Lipnicki|Jim Carter|...          Uli Edel   \n",
       "1887  Rene Russo|Jason Alexander|Piper Perabo|Randy ...       Des McAnuff   \n",
       "1888  Meg Ryan|Diane Keaton|Lisa Kudrow|Walter Matth...      Diane Keaton   \n",
       "1889  Susan Ward|Lori Heuring|Matthew Settle|Nathan ...      Mary Lambert   \n",
       "\n",
       "                                                tagline  \\\n",
       "1880          There are no bad words... only bad deeds.   \n",
       "1881                                   This is no game.   \n",
       "1882        He's cool. He's clean. He's a love machine.   \n",
       "1883       They're headed to the big time...face first.   \n",
       "1884                   A comedy straight from the heart   \n",
       "1885                                   Evolution Begins   \n",
       "1886  They're not just best friends, they're blood b...   \n",
       "1887            This summer it's not the same old bull.   \n",
       "1888                   Every family has a few hang-ups.   \n",
       "1889                       What would you do to get in?   \n",
       "\n",
       "                                               overview  runtime  \\\n",
       "1880  A nobleman with a literary flair, the Marquis ...      124   \n",
       "1881  The classic role-playing game comes to life in...      107   \n",
       "1882  Because of his salacious language, late-night ...       84   \n",
       "1883  Two slacker wrestling fans are devastated by t...      107   \n",
       "1884  It took a lot of cajoling to get Bob (Duchovny...      115   \n",
       "1885  Two mutants, Rogue and Wolverine, come to a pr...      104   \n",
       "1886  Based on the popular books, the story tells of...       95   \n",
       "1887  Rocky and Bullwinkle have been living off the ...       88   \n",
       "1888  A trio of sisters bond over their ambivalence ...       94   \n",
       "1889  A mentally disturbed young woman takes a job a...      105   \n",
       "\n",
       "                                        genres  \\\n",
       "1880                                     Drama   \n",
       "1881  Action|Adventure|Fantasy|Science Fiction   \n",
       "1882                                    Comedy   \n",
       "1883                       Action|Comedy|Drama   \n",
       "1884                      Romance|Comedy|Drama   \n",
       "1885          Adventure|Action|Science Fiction   \n",
       "1886                     Horror|Family|Foreign   \n",
       "1887  Adventure|Animation|Action|Comedy|Family   \n",
       "1888                              Comedy|Drama   \n",
       "1889                                  Thriller   \n",
       "\n",
       "                                   production_companies release_date  \\\n",
       "1880  Fox Searchlight Pictures|Industry Entertainmen...   11/22/2000   \n",
       "1881  New Line Cinema|Silver Pictures|Sweetpea Enter...    12/8/2000   \n",
       "1882                                        SNL Studios   10/13/2000   \n",
       "1883                 Bel Air Entertainment|Warner Bros.     4/7/2000   \n",
       "1884          Metro-Goldwyn-Mayer (MGM)|JLT Productions     4/7/2000   \n",
       "1885  Twentieth Century Fox Film Corporation|Donners...    7/13/2000   \n",
       "1886                                    New Line Cinema   10/27/2000   \n",
       "1887  Universal Pictures|Capella International|KC Me...    6/30/2000   \n",
       "1888  Laurence Mark Productions|Columbia Pictures Co...    2/16/2000   \n",
       "1889                              Warner Bros. Pictures    7/19/2000   \n",
       "\n",
       "      vote_count  vote_average  release_year  \n",
       "1880          52           6.4          2000  \n",
       "1881          86           3.9          2000  \n",
       "1882          14           5.4          2000  \n",
       "1883          16           4.4          2000  \n",
       "1884          32           5.5          2000  \n",
       "1885        2766           6.6          2000  \n",
       "1886          42           6.4          2000  \n",
       "1887          35           4.0          2000  \n",
       "1888          21           5.2          2000  \n",
       "1889          12           5.2          2000  "
      ]
     },
     "execution_count": 263,
     "metadata": {},
     "output_type": "execute_result"
    }
   ],
   "source": [
    "data = pd.read_csv('../Downloads/data.csv')\n",
    "data.tail(10)"
   ]
  },
  {
   "cell_type": "code",
   "execution_count": 237,
   "metadata": {},
   "outputs": [
    {
     "name": "stdout",
     "output_type": "stream",
     "text": [
      "<class 'pandas.core.frame.DataFrame'>\n",
      "RangeIndex: 1890 entries, 0 to 1889\n",
      "Data columns (total 16 columns):\n",
      "imdb_id                 1890 non-null object\n",
      "popularity              1890 non-null float64\n",
      "budget                  1890 non-null int64\n",
      "revenue                 1890 non-null int64\n",
      "original_title          1890 non-null object\n",
      "cast                    1890 non-null object\n",
      "director                1890 non-null object\n",
      "tagline                 1890 non-null object\n",
      "overview                1890 non-null object\n",
      "runtime                 1890 non-null int64\n",
      "genres                  1890 non-null object\n",
      "production_companies    1890 non-null object\n",
      "release_date            1890 non-null object\n",
      "vote_count              1890 non-null int64\n",
      "vote_average            1890 non-null float64\n",
      "release_year            1890 non-null int64\n",
      "dtypes: float64(2), int64(5), object(9)\n",
      "memory usage: 236.4+ KB\n"
     ]
    },
    {
     "data": {
      "text/plain": [
       "None"
      ]
     },
     "metadata": {},
     "output_type": "display_data"
    }
   ],
   "source": [
    "display(data.info())"
   ]
  },
  {
   "cell_type": "code",
   "execution_count": 352,
   "metadata": {},
   "outputs": [
    {
     "data": {
      "text/plain": [
       "1890"
      ]
     },
     "execution_count": 352,
     "metadata": {},
     "output_type": "execute_result"
    }
   ],
   "source": [
    "len(data)"
   ]
  },
  {
   "cell_type": "markdown",
   "metadata": {},
   "source": [
    "# Предобработка датасета"
   ]
  },
  {
   "cell_type": "code",
   "execution_count": 353,
   "metadata": {},
   "outputs": [],
   "source": [
    "answer_ls = [] # создадим список с ответами. сюда будем добавлять ответы по мере прохождения теста\n",
    "# сюда можем вписать создание новых колонок в датасете"
   ]
  },
  {
   "cell_type": "code",
   "execution_count": 26,
   "metadata": {},
   "outputs": [
    {
     "data": {
      "text/plain": [
       "'tt1032751'"
      ]
     },
     "execution_count": 26,
     "metadata": {},
     "output_type": "execute_result"
    }
   ],
   "source": [
    "data_id_budget = data['budget']\n",
    "i_max = data_id_budget.idxmax()\n",
    "data.iloc[i_max]['imdb_id']\n",
    "# the right answer is 4"
   ]
  },
  {
   "cell_type": "markdown",
   "metadata": {},
   "source": [
    "# 1. У какого фильма из списка самый большой бюджет?\n",
    "Варианты ответов:\n",
    "1. The Dark Knight Rises (tt1345836)\n",
    "2. Spider-Man 3 (tt0413300)\n",
    "3. Avengers: Age of Ultron (tt2395427)\n",
    "4. The Warrior's Way\t(tt1032751)\n",
    "5. Pirates of the Caribbean: On Stranger Tides (tt1298650)"
   ]
  },
  {
   "cell_type": "code",
   "execution_count": 354,
   "metadata": {},
   "outputs": [],
   "source": [
    "# тут вводим ваш ответ и добавлем в его список ответов (сейчас для примера стоит \"1\")\n",
    "answer_ls.append(4)"
   ]
  },
  {
   "cell_type": "code",
   "execution_count": 355,
   "metadata": {},
   "outputs": [
    {
     "data": {
      "text/plain": [
       "4"
      ]
     },
     "execution_count": 355,
     "metadata": {},
     "output_type": "execute_result"
    }
   ],
   "source": [
    "answer_ls[0]"
   ]
  },
  {
   "cell_type": "code",
   "execution_count": 37,
   "metadata": {},
   "outputs": [
    {
     "data": {
      "text/plain": [
       "'tt0279111'"
      ]
     },
     "execution_count": 37,
     "metadata": {},
     "output_type": "execute_result"
    }
   ],
   "source": [
    "data_time = data['runtime']\n",
    "i_time_max = data_time.idxmax()\n",
    "data.iloc[i_time_max]['imdb_id']\n",
    "#  the right answer is 2"
   ]
  },
  {
   "cell_type": "markdown",
   "metadata": {},
   "source": [
    "# 2. Какой из фильмов самый длительный (в минутах)\n",
    "1. The Lord of the Rings: The Return of the King\t(tt0167260)\n",
    "2. Gods and Generals\t(tt0279111)\n",
    "3. King Kong\t(tt0360717)\n",
    "4. Pearl Harbor\t(tt0213149)\n",
    "5. Alexander\t(tt0346491)"
   ]
  },
  {
   "cell_type": "code",
   "execution_count": 356,
   "metadata": {},
   "outputs": [],
   "source": [
    "answer_ls.append(2)"
   ]
  },
  {
   "cell_type": "code",
   "execution_count": 357,
   "metadata": {},
   "outputs": [
    {
     "data": {
      "text/plain": [
       "2"
      ]
     },
     "execution_count": 357,
     "metadata": {},
     "output_type": "execute_result"
    }
   ],
   "source": [
    "answer_ls[1]"
   ]
  },
  {
   "cell_type": "code",
   "execution_count": 41,
   "metadata": {},
   "outputs": [
    {
     "data": {
      "text/plain": [
       "'tt1449283'"
      ]
     },
     "execution_count": 41,
     "metadata": {},
     "output_type": "execute_result"
    }
   ],
   "source": [
    "data_time = data['runtime']\n",
    "i_time_min = data_time.idxmin()\n",
    "data.iloc[i_time_min]['imdb_id']\n",
    "#  the right answer is 3"
   ]
  },
  {
   "cell_type": "markdown",
   "metadata": {},
   "source": [
    "# 3. Какой из фильмов самый короткий (в минутах)\n",
    "Варианты ответов:\n",
    "\n",
    "1. Home on the Range\ttt0299172\n",
    "2. The Jungle Book 2\ttt0283426\n",
    "3. Winnie the Pooh\ttt1449283\n",
    "4. Corpse Bride\ttt0121164\n",
    "5. Hoodwinked!\ttt0443536"
   ]
  },
  {
   "cell_type": "code",
   "execution_count": 358,
   "metadata": {},
   "outputs": [],
   "source": [
    "answer_ls.append(3)"
   ]
  },
  {
   "cell_type": "code",
   "execution_count": 359,
   "metadata": {},
   "outputs": [
    {
     "data": {
      "text/plain": [
       "[4, 2, 3]"
      ]
     },
     "execution_count": 359,
     "metadata": {},
     "output_type": "execute_result"
    }
   ],
   "source": [
    "answer_ls"
   ]
  },
  {
   "cell_type": "code",
   "execution_count": 45,
   "metadata": {},
   "outputs": [
    {
     "data": {
      "text/plain": [
       "109.65343915343915"
      ]
     },
     "execution_count": 45,
     "metadata": {},
     "output_type": "execute_result"
    }
   ],
   "source": [
    "data['runtime'].mean()\n",
    "#  the right answer is 2"
   ]
  },
  {
   "cell_type": "markdown",
   "metadata": {},
   "source": [
    "# 4. Средняя длительность фильма?\n",
    "\n",
    "Варианты ответов:\n",
    "1. 115\n",
    "2. 110\n",
    "3. 105\n",
    "4. 120\n",
    "5. 100\n"
   ]
  },
  {
   "cell_type": "code",
   "execution_count": 360,
   "metadata": {},
   "outputs": [],
   "source": [
    "answer_ls.append(2)"
   ]
  },
  {
   "cell_type": "code",
   "execution_count": 361,
   "metadata": {},
   "outputs": [
    {
     "data": {
      "text/plain": [
       "[4, 2, 3, 2]"
      ]
     },
     "execution_count": 361,
     "metadata": {},
     "output_type": "execute_result"
    }
   ],
   "source": [
    "answer_ls"
   ]
  },
  {
   "cell_type": "code",
   "execution_count": 48,
   "metadata": {},
   "outputs": [
    {
     "data": {
      "text/plain": [
       "106.5"
      ]
     },
     "execution_count": 48,
     "metadata": {},
     "output_type": "execute_result"
    }
   ],
   "source": [
    "data['runtime'].median()\n",
    "#  the right answer is 1"
   ]
  },
  {
   "cell_type": "markdown",
   "metadata": {},
   "source": [
    "# 5. Средняя длительность фильма по медиане?\n",
    "Варианты ответов:\n",
    "1. 106\n",
    "2. 112\n",
    "3. 101\n",
    "4. 120\n",
    "5. 115\n",
    "\n",
    "\n"
   ]
  },
  {
   "cell_type": "code",
   "execution_count": 362,
   "metadata": {},
   "outputs": [],
   "source": [
    "answer_ls.append(1)"
   ]
  },
  {
   "cell_type": "code",
   "execution_count": 363,
   "metadata": {},
   "outputs": [
    {
     "data": {
      "text/plain": [
       "[4, 2, 3, 2, 1]"
      ]
     },
     "execution_count": 363,
     "metadata": {},
     "output_type": "execute_result"
    }
   ],
   "source": [
    "answer_ls"
   ]
  },
  {
   "cell_type": "code",
   "execution_count": 51,
   "metadata": {},
   "outputs": [
    {
     "data": {
      "text/plain": [
       "'tt0499549'"
      ]
     },
     "execution_count": 51,
     "metadata": {},
     "output_type": "execute_result"
    }
   ],
   "source": [
    "data_net_income = data['revenue'] - data['budget']\n",
    "i_income_max = data_net_income.idxmax()\n",
    "data.iloc[i_income_max]['imdb_id']\n",
    "#  the right answer is 5"
   ]
  },
  {
   "cell_type": "markdown",
   "metadata": {},
   "source": [
    "# 6. Какой самый прибыльный фильм?\n",
    "Варианты ответов:\n",
    "1. The Avengers\ttt0848228\n",
    "2. Minions\ttt2293640\n",
    "3. Star Wars: The Force Awakens\ttt2488496\n",
    "4. Furious 7\ttt2820852\n",
    "5. Avatar\ttt0499549"
   ]
  },
  {
   "cell_type": "code",
   "execution_count": 364,
   "metadata": {},
   "outputs": [],
   "source": [
    "answer_ls.append(5)"
   ]
  },
  {
   "cell_type": "code",
   "execution_count": 365,
   "metadata": {},
   "outputs": [
    {
     "data": {
      "text/plain": [
       "[4, 2, 3, 2, 1, 5]"
      ]
     },
     "execution_count": 365,
     "metadata": {},
     "output_type": "execute_result"
    }
   ],
   "source": [
    "answer_ls"
   ]
  },
  {
   "cell_type": "code",
   "execution_count": 57,
   "metadata": {},
   "outputs": [
    {
     "data": {
      "text/plain": [
       "'tt1032751'"
      ]
     },
     "execution_count": 57,
     "metadata": {},
     "output_type": "execute_result"
    }
   ],
   "source": [
    "data_net_income = data['revenue'] - data['budget']\n",
    "i_income_min = data_net_income.idxmin()\n",
    "data.iloc[i_income_min]['imdb_id']\n",
    "#  the right answer is 2"
   ]
  },
  {
   "cell_type": "markdown",
   "metadata": {},
   "source": [
    "# 7. Какой фильм самый убыточный?\n",
    "Варианты ответов:\n",
    "1. Supernova tt0134983\n",
    "2. The Warrior's Way tt1032751\n",
    "3. Flushed Away\ttt0424095\n",
    "4. The Adventures of Pluto Nash\ttt0180052\n",
    "5. The Lone Ranger\ttt1210819"
   ]
  },
  {
   "cell_type": "code",
   "execution_count": 366,
   "metadata": {},
   "outputs": [],
   "source": [
    "answer_ls.append(2)"
   ]
  },
  {
   "cell_type": "code",
   "execution_count": 367,
   "metadata": {},
   "outputs": [
    {
     "data": {
      "text/plain": [
       "[4, 2, 3, 2, 1, 5, 2]"
      ]
     },
     "execution_count": 367,
     "metadata": {},
     "output_type": "execute_result"
    }
   ],
   "source": [
    "answer_ls"
   ]
  },
  {
   "cell_type": "code",
   "execution_count": 60,
   "metadata": {},
   "outputs": [
    {
     "data": {
      "text/plain": [
       "1478"
      ]
     },
     "execution_count": 60,
     "metadata": {},
     "output_type": "execute_result"
    }
   ],
   "source": [
    "len(data[data.revenue >= data.budget])\n",
    "#  the right answer is 1"
   ]
  },
  {
   "cell_type": "markdown",
   "metadata": {},
   "source": [
    "# 8. Сколько всего фильмов в прибыли?\n",
    "Варианты ответов:\n",
    "1. 1478\n",
    "2. 1520\n",
    "3. 1241\n",
    "4. 1135\n",
    "5. 1398\n"
   ]
  },
  {
   "cell_type": "code",
   "execution_count": 368,
   "metadata": {},
   "outputs": [],
   "source": [
    "answer_ls.append(1)"
   ]
  },
  {
   "cell_type": "code",
   "execution_count": 369,
   "metadata": {},
   "outputs": [
    {
     "data": {
      "text/plain": [
       "[4, 2, 3, 2, 1, 5, 2, 1]"
      ]
     },
     "execution_count": 369,
     "metadata": {},
     "output_type": "execute_result"
    }
   ],
   "source": [
    "answer_ls"
   ]
  },
  {
   "cell_type": "code",
   "execution_count": 66,
   "metadata": {},
   "outputs": [
    {
     "data": {
      "text/plain": [
       "'tt0468569'"
      ]
     },
     "execution_count": 66,
     "metadata": {},
     "output_type": "execute_result"
    }
   ],
   "source": [
    "data_2008 = data[data['release_year'] == 2008]\n",
    "data_2008_net_income = data_2008['revenue'] - data_2008['budget']\n",
    "i_income_max = data_2008_net_income.idxmax()\n",
    "data.iloc[i_income_max]['imdb_id']\n",
    "#  the right answer is 4"
   ]
  },
  {
   "cell_type": "markdown",
   "metadata": {},
   "source": [
    "# 9. Самый прибыльный фильм в 2008 году?\n",
    "Варианты ответов:\n",
    "1. Madagascar: Escape 2 Africa\ttt0479952\n",
    "2. Iron Man\ttt0371746\n",
    "3. Kung Fu Panda\ttt0441773\n",
    "4. The Dark Knight\ttt0468569\n",
    "5. Mamma Mia!\ttt0795421"
   ]
  },
  {
   "cell_type": "code",
   "execution_count": 370,
   "metadata": {},
   "outputs": [],
   "source": [
    "answer_ls.append(4)"
   ]
  },
  {
   "cell_type": "code",
   "execution_count": 371,
   "metadata": {},
   "outputs": [
    {
     "data": {
      "text/plain": [
       "[4, 2, 3, 2, 1, 5, 2, 1, 4]"
      ]
     },
     "execution_count": 371,
     "metadata": {},
     "output_type": "execute_result"
    }
   ],
   "source": [
    "answer_ls"
   ]
  },
  {
   "cell_type": "code",
   "execution_count": 76,
   "metadata": {},
   "outputs": [
    {
     "data": {
      "text/plain": [
       "'tt1210819'"
      ]
     },
     "execution_count": 76,
     "metadata": {},
     "output_type": "execute_result"
    }
   ],
   "source": [
    "data_2012_2014 = data[(data['release_year'] >= 2012)& (data['release_year'] <= 2014)]\n",
    "data_2012_2014_net_income = data_2012_2014['revenue'] - data_2012_2014['budget']\n",
    "i_income_min = data_2012_2014_net_income.idxmin()\n",
    "data.iloc[i_income_min]['imdb_id']\n",
    "#  the right answer is 5"
   ]
  },
  {
   "cell_type": "markdown",
   "metadata": {},
   "source": [
    "# 10. Самый убыточный фильм за период с 2012 по 2014 (включительно)?\n",
    "Варианты ответов:\n",
    "1. Winter's Tale\ttt1837709\n",
    "2. Stolen\ttt1656186\n",
    "3. Broken City\ttt1235522\n",
    "4. Upside Down\ttt1374992\n",
    "5. The Lone Ranger\ttt1210819\n"
   ]
  },
  {
   "cell_type": "code",
   "execution_count": 372,
   "metadata": {},
   "outputs": [],
   "source": [
    "answer_ls.append(5)"
   ]
  },
  {
   "cell_type": "code",
   "execution_count": 373,
   "metadata": {},
   "outputs": [
    {
     "data": {
      "text/plain": [
       "[4, 2, 3, 2, 1, 5, 2, 1, 4, 5]"
      ]
     },
     "execution_count": 373,
     "metadata": {},
     "output_type": "execute_result"
    }
   ],
   "source": [
    "answer_ls"
   ]
  },
  {
   "cell_type": "code",
   "execution_count": 147,
   "metadata": {},
   "outputs": [
    {
     "data": {
      "text/plain": [
       "[('Drama', 782),\n",
       " ('Comedy', 683),\n",
       " ('Thriller', 597),\n",
       " ('Action', 583),\n",
       " ('Adventure', 416),\n",
       " ('Crime', 315),\n",
       " ('Romance', 308),\n",
       " ('Family', 260),\n",
       " ('Science Fiction', 248),\n",
       " ('Fantasy', 223),\n",
       " ('Horror', 176),\n",
       " ('Mystery', 168),\n",
       " ('Animation', 139),\n",
       " ('Music', 64),\n",
       " ('History', 62),\n",
       " ('War', 58),\n",
       " ('Western', 20),\n",
       " ('Documentary', 8),\n",
       " ('Foreign', 2)]"
      ]
     },
     "execution_count": 147,
     "metadata": {},
     "output_type": "execute_result"
    }
   ],
   "source": [
    "Counter(data.genres.str.split('|').sum()).most_common()\n",
    "#  the right answer is 3"
   ]
  },
  {
   "cell_type": "markdown",
   "metadata": {},
   "source": [
    "# 11. Какого жанра фильмов больше всего?\n",
    "Варианты ответов:\n",
    "1. Action\n",
    "2. Adventure\n",
    "3. Drama\n",
    "4. Comedy\n",
    "5. Thriller"
   ]
  },
  {
   "cell_type": "code",
   "execution_count": 374,
   "metadata": {},
   "outputs": [],
   "source": [
    "answer_ls.append(3)"
   ]
  },
  {
   "cell_type": "code",
   "execution_count": 375,
   "metadata": {},
   "outputs": [
    {
     "data": {
      "text/plain": [
       "[4, 2, 3, 2, 1, 5, 2, 1, 4, 5, 3]"
      ]
     },
     "execution_count": 375,
     "metadata": {},
     "output_type": "execute_result"
    }
   ],
   "source": [
    "answer_ls"
   ]
  },
  {
   "cell_type": "code",
   "execution_count": 148,
   "metadata": {},
   "outputs": [
    {
     "data": {
      "text/plain": [
       "[('Drama', 560),\n",
       " ('Comedy', 551),\n",
       " ('Thriller', 446),\n",
       " ('Action', 444),\n",
       " ('Adventure', 337),\n",
       " ('Romance', 242),\n",
       " ('Crime', 231),\n",
       " ('Family', 226),\n",
       " ('Science Fiction', 195),\n",
       " ('Fantasy', 188),\n",
       " ('Horror', 150),\n",
       " ('Animation', 120),\n",
       " ('Mystery', 119),\n",
       " ('Music', 47),\n",
       " ('History', 46),\n",
       " ('War', 41),\n",
       " ('Western', 12),\n",
       " ('Documentary', 7)]"
      ]
     },
     "execution_count": 148,
     "metadata": {},
     "output_type": "execute_result"
    }
   ],
   "source": [
    "data.profit = data.revenue - data.budget\n",
    "profitfilms = data[data.profit > 0]\n",
    "Counter(profitfilms.genres.str.split('|').sum()).most_common()\n",
    "#  the right answer is 1"
   ]
  },
  {
   "cell_type": "markdown",
   "metadata": {},
   "source": [
    "# 12. Какого жанра среди прибыльных фильмов больше всего?\n",
    "Варианты ответов:\n",
    "1. Drama\n",
    "2. Comedy\n",
    "3. Action\n",
    "4. Thriller\n",
    "5. Adventure"
   ]
  },
  {
   "cell_type": "code",
   "execution_count": 376,
   "metadata": {},
   "outputs": [],
   "source": [
    "answer_ls.append(1)"
   ]
  },
  {
   "cell_type": "code",
   "execution_count": 378,
   "metadata": {},
   "outputs": [
    {
     "data": {
      "text/plain": [
       "[4, 2, 3, 2, 1, 5, 2, 1, 4, 5, 3, 1]"
      ]
     },
     "execution_count": 378,
     "metadata": {},
     "output_type": "execute_result"
    }
   ],
   "source": [
    "answer_ls"
   ]
  },
  {
   "cell_type": "code",
   "execution_count": 150,
   "metadata": {},
   "outputs": [
    {
     "data": {
      "text/plain": [
       "[('Steven Soderbergh', 13),\n",
       " ('Ridley Scott', 12),\n",
       " ('Clint Eastwood', 12),\n",
       " ('Steven Spielberg', 10),\n",
       " ('Shawn Levy', 10),\n",
       " ('Antoine Fuqua', 8),\n",
       " ('Ron Howard', 8),\n",
       " ('M. Night Shyamalan', 8),\n",
       " ('Christopher Nolan', 8),\n",
       " ('Peter Jackson', 8),\n",
       " ('Michael Bay', 8),\n",
       " ('Bobby Farrelly|Peter Farrelly', 8),\n",
       " ('Tim Burton', 8),\n",
       " ('Todd Phillips', 8),\n",
       " ('Adam Shankman', 8),\n",
       " ('Gore Verbinski', 8),\n",
       " ('Brett Ratner', 7),\n",
       " ('Paul W.S. Anderson', 7),\n",
       " ('Lasse HallstrÃ¶m', 7),\n",
       " ('Robert Rodriguez', 7),\n",
       " ('Dennis Dugan', 7),\n",
       " ('Marc Forster', 7),\n",
       " ('Francis Lawrence', 6),\n",
       " ('Adam McKay', 6),\n",
       " ('Robert Zemeckis', 6),\n",
       " ('Andy Fickman', 6),\n",
       " ('David Fincher', 6),\n",
       " ('Tim Story', 6),\n",
       " ('Zack Snyder', 6),\n",
       " ('Robert Luketic', 6),\n",
       " ('Sam Raimi', 6),\n",
       " ('Tony Scott', 6),\n",
       " ('Martin Scorsese', 6),\n",
       " ('Brian Robbins', 6),\n",
       " ('Rob Cohen', 6),\n",
       " ('Peter Berg', 6),\n",
       " ('Peter Segal', 6),\n",
       " ('Raja Gosnell', 6),\n",
       " ('J.J. Abrams', 5),\n",
       " ('Sam Mendes', 5),\n",
       " ('Chris Columbus', 5),\n",
       " ('Quentin Tarantino', 5),\n",
       " ('Peyton Reed', 5),\n",
       " ('Jaume Collet-Serra', 5),\n",
       " ('F. Gary Gray', 5),\n",
       " ('Guy Ritchie', 5),\n",
       " ('Nancy Meyers', 5),\n",
       " ('Michael Mann', 5),\n",
       " ('Judd Apatow', 5),\n",
       " ('Joe Wright', 5),\n",
       " ('Guillermo del Toro', 5),\n",
       " ('Jay Roach', 5),\n",
       " ('Cameron Crowe', 5),\n",
       " ('Ken Kwapis', 5),\n",
       " ('Bryan Singer', 5),\n",
       " ('Wes Anderson', 5),\n",
       " ('Doug Liman', 5),\n",
       " ('Jon Favreau', 5),\n",
       " ('David Dobkin', 5),\n",
       " ('Renny Harlin', 5),\n",
       " ('Roland Emmerich', 5),\n",
       " ('Steve Carr', 5),\n",
       " ('David R. Ellis', 5),\n",
       " ('Justin Lin', 5),\n",
       " ('Andrzej Bartkowiak', 5),\n",
       " ('Danny Boyle', 5),\n",
       " ('Louis Leterrier', 5),\n",
       " ('Jon Turteltaub', 5),\n",
       " ('James Mangold', 5),\n",
       " ('Paul Greengrass', 5),\n",
       " ('Wes Craven', 5),\n",
       " ('Oliver Stone', 5),\n",
       " ('Martin Campbell', 5),\n",
       " ('Simon West', 5),\n",
       " ('John Moore', 5),\n",
       " ('Lee Tamahori', 5),\n",
       " ('Mark Waters', 5),\n",
       " ('John Singleton', 5),\n",
       " ('D.J. Caruso', 5),\n",
       " ('Joel Schumacher', 5),\n",
       " ('Robert Schwentke', 4),\n",
       " ('James Wan', 4),\n",
       " ('Alejandro GonzÃ¡lez IÃ±Ã¡rritu', 4),\n",
       " ('Olivier Megaton', 4),\n",
       " ('Matthew Vaughn', 4),\n",
       " ('Tarsem Singh', 4),\n",
       " ('Gavin Hood', 4),\n",
       " ('Brian Helgeland', 4),\n",
       " ('John Erick Dowdle', 4),\n",
       " ('Boaz Yakin', 4),\n",
       " ('Anne Fletcher', 4),\n",
       " ('Paul McGuigan', 4),\n",
       " ('David Gordon Green', 4),\n",
       " ('Barry Levinson', 4),\n",
       " ('Jon M. Chu', 4),\n",
       " ('David Ayer', 4),\n",
       " ('Phil Lord|Christopher Miller', 4),\n",
       " ('Luke Greenfield', 4),\n",
       " ('Rob Marshall', 4),\n",
       " ('Darren Aronofsky', 4),\n",
       " ('Frank Coraci', 4),\n",
       " ('Nicholas Stoller', 4),\n",
       " ('Nick Cassavetes', 4),\n",
       " ('Rob Minkoff', 4),\n",
       " ('George Clooney', 4),\n",
       " ('David Yates', 4),\n",
       " ('McG', 4),\n",
       " ('John Lee Hancock', 4),\n",
       " ('David Twohy', 4),\n",
       " ('Dominic Sena', 4),\n",
       " ('NimrÃ³d Antal', 4),\n",
       " ('Paul Weitz', 4),\n",
       " ('Jason Reitman', 4),\n",
       " ('Donald Petrie', 4),\n",
       " ('Marcus Nispel', 4),\n",
       " ('Richard Linklater', 4),\n",
       " ('Edward Zwick', 4),\n",
       " ('Andy Tennant', 4),\n",
       " ('Garry Marshall', 4),\n",
       " ('Jason Friedberg|Aaron Seltzer', 4),\n",
       " ('Kevin Smith', 4),\n",
       " ('Keenen Ivory Wayans', 4),\n",
       " ('Gary Fleder', 4),\n",
       " ('David Frankel', 4),\n",
       " ('Malcolm D. Lee', 4),\n",
       " ('Bill Condon', 4),\n",
       " ('Mikael HÃ¥fstrÃ¶m', 4),\n",
       " ('Alexander Payne', 4),\n",
       " ('David Cronenberg', 4),\n",
       " ('Barry Sonnenfeld', 4),\n",
       " ('Len Wiseman', 4),\n",
       " ('George Miller', 3),\n",
       " ('Kenneth Branagh', 3),\n",
       " ('Brad Bird', 3),\n",
       " ('Brad Peyton', 3),\n",
       " ('Neill Blomkamp', 3),\n",
       " ('Breck Eisner', 3),\n",
       " ('Todd Haynes', 3),\n",
       " ('Baltasar KormÃ¡kur', 3),\n",
       " ('John Wells', 3),\n",
       " ('David Koepp', 3),\n",
       " ('Tom Hooper', 3),\n",
       " ('Paul Feig', 3),\n",
       " ('Glenn Ficarra|John Requa', 3),\n",
       " ('Jonathan Levine', 3),\n",
       " ('Gil Kenan', 3),\n",
       " ('Sean Anders', 3),\n",
       " ('Scott Cooper', 3),\n",
       " ('Pierre Morel', 3),\n",
       " ('Neil Burger', 3),\n",
       " ('Jonathan Liebesman', 3),\n",
       " ('Jake Kasdan', 3),\n",
       " ('Matt Reeves', 3),\n",
       " ('Marc Webb', 3),\n",
       " ('Roger Donaldson', 3),\n",
       " ('Paul Thomas Anderson', 3),\n",
       " ('Carlos Saldanha', 3),\n",
       " ('Will Gluck', 3),\n",
       " ('Bennett Miller', 3),\n",
       " ('Steve Pink', 3),\n",
       " ('Thomas Carter', 3),\n",
       " ('Randall Wallace', 3),\n",
       " ('Ruben Fleischer', 3),\n",
       " ('Stephen Sommers', 3),\n",
       " ('Burr Steers', 3),\n",
       " ('Mark Neveldine|Brian Taylor', 3),\n",
       " ('Jim Sheridan', 3),\n",
       " ('Betty Thomas', 3),\n",
       " ('Kevin Macdonald', 3),\n",
       " ('David S. Goyer', 3),\n",
       " ('Ethan Coen|Joel Coen', 3),\n",
       " ('James McTeigue', 3),\n",
       " ('Patrick Lussier', 3),\n",
       " ('David Bowers', 3),\n",
       " ('Michael Moore', 3),\n",
       " ('Rob Zombie', 3),\n",
       " ('Peter Chelsom', 3),\n",
       " ('Tony Gilroy', 3),\n",
       " ('Greg Mottola', 3),\n",
       " ('Jonathan Mostow', 3),\n",
       " ('Thor Freudenthal', 3),\n",
       " ('Marc Lawrence', 3),\n",
       " ('Sylvester Stallone', 3),\n",
       " ('Mike Newell', 3),\n",
       " ('Mike Mitchell', 3),\n",
       " ('Joe Carnahan', 3),\n",
       " ('Ben Affleck', 3),\n",
       " ('Harald Zwart', 3),\n",
       " ('Roman Polanski', 3),\n",
       " ('Paul Haggis', 3),\n",
       " ('David O. Russell', 3),\n",
       " ('Alexandre Aja', 3),\n",
       " ('Michael Lembeck', 3),\n",
       " ('John Madden', 3),\n",
       " ('Brian Levant', 3),\n",
       " ('Robert Redford', 3),\n",
       " ('Neil LaBute', 3),\n",
       " ('Tom Dey', 3),\n",
       " ('Tyler Perry', 3),\n",
       " ('Baz Luhrmann', 3),\n",
       " ('Ben Stiller', 3),\n",
       " ('Iain Softley', 3),\n",
       " ('Jesse Dylan', 3),\n",
       " ('John Stockwell', 3),\n",
       " ('Tim Hill', 3),\n",
       " ('Joe Johnston', 3),\n",
       " ('Catherine Hardwicke', 3),\n",
       " ('Kathryn Bigelow', 3),\n",
       " ('Seth Gordon', 3),\n",
       " ('Woody Allen', 3),\n",
       " ('Brad Anderson', 3),\n",
       " ('Gregory Hoblit', 3),\n",
       " ('Gus Van Sant', 3),\n",
       " ('Andrew Niccol', 3),\n",
       " ('Stephen Daldry', 3),\n",
       " ('Craig Brewer', 3),\n",
       " ('William Friedkin', 3),\n",
       " ('Wayne Wang', 3),\n",
       " ('Jeff Tremaine', 3),\n",
       " ('John Woo', 3),\n",
       " ('Tom Shadyac', 3),\n",
       " ('Ang Lee', 3),\n",
       " ('Uwe Boll', 3),\n",
       " ('Rob Reiner', 3),\n",
       " ('Alfonso CuarÃ³n', 3),\n",
       " ('Stephen Frears', 3),\n",
       " ('Wolfgang Petersen', 3),\n",
       " ('Alan Taylor', 2),\n",
       " ('Lana Wachowski|Lilly Wachowski', 2),\n",
       " ('Joss Whedon', 2),\n",
       " ('Christopher McQuarrie', 2),\n",
       " ('Seth MacFarlane', 2),\n",
       " ('Wes Ball', 2),\n",
       " ('Rob Letterman', 2),\n",
       " ('Denis Villeneuve', 2),\n",
       " ('Josh Trank', 2),\n",
       " ('George Tillman, Jr.', 2),\n",
       " ('Genndy Tartakovsky', 2),\n",
       " ('Jessie Nelson', 2),\n",
       " ('Daniel Espinosa', 2),\n",
       " ('Simon Curtis', 2),\n",
       " ('Jason Moore', 2),\n",
       " ('Camille Delamarre', 2),\n",
       " ('Jonathan Demme', 2),\n",
       " ('Ken Scott', 2),\n",
       " ('Mike Binder', 2),\n",
       " ('Luc Besson', 2),\n",
       " ('Noam Murro', 2),\n",
       " ('Phillip Noyce', 2),\n",
       " ('Scott Frank', 2),\n",
       " ('Daniel Barnz', 2),\n",
       " ('J.C. Chandor', 2),\n",
       " ('Michael Spierig|Peter Spierig', 2),\n",
       " ('Steven Quale', 2),\n",
       " ('Shana Feste', 2),\n",
       " ('Stuart Beattie', 2),\n",
       " ('Miguel Arteta', 2),\n",
       " ('Craig Gillespie', 2),\n",
       " ('Charles Martin Smith', 2),\n",
       " ('James Bobin', 2),\n",
       " ('Rupert Wyatt', 2),\n",
       " ('James Cameron', 2),\n",
       " ('Ron Clements|John Musker', 2),\n",
       " ('Chris Weitz', 2),\n",
       " ('Henry Selick', 2),\n",
       " ('Christian Alvart', 2),\n",
       " ('Alex Proyas', 2),\n",
       " ('Duncan Jones', 2),\n",
       " ('P.J. Hogan', 2),\n",
       " ('John Hillcoat', 2),\n",
       " ('Nora Ephron', 2),\n",
       " ('Karyn Kusama', 2),\n",
       " ('Gary Winick', 2),\n",
       " ('Lee Daniels', 2),\n",
       " ('John Hamburg', 2),\n",
       " ('Richard Curtis', 2),\n",
       " ('Kevin Greutert', 2),\n",
       " ('Jean-Marc VallÃ©e', 2),\n",
       " ('Brad Silberling', 2),\n",
       " ('Harold Ramis', 2),\n",
       " ('Walt Becker', 2),\n",
       " ('Alejandro AmenÃ¡bar', 2),\n",
       " ('Werner Herzog', 2),\n",
       " ('Lone Scherfig', 2),\n",
       " ('Tom Tykwer', 2),\n",
       " ('Brian Koppelman|David Levien', 2),\n",
       " ('Michael J. Bassett', 2),\n",
       " ('Stewart Hendler', 2),\n",
       " ('Bruce Beresford', 2),\n",
       " ('Pierre Coffin|Chris Renaud', 2),\n",
       " ('Dean DeBlois|Chris Sanders', 2),\n",
       " ('Joseph Kosinski', 2),\n",
       " ('Michael Apted', 2),\n",
       " ('Albert Hughes|Allen Hughes', 2),\n",
       " ('David Slade', 2),\n",
       " ('Peter Weir', 2),\n",
       " ('Jonathan Lynn', 2),\n",
       " ('Jimmy Hayward', 2),\n",
       " ('Scott Stewart', 2),\n",
       " ('Michael Patrick King', 2),\n",
       " ('John Luessenhop', 2),\n",
       " ('Mark Romanek', 2),\n",
       " ('Neil Marshall', 2),\n",
       " ('Roger Michell', 2),\n",
       " ('James L. Brooks', 2),\n",
       " ('Eric Brevig', 2),\n",
       " ('Tom Vaughan', 2),\n",
       " ('Roger Kumble', 2),\n",
       " ('Kevin Munroe', 2),\n",
       " ('Jean-Jacques Annaud', 2),\n",
       " ('John A. Davis', 2),\n",
       " ('Peter Howitt', 2),\n",
       " ('Victor Salva', 2),\n",
       " ('Rod Lurie', 2),\n",
       " ('John Dahl', 2),\n",
       " ('Bill Paxton', 2),\n",
       " ('Luis Mandoki', 2),\n",
       " ('Scott Hicks', 2),\n",
       " ('Ivan Reitman', 2),\n",
       " ('Frank Oz', 2),\n",
       " ('Frank Darabont', 2),\n",
       " ('Mike Tollin', 2),\n",
       " ('Peter Hyams', 2),\n",
       " ('Andrew Stanton', 2),\n",
       " ('Phyllida Lloyd', 2),\n",
       " ('Eric Darnell|Tom McGrath', 2),\n",
       " ('Timur Bekmambetov', 2),\n",
       " ('Andrew Adamson', 2),\n",
       " ('Scott Derrickson', 2),\n",
       " ('Gabriele Muccino', 2),\n",
       " ('Pete Travis', 2),\n",
       " ('David Wain', 2),\n",
       " ('Mathieu Kassovitz', 2),\n",
       " ('Martin McDonagh', 2),\n",
       " ('Jon Hurwitz|Hayden Schlossberg', 2),\n",
       " ('Jon Avnet', 2),\n",
       " ('GÃ¡bor CsupÃ³', 2),\n",
       " ('Gina Prince-Bythewood', 2),\n",
       " ('Julian Jarrold', 2),\n",
       " ('Rian Johnson', 2),\n",
       " ('Howard Deutch', 2),\n",
       " ('Joshua Michael Stern', 2),\n",
       " ('Brad Furman', 2),\n",
       " ('Michel Gondry', 2),\n",
       " ('Simon Wells', 2),\n",
       " ('Henry Joost|Ariel Schulman', 2),\n",
       " ('Michael Dowse', 2),\n",
       " ('Joe Nussbaum', 2),\n",
       " ('John Whitesell', 2),\n",
       " ('Salim Akil', 2),\n",
       " ('Chris Wedge|Carlos Saldanha', 2),\n",
       " ('George Lucas', 2),\n",
       " ('Steven Brill', 2),\n",
       " ('Andrew Davis', 2),\n",
       " ('Spike Jonze', 2),\n",
       " ('Walter Hill', 2),\n",
       " ('Brian De Palma', 2),\n",
       " ('Michael Caton-Jones', 2),\n",
       " ('Rob Bowman', 2),\n",
       " ('Carl Franklin', 2),\n",
       " ('Shekhar Kapur', 2),\n",
       " ('Denzel Washington', 2),\n",
       " ('Stephen Gaghan', 2),\n",
       " ('Reginald Hudlin', 2),\n",
       " ('Charles Stone III', 2),\n",
       " ('Gary Ross', 2),\n",
       " ('Kirk Jones', 2),\n",
       " ('Larry Charles', 2),\n",
       " ('Andrew Dominik', 2),\n",
       " ('Walter Salles', 2),\n",
       " ('Lilly Wachowski|Lana Wachowski', 2),\n",
       " ('Mark Steven Johnson', 2),\n",
       " ('David Zucker', 2),\n",
       " ('Bille Woodruff', 2),\n",
       " ('Clark Johnson', 2),\n",
       " ('Richard Donner', 2),\n",
       " ('Joel Coen', 2),\n",
       " ('Nigel Cole', 2),\n",
       " ('Robert Iscove', 2),\n",
       " ('Taylor Hackford', 2),\n",
       " ('Spike Lee', 2),\n",
       " ('Sofia Coppola', 2),\n",
       " ('Courtney Solomon', 2),\n",
       " ('Mark Dindal', 2),\n",
       " ('Jay Chandrasekhar', 2),\n",
       " ('Kevin Rodney Sullivan', 2),\n",
       " ('Geoffrey Sax', 2),\n",
       " ('James Wong', 2),\n",
       " ('Mel Gibson', 2),\n",
       " ('Darren Lynn Bousman', 2),\n",
       " ('Nick Hurran', 2),\n",
       " ('Peter Hewitt', 2),\n",
       " ('Takashi Shimizu', 2),\n",
       " ('Richard Loncraine', 2),\n",
       " ('Mira Nair', 2),\n",
       " ('Danny Leiner', 2),\n",
       " ('Mike Nichols', 2),\n",
       " ('Philip Kaufman', 2),\n",
       " ('Jay Russell', 2),\n",
       " ('Richard LaGravenese', 2),\n",
       " ('Kevin Lima', 2),\n",
       " ('Colin Trevorrow', 1),\n",
       " ('Kyle Balda|Pierre Coffin', 1),\n",
       " ('Pete Docter', 1),\n",
       " ('Alex Garland', 1),\n",
       " ('Sam Taylor-Johnson', 1),\n",
       " ('Tom McCarthy', 1),\n",
       " ('Elizabeth Banks', 1),\n",
       " ('Lenny Abrahamson', 1),\n",
       " ('Peter Sohn', 1),\n",
       " ('John Crowley', 1),\n",
       " ('Lee Toland Krieger', 1),\n",
       " ('Ilya Naishuller', 1),\n",
       " ('Tim Johnson', 1),\n",
       " ('Jake Schreier', 1),\n",
       " ('Ericson Core', 1),\n",
       " ('Aleksander Bach', 1),\n",
       " ('Ryan Coogler', 1),\n",
       " ('Steve Martino', 1),\n",
       " ('Peter Landesman', 1),\n",
       " ('John Francis Daley|Jonathan M. Goldstein', 1),\n",
       " ('Joel Edgerton', 1),\n",
       " ('Mark Osborne', 1),\n",
       " ('Jocelyn Moorhouse', 1),\n",
       " ('Ari Sandel', 1),\n",
       " ('Ciaran Foy', 1),\n",
       " ('Doug Ellin', 1),\n",
       " ('Jeremy Garelick', 1),\n",
       " ('Michael Dougherty', 1),\n",
       " ('Dean Israelite', 1),\n",
       " ('Gregory Jacobs', 1),\n",
       " ('Gregory Plotkin', 1),\n",
       " ('Billy Ray', 1),\n",
       " ('Paul Tibbitt', 1),\n",
       " ('Leigh Whannell', 1),\n",
       " ('Nicholas Hytner', 1),\n",
       " ('David M. Rosenthal', 1),\n",
       " ('Noah Baumbach', 1),\n",
       " ('Etan Cohen', 1),\n",
       " ('Sarah Gavron', 1),\n",
       " ('Max Joseph', 1),\n",
       " ('Alejandro Monteverde', 1),\n",
       " ('James Gunn', 1),\n",
       " ('Joe Russo|Anthony Russo', 1),\n",
       " ('Chad Stahelski|David Leitch', 1),\n",
       " ('Don Hall|Chris Williams', 1),\n",
       " ('Morten Tyldum', 1),\n",
       " ('Dan Gilroy', 1),\n",
       " ('Evan Goldberg|Seth Rogen', 1),\n",
       " ('Gareth Edwards', 1),\n",
       " ('Robert Stromberg', 1),\n",
       " ('Stiles White', 1),\n",
       " ('Dean DeBlois', 1),\n",
       " ('Patrick Hughes', 1),\n",
       " ('Sergey Bodrov', 1),\n",
       " ('James Marsh', 1),\n",
       " ('Gary Shore', 1),\n",
       " ('Simon J. Smith|Eric Darnell', 1),\n",
       " ('Paul King', 1),\n",
       " ('James DeMonaco', 1),\n",
       " ('Vic Armstrong', 1),\n",
       " ('R.J. Cutler', 1),\n",
       " ('Trish Sie', 1),\n",
       " ('Josh Boone', 1),\n",
       " ('JosÃ© Padilha', 1),\n",
       " ('Wally Pfister', 1),\n",
       " ('Frank Miller|Robert Rodriguez', 1),\n",
       " ('Angelina Jolie', 1),\n",
       " ('Ava DuVernay', 1),\n",
       " ('Michael Hoffman', 1),\n",
       " ('Theodore Melfi', 1),\n",
       " ('Scott Waugh', 1),\n",
       " ('Graham Annable|Anthony Stacchi', 1),\n",
       " ('Brian A Miller', 1),\n",
       " ('Roberts Gannaway', 1),\n",
       " ('Sam Miller', 1),\n",
       " ('David MichÃ´d', 1),\n",
       " ('Saul Dibb', 1),\n",
       " ('John R. Leonetti', 1),\n",
       " ('Tom Gormican', 1),\n",
       " ('Ben Falcone', 1),\n",
       " ('Akiva Goldsman', 1),\n",
       " ('Adam Wingard', 1),\n",
       " ('Russell Crowe', 1),\n",
       " ('Jonathan Glazer', 1),\n",
       " ('Rob Thomas', 1),\n",
       " ('Christopher Spencer', 1),\n",
       " ('GrÃ©gory Levasseur', 1),\n",
       " ('Michael Cuesta', 1),\n",
       " ('Andrew Erwin|Jon Erwin', 1),\n",
       " ('Dave Green', 1),\n",
       " ('Don McKellar', 1),\n",
       " ('Harold Cronk', 1),\n",
       " ('Matt Bettinelli-Olpin|Tyler Gillett', 1),\n",
       " ('Patrick Tatopoulos', 1),\n",
       " ('Bob Peterson|Pete Docter', 1),\n",
       " ('Shane Acker', 1),\n",
       " ('Richard Kelly', 1),\n",
       " ('Hoyt Yeatman', 1),\n",
       " ('Ricky Gervais|Matthew Robinson', 1),\n",
       " ('Jaco Van Dormael', 1),\n",
       " ('Peter Billingsley', 1),\n",
       " ('Rob Letterman|Conrad Vernon', 1),\n",
       " ('Atom Egoyan', 1),\n",
       " ('Phil Traill', 1),\n",
       " ('Brandon Camp', 1),\n",
       " ('Rajkumar Hirani', 1),\n",
       " ('Grant Heslov', 1),\n",
       " ('Todd Graff', 1),\n",
       " ('Jorge Blanco|Javier Abad|Marcos MartÃ\\xadnez', 1),\n",
       " ('Troy Duffy', 1),\n",
       " ('John Schultz', 1),\n",
       " ('Olatunde Osunsanmi', 1),\n",
       " ('Jane Campion', 1),\n",
       " ('Mike Judge', 1),\n",
       " ('Daniel Barber', 1),\n",
       " ('Steve Shill', 1),\n",
       " ('Jonas Elmer', 1),\n",
       " ('Derrick Borte', 1),\n",
       " ('Vicky Jenson', 1),\n",
       " ('Toby Wilkins', 1),\n",
       " ('Nathan Greno|Byron Howard', 1),\n",
       " ('Lee Unkrich', 1),\n",
       " ('Florian Henckel von Donnersmarck', 1),\n",
       " ('Edgar Wright', 1),\n",
       " ('Robert Rodriguez|Ethan Maniquis', 1),\n",
       " ('Tom McGrath', 1),\n",
       " ('Miguel Sapochnik', 1),\n",
       " ('Ryan Murphy', 1),\n",
       " ('Anand Tucker', 1),\n",
       " ('Alan Poul', 1),\n",
       " ('Josh Gordon|Will Speck', 1),\n",
       " ('Floria Sigismondi', 1),\n",
       " ('Troy Nixey', 1),\n",
       " ('Samuel Bayer', 1),\n",
       " ('Susanna White', 1),\n",
       " ('Steve Antin', 1),\n",
       " ('Nanette Burstein', 1),\n",
       " ('Greg Berlanti', 1),\n",
       " ('John Curran', 1),\n",
       " ('Tony Goldwyn', 1),\n",
       " ('Colin Strause|Greg Strause', 1),\n",
       " ('Jorma Taccone', 1),\n",
       " ('Jim Field Smith', 1),\n",
       " ('William Monahan', 1),\n",
       " ('Dan Rush', 1),\n",
       " ('Anthony Bell|Ben Gluck', 1),\n",
       " ('Richard J. Lewis', 1),\n",
       " ('William Dear', 1),\n",
       " ('Sngmoo Lee', 1),\n",
       " ('John Landis', 1),\n",
       " ('Vipul Amrutlal Shah', 1),\n",
       " ('David Lynch', 1),\n",
       " ('Lee Unkrich|David Silverman|Pete Docter', 1),\n",
       " ('Andrew Adamson|Vicky Jenson', 1),\n",
       " ('Sharon Maguire', 1),\n",
       " ('Gary Trousdale|Kirk Wise', 1),\n",
       " ('J.B. Rogers', 1),\n",
       " ('Ted Demme', 1),\n",
       " ('Joel Gallen', 1),\n",
       " ('Lawrence Guterman', 1),\n",
       " ('Chris Nahon', 1),\n",
       " ('Hironobu Sakaguchi|Motonori Sakakibara', 1),\n",
       " ('Michael Cristofer', 1),\n",
       " ('Jerry Zucker', 1),\n",
       " ('Robert Altman', 1),\n",
       " ('James Isaac', 1),\n",
       " ('Stephen Herek', 1),\n",
       " ('Simon Wincer', 1),\n",
       " ('Daniel Sackheim', 1),\n",
       " ('John Herzfeld', 1),\n",
       " ('Dennie Gordon', 1),\n",
       " ('John Boorman', 1),\n",
       " (\"Pat O'Connor\", 1),\n",
       " ('Gregory Poirier', 1),\n",
       " ('Demian Lichtenstein', 1),\n",
       " ('John Carpenter', 1),\n",
       " ('Penny Marshall', 1),\n",
       " ('Brendan Malloy|Emmett Malloy', 1),\n",
       " ('Les Mayfield', 1),\n",
       " ('Harold Becker', 1),\n",
       " ('Rob Pritts', 1),\n",
       " ('Peter Bogdanovich', 1),\n",
       " ('Francine McDougall', 1),\n",
       " ('Ernest R. Dickerson', 1),\n",
       " ('DJ Pooh', 1),\n",
       " ('Mark Osborne|John Stevenson', 1),\n",
       " ('Danny Boyle|Loveleen Tandan', 1),\n",
       " ('Mark Herman', 1),\n",
       " ('Chris Williams|Byron Howard', 1),\n",
       " ('Jeff Wadlow', 1),\n",
       " ('Lexi Alexander', 1),\n",
       " ('Peter Sollett', 1),\n",
       " ('Fred Wolf', 1),\n",
       " ('David Hackl', 1),\n",
       " ('Marco Schnabel', 1),\n",
       " ('Jimmy Hayward|Steve Martino', 1),\n",
       " ('Bryan Bertino', 1),\n",
       " ('Howard McCain', 1),\n",
       " ('Chris Carter', 1),\n",
       " ('John Patrick Shanley', 1),\n",
       " ('Paul Weiland', 1),\n",
       " ('Marcel Langenegger', 1),\n",
       " ('David Moreau|Xavier Palud', 1),\n",
       " ('Oxide Pang Chun|Danny Pang', 1),\n",
       " ('Frank Miller', 1),\n",
       " ('Peter Cattaneo', 1),\n",
       " ('Robert Stevenhagen|Sam Fell', 1),\n",
       " ('Craig Mazin', 1),\n",
       " ('Michael McCullers', 1),\n",
       " ('Kirk De Micco', 1),\n",
       " ('RyÃ»hei Kitamura', 1),\n",
       " ('Simon Hunter', 1),\n",
       " ('Jennifer Flackett|Mark Levin', 1),\n",
       " ('Anthony Leondis', 1),\n",
       " ('Robert B. Weide', 1),\n",
       " ('Nicolas Winding Refn', 1),\n",
       " ('Jennifer Yuh', 1),\n",
       " ('John Lasseter|Brad Lewis', 1),\n",
       " ('Terrence Malick', 1),\n",
       " ('Michel Hazanavicius', 1),\n",
       " ('Gary McKendry', 1),\n",
       " ('Stephen Anderson|Don Hall', 1),\n",
       " ('George Nolfi', 1),\n",
       " ('Tom Hanks', 1),\n",
       " ('Mark Mylod', 1),\n",
       " ('Chris Gorak', 1),\n",
       " ('Tate Taylor', 1),\n",
       " ('Christian E. Christiansen', 1),\n",
       " ('Chris Miller', 1),\n",
       " ('Oliver Parker', 1),\n",
       " ('Todd Strauss-Schulson', 1),\n",
       " ('Matthijs van Heijningen Jr.', 1),\n",
       " ('Gonzalo LÃ³pez-Gallego', 1),\n",
       " ('Joe Cornish', 1),\n",
       " ('Kelly Asbury', 1),\n",
       " ('Bruce Robinson', 1),\n",
       " ('John Michael McDonagh', 1),\n",
       " ('Jesse Peretz', 1),\n",
       " ('Jason Winer', 1),\n",
       " ('Alister Grierson', 1),\n",
       " ('Douglas McGrath', 1),\n",
       " ('Sean McNamara', 1),\n",
       " ('Mike Disa', 1),\n",
       " ('Benny Chan', 1),\n",
       " ('Thomas Bezucha', 1),\n",
       " ('Paul Johansson', 1),\n",
       " ('Paolo Sorrentino', 1),\n",
       " ('Rodrigo GarcÃ\\xada', 1),\n",
       " ('Mark Duplass|Jay Duplass', 1),\n",
       " ('Louis Leterrier|Corey Yuen Kwai', 1),\n",
       " ('Curtis Hanson', 1),\n",
       " ('Joel Zwick', 1),\n",
       " ('Chris Weitz|Paul Weitz', 1),\n",
       " ('Stuart Baird', 1),\n",
       " ('Kurt Wimmer', 1),\n",
       " ('Steve Beck', 1),\n",
       " ('Kelly Asbury|Lorna Cook', 1),\n",
       " ('Jim Gillespie', 1),\n",
       " ('Chuck Russell', 1),\n",
       " ('Julie Taymor', 1),\n",
       " ('Barbet Schroeder', 1),\n",
       " ('Ron Shelton', 1),\n",
       " ('Adrian Lyne', 1),\n",
       " ('Michael Rymer', 1),\n",
       " ('Marcus Raboy', 1),\n",
       " ('Robin Budd|Donovan Cook', 1),\n",
       " ('Dewey Nicks', 1),\n",
       " ('Mark Pellington', 1),\n",
       " ('Jonathan Frakes', 1),\n",
       " ('Rick Rosenthal', 1),\n",
       " ('Mort Nathan', 1),\n",
       " ('Tamra Davis', 1),\n",
       " ('Ron Underwood', 1),\n",
       " ('Kevin Bray', 1),\n",
       " ('William Malone', 1),\n",
       " ('Paul Schrader', 1),\n",
       " ('MÃ¥ns MÃ¥rlind|BjÃ¶rn Stein', 1),\n",
       " ('Mark Andrews|Steve Purcell|Brenda Chapman', 1),\n",
       " ('Rupert Sanders', 1),\n",
       " ('Steve Martino|Mike Thurmeier', 1),\n",
       " ('Juan Antonio Bayona', 1),\n",
       " ('Rich Moore', 1),\n",
       " ('Lilly Wachowski|Lana Wachowski|Tom Tykwer', 1),\n",
       " ('Stephen Chbosky', 1),\n",
       " ('Drew Goddard', 1),\n",
       " ('Peter Ramsey', 1),\n",
       " ('Michael Sucsy', 1),\n",
       " ('Juan Diego Solanas', 1),\n",
       " ('Chris Renaud|Kyle Balda', 1),\n",
       " ('Scott Speer', 1),\n",
       " ('Mike McCoy|Scott Waugh', 1),\n",
       " ('Nima Nourizadeh', 1),\n",
       " ('Eric Darnell|Tom McGrath|Conrad Vernon', 1),\n",
       " ('Peter Lord|Jeff Newitt', 1),\n",
       " ('Stephen St. Leger|James Mather', 1),\n",
       " ('James Watkins', 1),\n",
       " ('Asger Leth', 1),\n",
       " ('Henry Alex Rubin', 1),\n",
       " ('Alex Kurtzman', 1),\n",
       " ('John Gulager', 1),\n",
       " ('Ole Bornedal', 1),\n",
       " ('Mabrouk El Mechri', 1),\n",
       " ('Nicholas Jarecki', 1),\n",
       " ('Dan Bradley', 1),\n",
       " ('Julie Anne Robinson', 1),\n",
       " ('Dustin Hoffman', 1),\n",
       " ('Sam Fell|Chris Butler', 1),\n",
       " ('Dean Wright', 1),\n",
       " ('Anthony Hemingway', 1),\n",
       " ('Josh Schwartz', 1),\n",
       " ('Brian Klugman|Lee Sternthal', 1),\n",
       " ('David Barrett', 1),\n",
       " ('Todd Lincoln ', 1),\n",
       " ('Dan Cutforth|Jane Lipsitz', 1),\n",
       " ('Andrew Stanton|Lee Unkrich', 1),\n",
       " ('Stephen Norrington', 1),\n",
       " ('Steve Trenbirth', 1),\n",
       " ('Terry Zwigoff', 1),\n",
       " ('Jan de Bont', 1),\n",
       " ('Rob Schmidt', 1),\n",
       " ('Jon Amiel', 1),\n",
       " ('Charles Herman-Wurmfeld', 1),\n",
       " ('Anthony Minghella', 1),\n",
       " ('Ronny Yu', 1),\n",
       " ('Joe Dante', 1),\n",
       " ('John McTiernan', 1),\n",
       " ('Kevin Costner', 1),\n",
       " ('Jim Fall', 1),\n",
       " ('Lawrence Kasdan', 1),\n",
       " ('Patty Jenkins', 1),\n",
       " ('Martin Brest', 1),\n",
       " ('Ronald F. Maxwell', 1),\n",
       " ('Troy Miller', 1),\n",
       " ('Alan Parker', 1),\n",
       " ('Chris Koch', 1),\n",
       " ('David Mackenzie', 1),\n",
       " ('FranÃ§ois Ozon', 1),\n",
       " ('Christopher Guest', 1),\n",
       " ('James Cox', 1),\n",
       " ('Christine Jeffs', 1),\n",
       " ('Chris Buck|Jennifer Lee', 1),\n",
       " ('Shane Black', 1),\n",
       " ('Steve McQueen', 1),\n",
       " ('Dan Scanlon', 1),\n",
       " ('Tommy Wirkola', 1),\n",
       " ('Carl Rinsch', 1),\n",
       " ('Chris Wedge', 1),\n",
       " ('Klay Hall', 1),\n",
       " ('Harmony Korine', 1),\n",
       " ('Fede Alvarez', 1),\n",
       " ('Derek Cianfrance', 1),\n",
       " ('Kirk De Micco|Chris Sanders', 1),\n",
       " ('Kimberly Peirce', 1),\n",
       " ('John Carney', 1),\n",
       " ('Justin Zackham', 1),\n",
       " ('Seth Rogen|Evan Goldberg', 1),\n",
       " ('Mike Flanagan', 1),\n",
       " ('David Soren', 1),\n",
       " ('Steven Knight', 1),\n",
       " ('Andy Muschietti', 1),\n",
       " ('Steven Brill|Elizabeth Banks|Steve Carr|Rusty Cundieff|James Duffy|Griffin Dunne|Peter Farrelly|Patrik Forsberg|James Gunn|Brett Ratner|Will Graham|Jonathan van Tulleken',\n",
       "  1),\n",
       " ('Scott Moore|Jon Lucas', 1),\n",
       " ('Callan Brunker', 1),\n",
       " ('Amma Asante', 1),\n",
       " ('Dito Montiel', 1),\n",
       " ('Cody Cameron|Kris Pearn', 1),\n",
       " ('Giuseppe Tornatore', 1),\n",
       " ('Don Scardino', 1),\n",
       " ('Jeff Nichols', 1),\n",
       " ('Jonathan Teplitzky', 1),\n",
       " ('Allen Hughes', 1),\n",
       " ('Neil Nightingale|Barry Cook', 1),\n",
       " ('Scott Walker', 1),\n",
       " ('Guillaume Canet', 1),\n",
       " ('Ric Roman Waugh', 1),\n",
       " ('Keanu Reeves', 1),\n",
       " ('David E. Talbert', 1),\n",
       " ('Christopher B. Landon', 1),\n",
       " ('Benson Lee', 1),\n",
       " ('Anthony Silverston', 1),\n",
       " ('Kasi Lemmons', 1),\n",
       " ('Dan St. Pierre', 1),\n",
       " ('Zal Batmanglij', 1),\n",
       " ('Ed Gass-Donnelly', 1),\n",
       " ('Justin Chadwick', 1),\n",
       " ('Oliver Hirschbiegel', 1),\n",
       " ('Fyodor Bondarchuk', 1),\n",
       " ('Robert Rodriguez|Frank Miller|Quentin Tarantino', 1),\n",
       " ('Garth Jennings', 1),\n",
       " ('Tim Burton|Mike Johnson', 1),\n",
       " ('Steve Box|Nick Park', 1),\n",
       " ('John Maybury', 1),\n",
       " ('Angela Robinson', 1),\n",
       " ('Cory Edwards|Todd Edwards|Tony Leech', 1),\n",
       " ('John Polson', 1),\n",
       " ('Sydney Pollack', 1),\n",
       " ('Terry Gilliam', 1),\n",
       " ('Florent-Emilio Siri', 1),\n",
       " ('Frederik Du Chau', 1),\n",
       " ('Andrew Douglas', 1),\n",
       " ('Dean Parisot', 1),\n",
       " ('Jean-FranÃ§ois Richet', 1),\n",
       " ('Jim Jarmusch', 1),\n",
       " ('George A. Romero', 1),\n",
       " ('Rupert Wainwright', 1),\n",
       " ('Clare Kilner', 1),\n",
       " ('Richard Shepard', 1),\n",
       " ('Gary Chapman', 1),\n",
       " ('Fernando Meirelles', 1),\n",
       " ('Tommy Lee Jones', 1),\n",
       " ('Danny Cannon', 1),\n",
       " ('Liev Schreiber', 1),\n",
       " ('Stephen Kay', 1),\n",
       " ('Bruce Hunt', 1),\n",
       " ('Niki Caro', 1),\n",
       " ('John Lasseter|Joe Ranft', 1),\n",
       " ('Tim Johnson|Karey Kirkpatrick', 1),\n",
       " ('Brian Taylor|Mark Neveldine', 1),\n",
       " ('Frank Marshall', 1),\n",
       " ('Christophe Gans', 1),\n",
       " ('David Bowers|Sam Fell', 1),\n",
       " (\"Steve 'Spaz' Williams\", 1),\n",
       " ('Stefen Fangmeier', 1),\n",
       " ('Alejandro Agresti', 1),\n",
       " ('Robert De Niro', 1),\n",
       " ('Kevin Reynolds', 1),\n",
       " (\"Matthew O'Callaghan\", 1),\n",
       " ('Steven Zaillian', 1),\n",
       " ('Joe Roth', 1),\n",
       " ('Jared Hess', 1),\n",
       " ('Steven Shainberg', 1),\n",
       " ('Anthony Russo|Joe Russo', 1),\n",
       " ('Jonathan Dayton|Valerie Faris', 1),\n",
       " ('Greg Coolidge', 1),\n",
       " ('Aaron Seltzer|Jason Friedberg', 1),\n",
       " ('Roger Allers|Jill Culton|Anthony Stacchi', 1),\n",
       " ('Steve Oedekerk', 1),\n",
       " ('Chris Noonan', 1),\n",
       " ('Jim Sonzero', 1),\n",
       " ('John Bonito', 1),\n",
       " ('Liz Friedlander', 1),\n",
       " ('Elizabeth Allen Rosenbaum', 1),\n",
       " ('Richard Eyre', 1),\n",
       " ('Tony Bill', 1),\n",
       " ('Wayne Kramer', 1),\n",
       " ('Susannah Grant', 1),\n",
       " ('Liam Lynch', 1),\n",
       " ('Sanjay Gadhvi', 1),\n",
       " ('Glen Morgan', 1),\n",
       " ('Phil Joanou', 1),\n",
       " ('Rachid Bouchareb', 1),\n",
       " ('William Brent Bell', 1),\n",
       " ('Asif Kapadia', 1),\n",
       " ('Doug Atchison', 1),\n",
       " ('Beeban Kidron', 1),\n",
       " ('Andrew Adamson|Kelly Asbury|Conrad Vernon', 1),\n",
       " ('Eric Bress|J. Mackye Gruber', 1),\n",
       " ('Alexander Witt', 1),\n",
       " ('Bibo Bergeron|Vicky Jenson|Rob Letterman', 1),\n",
       " ('Kerry Conran', 1),\n",
       " ('Stephen Hillenburg', 1),\n",
       " (\"Tommy O'Haver\", 1),\n",
       " ('Mark Rosman', 1),\n",
       " ('Rawson Marshall Thurber', 1),\n",
       " ('Jeff Schaffer', 1),\n",
       " ('Jonathan Hensleigh', 1),\n",
       " ('Pitof', 1),\n",
       " ('Don Mancini', 1),\n",
       " ('Charles Shyer', 1),\n",
       " ('Will Finn|John Sanford', 1),\n",
       " ('Terry George', 1),\n",
       " ('Trey Parker', 1),\n",
       " ('Sara Sugarman', 1),\n",
       " ('Guy Ferland', 1),\n",
       " ('Joseph Ruben', 1),\n",
       " ('Nick Hamm', 1),\n",
       " ('Paul Abascal', 1),\n",
       " ('Joseph Kahn', 1),\n",
       " (\"Gavin O'Connor\", 1),\n",
       " ('E. Elias Merhige', 1),\n",
       " ('George Armitage', 1),\n",
       " ('David Mamet', 1),\n",
       " ('Kevin Allen', 1),\n",
       " ('Christopher Erskin', 1),\n",
       " ('Brad Bird|Jan Pinkava', 1),\n",
       " ('Joel Coen|Ethan Coen', 1),\n",
       " ('Sean Penn', 1),\n",
       " ('Chris Miller|Raman Hui', 1),\n",
       " ('Steve Hickner|Simon J. Smith', 1),\n",
       " ('Stephen J. Anderson', 1),\n",
       " ('David Silverman', 1),\n",
       " ('Juan Carlos Fresnadillo', 1),\n",
       " ('Steve Bendelack', 1),\n",
       " ('Bruce A. Evans', 1),\n",
       " ('Kirsten Sheridan', 1),\n",
       " ('Joby Harold', 1),\n",
       " ('Philip G. Atwell', 1),\n",
       " ('Mennan Yapo', 1),\n",
       " ('Michael Davis', 1),\n",
       " ('Ash Brannon|Chris Buck', 1),\n",
       " ('Xavier Gens', 1),\n",
       " ('Robert Rodriguez|Eli Roth|Quentin Tarantino|Edgar Wright|Rob Zombie|Jason Eisener',\n",
       "  1),\n",
       " ('David Schwimmer', 1),\n",
       " ('Eli Roth', 1),\n",
       " ('Dave Meyers', 1),\n",
       " ('Chris Sivertson', 1),\n",
       " ('Michael Haneke', 1),\n",
       " ('Oliver Hirschbiegel|James McTeigue', 1),\n",
       " ('Sidney Lumet', 1),\n",
       " ('Fred Savage', 1),\n",
       " ('Russell Mulcahy', 1),\n",
       " ('Michael Winterbottom', 1),\n",
       " ('Stephen Hopkins', 1),\n",
       " ('James Foley', 1),\n",
       " ('Mark Helfrich', 1),\n",
       " ('Jon Kasdan', 1),\n",
       " ('Shari Springer Berman|Robert Pulcini', 1),\n",
       " ('James Gray', 1),\n",
       " ('Peter Hedges', 1),\n",
       " ('Roland JoffÃ©', 1),\n",
       " ('Amy Heckerling', 1),\n",
       " ('Susanne Bier', 1),\n",
       " ('Alastair Fothergill|Mark Linfield', 1),\n",
       " ('Doug Lefler', 1),\n",
       " ('Wong Kar-wai', 1),\n",
       " ('Sylvain White', 1),\n",
       " ('David Leland', 1),\n",
       " ('Chris Rock', 1),\n",
       " ('Peter Webber', 1),\n",
       " ('Feng Xiaogang', 1),\n",
       " ('Ben Garant', 1),\n",
       " ('Ralph Zondag|Eric Leighton', 1),\n",
       " ('Peter Lord|Nick Park', 1),\n",
       " ('David McNally', 1),\n",
       " ('Ben Younger', 1),\n",
       " ('Don Michael Paul|Bibo Bergeron', 1),\n",
       " ('Mimi Leder', 1),\n",
       " ('Paul Verhoeven', 1),\n",
       " ('Mary Harron', 1),\n",
       " ('Lars von Trier', 1),\n",
       " ('Roger Spottiswoode', 1),\n",
       " ('Peter Farrelly|Bobby Farrelly', 1),\n",
       " ('Antony Hoffman', 1),\n",
       " ('Stephen T. Kay', 1),\n",
       " ('Don Bluth|Gary Goldman', 1),\n",
       " ('John Frankenheimer', 1),\n",
       " ('Edward Norton', 1),\n",
       " ('Walter Hill|Jack Sholder', 1),\n",
       " ('Christian Duguay', 1),\n",
       " ('David Raynr', 1),\n",
       " ('Douglas Aarniokoski', 1),\n",
       " ('Davis Guggenheim', 1),\n",
       " ('Bonnie Hunt', 1),\n",
       " ('Uli Edel', 1),\n",
       " ('Des McAnuff', 1),\n",
       " ('Diane Keaton', 1),\n",
       " ('Mary Lambert', 1)]"
      ]
     },
     "execution_count": 150,
     "metadata": {},
     "output_type": "execute_result"
    }
   ],
   "source": [
    "Counter(data.director).most_common()\n",
    "#  the right answer is 3"
   ]
  },
  {
   "cell_type": "markdown",
   "metadata": {},
   "source": [
    "# 13. Кто из режиссеров снял больше всего фильмов?\n",
    "Варианты ответов:\n",
    "1. Steven Spielberg\n",
    "2. Ridley Scott \n",
    "3. Steven Soderbergh\n",
    "4. Christopher Nolan\n",
    "5. Clint Eastwood"
   ]
  },
  {
   "cell_type": "code",
   "execution_count": 379,
   "metadata": {},
   "outputs": [],
   "source": [
    "answer_ls.append(3)"
   ]
  },
  {
   "cell_type": "code",
   "execution_count": 380,
   "metadata": {},
   "outputs": [
    {
     "data": {
      "text/plain": [
       "[4, 2, 3, 2, 1, 5, 2, 1, 4, 5, 3, 1, 3]"
      ]
     },
     "execution_count": 380,
     "metadata": {},
     "output_type": "execute_result"
    }
   ],
   "source": [
    "answer_ls"
   ]
  },
  {
   "cell_type": "code",
   "execution_count": 109,
   "metadata": {},
   "outputs": [
    {
     "data": {
      "text/plain": [
       "count             1478\n",
       "unique             774\n",
       "top       Ridley Scott\n",
       "freq                12\n",
       "Name: director, dtype: object"
      ]
     },
     "execution_count": 109,
     "metadata": {},
     "output_type": "execute_result"
    }
   ],
   "source": [
    "data_profitable_dir = data[(data.revenue > data.budget)]['director']\n",
    "data_profitable_dir.describe(include = 'object')\n",
    "#  the right answer is 4"
   ]
  },
  {
   "cell_type": "markdown",
   "metadata": {},
   "source": [
    "# 14. Кто из режиссеров снял больше всего Прибыльных фильмов?\n",
    "Варианты ответов:\n",
    "1. Steven Soderbergh\n",
    "2. Clint Eastwood\n",
    "3. Steven Spielberg\n",
    "4. Ridley Scott\n",
    "5. Christopher Nolan"
   ]
  },
  {
   "cell_type": "code",
   "execution_count": 381,
   "metadata": {},
   "outputs": [],
   "source": [
    "answer_ls.append(4)"
   ]
  },
  {
   "cell_type": "code",
   "execution_count": 382,
   "metadata": {},
   "outputs": [
    {
     "data": {
      "text/plain": [
       "[4, 2, 3, 2, 1, 5, 2, 1, 4, 5, 3, 1, 3, 4]"
      ]
     },
     "execution_count": 382,
     "metadata": {},
     "output_type": "execute_result"
    }
   ],
   "source": [
    "answer_ls"
   ]
  },
  {
   "cell_type": "code",
   "execution_count": 121,
   "metadata": {},
   "outputs": [
    {
     "data": {
      "text/plain": [
       "'Peter Jackson'"
      ]
     },
     "execution_count": 121,
     "metadata": {},
     "output_type": "execute_result"
    }
   ],
   "source": [
    "profit = data[['budget','revenue','director']]\n",
    "(profit.groupby(['director']).sum()['revenue'] - profit.groupby(['director']).sum()['budget']).idxmax()\n",
    "#  the right answer is 5"
   ]
  },
  {
   "cell_type": "markdown",
   "metadata": {},
   "source": [
    "# 15. Кто из режиссеров принес больше всего прибыли?\n",
    "Варианты ответов:\n",
    "1. Steven Spielberg\n",
    "2. Christopher Nolan\n",
    "3. David Yates\n",
    "4. James Cameron\n",
    "5. Peter Jackson\n"
   ]
  },
  {
   "cell_type": "code",
   "execution_count": 383,
   "metadata": {},
   "outputs": [],
   "source": [
    "answer_ls.append(5)"
   ]
  },
  {
   "cell_type": "code",
   "execution_count": 384,
   "metadata": {},
   "outputs": [
    {
     "data": {
      "text/plain": [
       "[4, 2, 3, 2, 1, 5, 2, 1, 4, 5, 3, 1, 3, 4, 5]"
      ]
     },
     "execution_count": 384,
     "metadata": {},
     "output_type": "execute_result"
    }
   ],
   "source": [
    "answer_ls"
   ]
  },
  {
   "cell_type": "code",
   "execution_count": 386,
   "metadata": {},
   "outputs": [
    {
     "data": {
      "text/plain": [
       "[6666245597, 4776417000, 4608031235, 5148578162, 6408638290]"
      ]
     },
     "execution_count": 386,
     "metadata": {},
     "output_type": "execute_result"
    }
   ],
   "source": [
    "actors_list = ['Emma Watson', 'Johnny Depp', 'Michelle Rodriguez', 'Orlando Bloom', 'Rupert Grint']\n",
    "data.profit = data.revenue - data.budget\n",
    "profit_list =[]\n",
    "for actor in actors_list:\n",
    "    actor_profit = 0\n",
    "    for i in range(len(data)):\n",
    "        if actor in data.cast.str.split('|')[i]:\n",
    "            actor_profit += data.profit[i]\n",
    "    profit_list.append(actor_profit)\n",
    "# profit_list.index(max(profit_list))\n",
    "#  the right answer is 1\n",
    "profit_list"
   ]
  },
  {
   "cell_type": "markdown",
   "metadata": {},
   "source": [
    "# 16. Какой актер принес больше всего прибыли?\n",
    "Варианты ответов:\n",
    "1. Emma Watson\n",
    "2. Johnny Depp\n",
    "3. Michelle Rodriguez\n",
    "4. Orlando Bloom\n",
    "5. Rupert Grint"
   ]
  },
  {
   "cell_type": "code",
   "execution_count": 387,
   "metadata": {},
   "outputs": [],
   "source": [
    "answer_ls.append(1)"
   ]
  },
  {
   "cell_type": "code",
   "execution_count": 389,
   "metadata": {},
   "outputs": [
    {
     "data": {
      "text/plain": [
       "16"
      ]
     },
     "execution_count": 389,
     "metadata": {},
     "output_type": "execute_result"
    }
   ],
   "source": [
    "len(answer_ls)"
   ]
  },
  {
   "cell_type": "code",
   "execution_count": 228,
   "metadata": {},
   "outputs": [
    {
     "data": {
      "text/plain": [
       "[-32893443, -32893443, -68109207, -23410657, -32893443]"
      ]
     },
     "execution_count": 228,
     "metadata": {},
     "output_type": "execute_result"
    }
   ],
   "source": [
    "actors_list = ['Nicolas Cage', 'Danny Huston', 'Kirsten Dunst', 'Jim Sturgess', 'Sami Gayle']\n",
    "\n",
    "data.profit = data.revenue - data.budget\n",
    "#for i in range(len(data)):\n",
    "#    if data.profit[i] < 0:\n",
    "#        data.profit[i] = 0\n",
    "\n",
    "profit_list =[]\n",
    "for actor in actors_list:\n",
    "    actor_profit = 0\n",
    "    for i in range(len(data)):\n",
    "        if (actor in data.cast.str.split('|')[i]) and (data.release_year[i] == 2012):\n",
    "            actor_profit += data.profit[i]\n",
    "    profit_list.append(actor_profit)\n",
    "profit_list.index(min(profit_list))\n",
    "profit_list\n",
    "#  the right answer is 3"
   ]
  },
  {
   "cell_type": "markdown",
   "metadata": {},
   "source": [
    "# 17. Какой актер принес меньше всего прибыли в 2012 году?\n",
    "Варианты ответов:\n",
    "1. Nicolas Cage\n",
    "2. Danny Huston\n",
    "3. Kirsten Dunst\n",
    "4. Jim Sturgess\n",
    "5. Sami Gayle"
   ]
  },
  {
   "cell_type": "code",
   "execution_count": 390,
   "metadata": {},
   "outputs": [],
   "source": [
    "answer_ls.append(3)"
   ]
  },
  {
   "cell_type": "code",
   "execution_count": 391,
   "metadata": {},
   "outputs": [
    {
     "data": {
      "text/plain": [
       "[4, 2, 3, 2, 1, 5, 2, 1, 4, 5, 3, 1, 3, 4, 5, 1, 3]"
      ]
     },
     "execution_count": 391,
     "metadata": {},
     "output_type": "execute_result"
    }
   ],
   "source": [
    "answer_ls"
   ]
  },
  {
   "cell_type": "code",
   "execution_count": 171,
   "metadata": {},
   "outputs": [
    {
     "data": {
      "text/plain": [
       "[('Matt Damon', 18),\n",
       " ('Adam Sandler', 17),\n",
       " ('Angelina Jolie', 16),\n",
       " ('Tom Cruise', 15),\n",
       " ('Samuel L. Jackson', 15),\n",
       " ('Eddie Murphy', 15),\n",
       " ('Mark Wahlberg', 14),\n",
       " ('Hugh Jackman', 14),\n",
       " ('Ben Stiller', 14),\n",
       " ('Jamie Foxx', 14),\n",
       " ('Russell Crowe', 14),\n",
       " ('Johnny Depp', 13),\n",
       " ('Jude Law', 13),\n",
       " ('Bruce Willis', 13),\n",
       " ('Will Smith', 13),\n",
       " ('Dwayne Johnson', 12),\n",
       " ('Ian McKellen', 12),\n",
       " ('Brad Pitt', 12),\n",
       " ('Owen Wilson', 12),\n",
       " ('Cameron Diaz', 12),\n",
       " ('Nicolas Cage', 12),\n",
       " ('Robert De Niro', 12),\n",
       " ('Leonardo DiCaprio', 11),\n",
       " ('Daniel Craig', 11),\n",
       " ('Robert Downey Jr.', 11),\n",
       " ('Steve Buscemi', 11),\n",
       " ('Vin Diesel', 10),\n",
       " ('Mark Ruffalo', 10),\n",
       " ('Jack Black', 10),\n",
       " ('Denzel Washington', 10),\n",
       " ('Emma Watson', 10),\n",
       " ('Gary Oldman', 10),\n",
       " ('Tom Hanks', 10),\n",
       " ('Orlando Bloom', 10),\n",
       " ('Ralph Fiennes', 9),\n",
       " ('Cate Blanchett', 9),\n",
       " ('Michael Caine', 9),\n",
       " ('Ewan McGregor', 9),\n",
       " ('Paul Bettany', 9),\n",
       " ('Brendan Gleeson', 9),\n",
       " ('Shia LaBeouf', 9),\n",
       " ('Nicole Kidman', 9),\n",
       " ('Colin Farrell', 9),\n",
       " ('Rachel Weisz', 9),\n",
       " ('Halle Berry', 9),\n",
       " ('Charlize Theron', 8),\n",
       " ('Kevin James', 8),\n",
       " ('Chris Hemsworth', 8),\n",
       " ('Helena Bonham Carter', 8),\n",
       " ('Josh Hutcherson', 8),\n",
       " ('George Clooney', 8),\n",
       " ('James Franco', 8),\n",
       " ('Christian Bale', 8),\n",
       " ('Gerard Butler', 8),\n",
       " ('Sylvester Stallone', 8),\n",
       " ('Rosario Dawson', 8),\n",
       " ('Ben Kingsley', 8),\n",
       " ('Bill Nighy', 8),\n",
       " ('Daniel Radcliffe', 8),\n",
       " ('Rupert Grint', 8),\n",
       " ('Jim Carrey', 8),\n",
       " ('Vince Vaughn', 8),\n",
       " ('Alec Baldwin', 8),\n",
       " ('Steve Carell', 8),\n",
       " ('Harrison Ford', 7),\n",
       " ('Jason Statham', 7),\n",
       " ('Chris Evans', 7),\n",
       " ('Woody Harrelson', 7),\n",
       " ('Josh Brolin', 7),\n",
       " ('Jeff Bridges', 7),\n",
       " ('Anne Hathaway', 7),\n",
       " ('Patrick Stewart', 7),\n",
       " ('Jennifer Connelly', 7),\n",
       " ('Anthony Hopkins', 7),\n",
       " ('Morgan Freeman', 7),\n",
       " ('Billy Crudup', 7),\n",
       " ('Jason Lee', 7),\n",
       " ('Jessica Biel', 7),\n",
       " ('Julia Roberts', 7),\n",
       " ('Ryan Reynolds', 7),\n",
       " ('Liam Neeson', 7),\n",
       " ('Karl Urban', 7),\n",
       " ('Richard Jenkins', 7),\n",
       " ('Chris Rock', 7),\n",
       " ('Kate Winslet', 6),\n",
       " ('Paul Walker', 6),\n",
       " ('Arnold Schwarzenegger', 6),\n",
       " ('Sean Bean', 6),\n",
       " ('Scarlett Johansson', 6),\n",
       " ('Elizabeth Banks', 6),\n",
       " ('Ving Rhames', 6),\n",
       " ('Mark Strong', 6),\n",
       " ('Jeffrey Wright', 6),\n",
       " ('Gwyneth Paltrow', 6),\n",
       " ('Matthew McConaughey', 6),\n",
       " ('Rosamund Pike', 6),\n",
       " ('Logan Lerman', 6),\n",
       " ('Robin Williams', 6),\n",
       " ('Stanley Tucci', 6),\n",
       " ('Mel Gibson', 6),\n",
       " ('Kevin Costner', 6),\n",
       " ('John Goodman', 6),\n",
       " ('Aaron Eckhart', 6),\n",
       " ('Justin Long', 6),\n",
       " ('Will Ferrell', 6),\n",
       " ('Seann William Scott', 6),\n",
       " ('Paul Giamatti', 6),\n",
       " ('Dustin Hoffman', 6),\n",
       " ('Mike Myers', 6),\n",
       " ('Eva Mendes', 6),\n",
       " ('Kate Beckinsale', 6),\n",
       " ('Jon Voight', 6),\n",
       " ('Jackie Chan', 6),\n",
       " ('Tobey Maguire', 6),\n",
       " ('Keanu Reeves', 6),\n",
       " ('Guy Pearce', 6),\n",
       " ('John Leguizamo', 6),\n",
       " ('Tommy Lee Jones', 6),\n",
       " ('Michelle Rodriguez', 5),\n",
       " ('Michael PeÃ±a', 5),\n",
       " ('Paul Rudd', 5),\n",
       " ('Jennifer Lawrence', 5),\n",
       " ('Carla Gugino', 5),\n",
       " ('Ioan Gruffudd', 5),\n",
       " ('Simon Pegg', 5),\n",
       " ('Giovanni Ribisi', 5),\n",
       " ('Frances McDormand', 5),\n",
       " ('Elijah Wood', 5),\n",
       " ('Jake Gyllenhaal', 5),\n",
       " ('Sam Worthington', 5),\n",
       " ('Delroy Lindo', 5),\n",
       " ('Bradley Cooper', 5),\n",
       " ('Donald Sutherland', 5),\n",
       " ('Ben Affleck', 5),\n",
       " ('Andy Serkis', 5),\n",
       " ('John Turturro', 5),\n",
       " ('Jonah Hill', 5),\n",
       " ('Julianne Moore', 5),\n",
       " ('John Malkovich', 5),\n",
       " ('Ian McShane', 5),\n",
       " ('Chris Pine', 5),\n",
       " ('Keira Knightley', 5),\n",
       " ('Jessica Alba', 5),\n",
       " ('Eric Bana', 5),\n",
       " ('Benjamin Bratt', 5),\n",
       " ('Hank Azaria', 5),\n",
       " ('John Travolta', 5),\n",
       " ('David Cross', 5),\n",
       " ('Clive Owen', 5),\n",
       " ('Sam Elliott', 5),\n",
       " ('Don Cheadle', 5),\n",
       " ('Ron Perlman', 5),\n",
       " ('Antonio Banderas', 5),\n",
       " ('Peter Sarsgaard', 5),\n",
       " ('Zach Galifianakis', 5),\n",
       " ('Nick Nolte', 5),\n",
       " ('Geoffrey Rush', 5),\n",
       " ('Brendan Fraser', 5),\n",
       " ('Jennifer Aniston', 5),\n",
       " ('Edward Norton', 5),\n",
       " ('Judi Dench', 5),\n",
       " ('John C. Reilly', 5),\n",
       " ('Sacha Baron Cohen', 5),\n",
       " ('Kirsten Dunst', 5),\n",
       " ('Djimon Hounsou', 5),\n",
       " ('Catherine Zeta-Jones', 5),\n",
       " ('Tom Hardy', 4),\n",
       " ('Kristen Wiig', 4),\n",
       " ('Christoph Waltz', 4),\n",
       " ('Michelle Monaghan', 4),\n",
       " ('Liam Hemsworth', 4),\n",
       " ('Amanda Seyfried', 4),\n",
       " ('Steve Martin', 4),\n",
       " ('Ray Winstone', 4),\n",
       " ('Rose Byrne', 4),\n",
       " ('Tom Hiddleston', 4),\n",
       " ('Michael Fassbender', 4),\n",
       " ('Megan Fox', 4),\n",
       " ('Will Arnett', 4),\n",
       " ('William Fichtner', 4),\n",
       " ('Marton Csokas', 4),\n",
       " ('Emma Stone', 4),\n",
       " ('Bill Paxton', 4),\n",
       " ('Joel Edgerton', 4),\n",
       " ('Bryan Cranston', 4),\n",
       " ('Jay Baruchel', 4),\n",
       " ('Eva Green', 4),\n",
       " ('David Wenham', 4),\n",
       " ('Michael Gambon', 4),\n",
       " ('Mickey Rourke', 4),\n",
       " ('Joseph Gordon-Levitt', 4),\n",
       " ('Bill Murray', 4),\n",
       " ('Carrie-Anne Moss', 4),\n",
       " ('Bruce Greenwood', 4),\n",
       " ('Patrick Wilson', 4),\n",
       " ('Chiwetel Ejiofor', 4),\n",
       " ('Thandie Newton', 4),\n",
       " ('Anna Faris', 4),\n",
       " ('Amy Adams', 4),\n",
       " ('Susan Sarandon', 4),\n",
       " ('PenÃ©lope Cruz', 4),\n",
       " ('Jon Favreau', 4),\n",
       " ('Luis GuzmÃ¡n', 4),\n",
       " ('Jason Bateman', 4),\n",
       " ('Seth Rogen', 4),\n",
       " ('Reese Witherspoon', 4),\n",
       " ('Tyrese Gibson', 4),\n",
       " ('Catherine Keener', 4),\n",
       " ('James Cromwell', 4),\n",
       " ('Julie Andrews', 4),\n",
       " ('Alfred Molina', 4),\n",
       " ('Salma Hayek', 4),\n",
       " ('Kristen Stewart', 4),\n",
       " ('Peter Facinelli', 4),\n",
       " ('Jason Isaacs', 4),\n",
       " ('Ashton Kutcher', 4),\n",
       " ('Jack Nicholson', 4),\n",
       " ('Viggo Mortensen', 4),\n",
       " ('Liv Tyler', 4),\n",
       " ('Ed Harris', 4),\n",
       " ('Heath Ledger', 4),\n",
       " ('Kurt Russell', 4),\n",
       " ('Angela Bassett', 4),\n",
       " ('TÃ©a Leoni', 4),\n",
       " ('Terrence Howard', 4),\n",
       " ('Hayden Christensen', 4),\n",
       " ('Terence Stamp', 4),\n",
       " ('Anthony Mackie', 4),\n",
       " ('Zooey Deschanel', 4),\n",
       " ('Matthew Broderick', 4),\n",
       " ('Ed Helms', 4),\n",
       " ('Hugo Weaving', 4),\n",
       " ('Natalie Portman', 4),\n",
       " ('Denis Leary', 4),\n",
       " ('Brian Cox', 4),\n",
       " ('Willem Dafoe', 4),\n",
       " ('Joaquin Phoenix', 4),\n",
       " ('Famke Janssen', 4),\n",
       " ('Peter Stormare', 4),\n",
       " ('Kerry Washington', 4),\n",
       " ('Billy Connolly', 4),\n",
       " ('Drew Barrymore', 4),\n",
       " ('RenÃ©e Zellweger', 4),\n",
       " ('Christopher Walken', 4),\n",
       " ('Bryce Dallas Howard', 3),\n",
       " ('Theo James', 3),\n",
       " ('Miles Teller', 3),\n",
       " ('Jason Clarke', 3),\n",
       " ('Jai Courtney', 3),\n",
       " ('Jessica Chastain', 3),\n",
       " ('Sandra Bullock', 3),\n",
       " ('Michael Keaton', 3),\n",
       " ('Bill Hader', 3),\n",
       " ('Monica Bellucci', 3),\n",
       " ('Mila Kunis', 3),\n",
       " ('Channing Tatum', 3),\n",
       " ('Josh Gad', 3),\n",
       " ('Michael Douglas', 3),\n",
       " ('Bobby Cannavale', 3),\n",
       " ('Hugh Laurie', 3),\n",
       " ('Alexandra Daddario', 3),\n",
       " ('Jeremy Renner', 3),\n",
       " ('Amy Ryan', 3),\n",
       " ('Henry Cavill', 3),\n",
       " ('Armie Hammer', 3),\n",
       " ('Kate Mara', 3),\n",
       " ('Jamie Bell', 3),\n",
       " ('Toby Kebbell', 3),\n",
       " ('Garrett Hedlund', 3),\n",
       " ('Andy Samberg', 3),\n",
       " ('Rachel McAdams', 3),\n",
       " ('Marion Cotillard', 3),\n",
       " ('Charlie Hunnam', 3),\n",
       " ('Casey Affleck', 3),\n",
       " ('Zoe Saldana', 3),\n",
       " ('Robert Redford', 3),\n",
       " ('Martin Freeman', 3),\n",
       " ('Richard Armitage', 3),\n",
       " ('Neil Patrick Harris', 3),\n",
       " ('James McAvoy', 3),\n",
       " ('Li Bingbing', 3),\n",
       " ('Colm Feore', 3),\n",
       " ('Sienna Miller', 3),\n",
       " ('Ken Watanabe', 3),\n",
       " ('Elle Fanning', 3),\n",
       " ('Sharlto Copley', 3),\n",
       " ('Luke Evans', 3),\n",
       " ('Dominic Cooper', 3),\n",
       " ('John Hurt', 3),\n",
       " ('Rufus Sewell', 3),\n",
       " ('Abbie Cornish', 3),\n",
       " ('Jesse Eisenberg', 3),\n",
       " ('Leslie Mann', 3),\n",
       " ('Andy GarcÃ\\xada', 3),\n",
       " ('Emily Browning', 3),\n",
       " ('Miranda Otto', 3),\n",
       " ('William Hurt', 3),\n",
       " ('Stephen Lang', 3),\n",
       " ('Christopher Plummer', 3),\n",
       " ('Malin Ã…kerman', 3),\n",
       " ('Amanda Peet', 3),\n",
       " ('Stellan SkarsgÃ¥rd', 3),\n",
       " ('Dennis Quaid', 3),\n",
       " ('Dakota Fanning', 3),\n",
       " ('Kristen Bell', 3),\n",
       " ('Kiefer Sutherland', 3),\n",
       " ('Robin Wright', 3),\n",
       " ('Josh Duhamel', 3),\n",
       " ('Meryl Streep', 3),\n",
       " ('Olivia Wilde', 3),\n",
       " ('Freddie Highmore', 3),\n",
       " ('Jordana Brewster', 3),\n",
       " ('Radha Mitchell', 3),\n",
       " ('Liev Schreiber', 3),\n",
       " ('Danny Huston', 3),\n",
       " ('Hugh Grant', 3),\n",
       " ('Sarah Jessica Parker', 3),\n",
       " ('Mary Steenburgen', 3),\n",
       " ('Russell Brand', 3),\n",
       " ('Emily Mortimer', 3),\n",
       " ('Skandar Keynes', 3),\n",
       " ('Georgie Henley', 3),\n",
       " ('Jason Flemyng', 3),\n",
       " ('Mary Elizabeth Winstead', 3),\n",
       " ('Brandon T. Jackson', 3),\n",
       " ('Mary-Louise Parker', 3),\n",
       " ('Maria Bello', 3),\n",
       " ('Robert Pattinson', 3),\n",
       " ('Taylor Lautner', 3),\n",
       " ('Greg Kinnear', 3),\n",
       " ('Kristin Davis', 3),\n",
       " ('Chris Noth', 3),\n",
       " ('James Marsden', 3),\n",
       " ('Dan Aykroyd', 3),\n",
       " ('Milla Jovovich', 3),\n",
       " ('Cuba Gooding Jr.', 3),\n",
       " ('Michael Clarke Duncan', 3),\n",
       " ('James Gandolfini', 3),\n",
       " ('Laurence Fishburne', 3),\n",
       " ('Billy Bob Thornton', 3),\n",
       " ('Teri Polo', 3),\n",
       " ('Lucy Liu', 3),\n",
       " ('Jada Pinkett Smith', 3),\n",
       " ('David Schwimmer', 3),\n",
       " ('Jeffrey Tambor', 3),\n",
       " ('Thomas Kretschmann', 3),\n",
       " ('Kenneth Branagh', 3),\n",
       " ('Cliff Curtis', 3),\n",
       " ('Michael Chiklis', 3),\n",
       " ('Jaden Smith', 3),\n",
       " ('Sienna Guillory', 3),\n",
       " ('Al Pacino', 3),\n",
       " ('Spencer Breslin', 3),\n",
       " ('Paula Patton', 3),\n",
       " ('Tim Robbins', 3),\n",
       " ('Justin Bartha', 3),\n",
       " ('Ken Jeong', 3),\n",
       " ('Jane Lynch', 3),\n",
       " ('Isla Fisher', 3),\n",
       " ('CiarÃ¡n Hinds', 3),\n",
       " ('Lily Collins', 3),\n",
       " ('Kevin Bacon', 3),\n",
       " ('Ray Romano', 3),\n",
       " ('Chris Cooper', 3),\n",
       " ('Emma Thompson', 3),\n",
       " ('William Shatner', 3),\n",
       " ('Cole Hauser', 3),\n",
       " ('Randy Quaid', 3),\n",
       " ('Harvey Keitel', 3),\n",
       " ('Scott Glenn', 3),\n",
       " ('David Oyelowo', 3),\n",
       " ('Michelle Pfeiffer', 3),\n",
       " ('David Spade', 3),\n",
       " ('Marisa Tomei', 3),\n",
       " ('Josh Lucas', 3),\n",
       " ('David Thewlis', 3),\n",
       " ('Connie Nielsen', 3),\n",
       " ('Bruce McGill', 3),\n",
       " ('Shirley MacLaine', 3),\n",
       " ('Hiroyuki Sanada', 3),\n",
       " ('Sean Penn', 3),\n",
       " ('Richard Roxburgh', 3),\n",
       " ('Val Kilmer', 3),\n",
       " ('Emmy Rossum', 3),\n",
       " ('Miranda Richardson', 3),\n",
       " ('Chris Pratt', 2),\n",
       " ('Irrfan Khan', 2),\n",
       " ('Nicholas Hoult', 2),\n",
       " ('Shailene Woodley', 2),\n",
       " ('Domhnall Gleeson', 2),\n",
       " ('J.K. Simmons', 2),\n",
       " ('Jeff Daniels', 2),\n",
       " ('Allison Janney', 2),\n",
       " ('Steve Coogan', 2),\n",
       " ('Amy Poehler', 2),\n",
       " ('LÃ©a Seydoux', 2),\n",
       " ('Evangeline Lilly', 2),\n",
       " ('Corey Stoll', 2),\n",
       " ('Colin Firth', 2),\n",
       " ('Giancarlo Esposito', 2),\n",
       " ('Alicia Vikander', 2),\n",
       " ('Elizabeth Debicki', 2),\n",
       " ('Rihanna', 2),\n",
       " ('Jennifer Lopez', 2),\n",
       " ('Edgar RamÃ\\xadrez', 2),\n",
       " ('Teresa Palmer', 2),\n",
       " ('Viola Davis', 2),\n",
       " ('Benjamin Walker', 2),\n",
       " ('Ben Whishaw', 2),\n",
       " ('Rooney Mara', 2),\n",
       " ('Selena Gomez', 2),\n",
       " ('Mia Wasikowska', 2),\n",
       " ('Sebastian Stan', 2),\n",
       " ('Ken Stott', 2),\n",
       " ('Graham McTavish', 2),\n",
       " ('Jamie Chung', 2),\n",
       " ('Rami Malek', 2),\n",
       " ('Ray Stevenson', 2),\n",
       " ('Nicola Peltz', 2),\n",
       " ('Keri Russell', 2),\n",
       " ('ChloÃ« Grace Moretz', 2),\n",
       " ('Andrew Garfield', 2),\n",
       " ('Emily Blunt', 2),\n",
       " ('Aaron Paul', 2),\n",
       " ('Ben Barnes', 2),\n",
       " ('Kit Harington', 2),\n",
       " ('Lena Headey', 2),\n",
       " ('Joel Kinnaman', 2),\n",
       " ('Jackie Earle Haley', 2),\n",
       " ('Adewale Akinnuoye-Agbaje', 2),\n",
       " ('RamÃ³n RodrÃ\\xadguez', 2),\n",
       " ('Yvonne Strahovski', 2),\n",
       " ('Kellan Lutz', 2),\n",
       " ('Sigourney Weaver', 2),\n",
       " ('MÃ©lanie Laurent', 2),\n",
       " ('Julie Walters', 2),\n",
       " ('Zachary Quinto', 2),\n",
       " ('Anton Yelchin', 2),\n",
       " ('Eddie Marsan', 2),\n",
       " ('Jeffrey Dean Morgan', 2),\n",
       " ('John Cusack', 2),\n",
       " ('Oliver Platt', 2),\n",
       " ('Keith David', 2),\n",
       " ('Marlon Wayans', 2),\n",
       " ('James Caan', 2),\n",
       " ('Saoirse Ronan', 2),\n",
       " ('Sam Rockwell', 2),\n",
       " ('Tracy Morgan', 2),\n",
       " ('Zachary Levi', 2),\n",
       " ('Mary Kay Place', 2),\n",
       " ('Michael Cera', 2),\n",
       " ('Oscar Isaac', 2),\n",
       " ('Lynn Collins', 2),\n",
       " ('Jason Segel', 2),\n",
       " ('Dolph Lundgren', 2),\n",
       " ('Michelle Williams', 2),\n",
       " ('Mandy Moore', 2),\n",
       " ('Tim Allen', 2),\n",
       " ('Ned Beatty', 2),\n",
       " ('Joan Cusack', 2),\n",
       " ('Timothy Dalton', 2),\n",
       " ('Gemma Arterton', 2),\n",
       " ('Anna Kendrick', 2),\n",
       " ('Barbra Streisand', 2),\n",
       " ('Helen Mirren', 2),\n",
       " ('Tina Fey', 2),\n",
       " ('Ashley Greene', 2),\n",
       " ('Jordi MollÃ\\xa0', 2),\n",
       " ('Javier Bardem', 2),\n",
       " ('Katherine Heigl', 2),\n",
       " ('Tom Selleck', 2),\n",
       " ('Cynthia Nixon', 2),\n",
       " ('Kim Cattrall', 2),\n",
       " ('Essie Davis', 2),\n",
       " ('Eric Dane', 2),\n",
       " ('Cam Gigandet', 2),\n",
       " ('Julianne Hough', 2),\n",
       " ('Stephanie Szostak', 2),\n",
       " ('Bette Midler', 2),\n",
       " ('Carey Mulligan', 2),\n",
       " ('Justin Timberlake', 2),\n",
       " ('John Cleese', 2),\n",
       " ('Billy Crystal', 2),\n",
       " (\"Frances O'Connor\", 2),\n",
       " ('John Lithgow', 2),\n",
       " ('Josh Hartnett', 2),\n",
       " ('John Hannah', 2),\n",
       " ('Arnold Vosloo', 2),\n",
       " ('Michael J. Fox', 2),\n",
       " ('James Garner', 2),\n",
       " ('Noah Taylor', 2),\n",
       " ('Tim Roth', 2),\n",
       " ('Kris Kristofferson', 2),\n",
       " ('Tom Sizemore', 2),\n",
       " ('Chris Tucker', 2),\n",
       " ('Zhang Ziyi', 2),\n",
       " ('Ernie Reyes, Jr.', 2),\n",
       " ('Elizabeth Perkins', 2),\n",
       " ('Sam Shepard', 2),\n",
       " ('Dylan Baker', 2),\n",
       " ('Gene Hackman', 2),\n",
       " ('Dominic West', 2),\n",
       " ('Edward Burns', 2),\n",
       " ('Martin Landau', 2),\n",
       " ('David Ogden Stiers', 2),\n",
       " ('Courteney Cox', 2),\n",
       " ('David Hyde Pierce', 2),\n",
       " ('Til Schweiger', 2),\n",
       " ('David Andrews', 2),\n",
       " ('William H. Macy', 2),\n",
       " ('Jeff Garlin', 2),\n",
       " ('Olga Kurylenko', 2),\n",
       " ('Jet Li', 2),\n",
       " ('Selma Blair', 2),\n",
       " ('Michael Rooker', 2),\n",
       " ('William Moseley', 2),\n",
       " ('Anna Popplewell', 2),\n",
       " ('Kathy Bates', 2),\n",
       " ('Michael Ealy', 2),\n",
       " ('Malcolm McDowell', 2),\n",
       " ('Alan Arkin', 2),\n",
       " ('Ali Suliman', 2),\n",
       " ('Adam Scott', 2),\n",
       " ('Kate Hudson', 2),\n",
       " ('Ewen Bremner', 2),\n",
       " ('Lambert Wilson', 2),\n",
       " ('Charlotte Rampling', 2),\n",
       " ('Robert Duvall', 2),\n",
       " ('Christina Ricci', 2),\n",
       " ('Matthew Fox', 2),\n",
       " ('Gabriel Macht', 2),\n",
       " ('Paz Vega', 2),\n",
       " ('Kevin Kline', 2),\n",
       " ('Gabrielle Union', 2),\n",
       " ('Goran Visnjic', 2),\n",
       " ('Bailee Madison', 2),\n",
       " ('Noomi Rapace', 2),\n",
       " ('Larry the Cable Guy', 2),\n",
       " ('Eddie Izzard', 2),\n",
       " ('Vanessa Hudgens', 2),\n",
       " ('Emily Watson', 2),\n",
       " ('Asa Butterfield', 2),\n",
       " ('Dominic Purcell', 2),\n",
       " ('Maggie Q', 2),\n",
       " ('Isabel Lucas', 2),\n",
       " ('Katie Holmes', 2),\n",
       " ('Amy Sedaris', 2),\n",
       " ('Jason Momoa', 2),\n",
       " ('Lea Michele', 2),\n",
       " ('Johnny A. Sanchez', 2),\n",
       " ('Seth Green', 2),\n",
       " ('Queen Latifah', 2),\n",
       " ('Richard Harris', 2),\n",
       " ('Franka Potente', 2),\n",
       " ('Ian McDiarmid', 2),\n",
       " ('Max von Sydow', 2),\n",
       " ('Abigail Breslin', 2),\n",
       " ('Elias Koteas', 2),\n",
       " ('Liam Aiken', 2),\n",
       " ('Paul Newman', 2),\n",
       " ('BeyoncÃ© Knowles', 2),\n",
       " ('Mark Addy', 2),\n",
       " ('Adam Beach', 2),\n",
       " ('Izabella Scorupco', 2),\n",
       " ('Naomie Harris', 2),\n",
       " ('Idris Elba', 2),\n",
       " ('Martin Sheen', 2),\n",
       " ('Kevin McKidd', 2),\n",
       " ('Jim Broadbent', 2),\n",
       " ('Jim Sturgess', 2),\n",
       " ('Jonny Lee Miller', 2),\n",
       " ('Timothy Spall', 2),\n",
       " ('Taylor Kitsch', 2),\n",
       " ('Tadanobu Asano', 2),\n",
       " ('Nathan Lane', 2),\n",
       " ('Jack Davenport', 2),\n",
       " ('Claire Danes', 2),\n",
       " ('Jennifer Garner', 2),\n",
       " ('Martin Lawrence', 2),\n",
       " ('TchÃ©ky Karyo', 2),\n",
       " ('Bernie Mac', 2),\n",
       " ('Robert Patrick', 2),\n",
       " ('Steve Zahn', 2),\n",
       " ('Timothy Olyphant', 2),\n",
       " ('Diane Lane', 2),\n",
       " ('Jodie Foster', 2),\n",
       " ('Alice Braga', 2),\n",
       " ('Diego Luna', 2),\n",
       " ('James Badge Dale', 2),\n",
       " ('Patton Oswalt', 2),\n",
       " ('Cloris Leachman', 2),\n",
       " ('Max Martini', 2),\n",
       " ('Maggie Gyllenhaal', 2),\n",
       " ('Sung Kang', 2),\n",
       " ('Sophie Okonedo', 2),\n",
       " ('Zach Braff', 2),\n",
       " ('Jim Belushi', 2),\n",
       " ('AnnaSophia Robb', 2),\n",
       " ('Julian McMahon', 2),\n",
       " ('Lauren Graham', 2),\n",
       " ('Gong Li', 2),\n",
       " ('Amber Valletta', 2),\n",
       " ('Jeremy Irons', 2),\n",
       " ('Adrien Brody', 2),\n",
       " ('Lucas Black', 2),\n",
       " ('Donal Logue', 2),\n",
       " ('Paddy Considine', 2),\n",
       " ('Bonnie Hunt', 2),\n",
       " ('Yvan Attal', 2),\n",
       " ('Mads Mikkelsen', 2),\n",
       " ('Jean Reno', 2),\n",
       " ('Philip Seymour Hoffman', 2),\n",
       " ('Jonathan Rhys Meyers', 2),\n",
       " ('David Strathairn', 2),\n",
       " ('Sharon Stone', 2),\n",
       " ('Jacinda Barrett', 2),\n",
       " ('Gary Sinise', 2),\n",
       " ('Danny Glover', 2),\n",
       " ('Julia Stiles', 2),\n",
       " ('Diane Kruger', 2),\n",
       " ('Chi McBride', 2),\n",
       " ('Jane Krakowski', 2),\n",
       " ('Glenn Close', 2),\n",
       " ('Patrick Warburton', 2),\n",
       " ('John Michael Higgins', 2),\n",
       " ('Helen Hunt', 2),\n",
       " (\"Vincent D'Onofrio\", 1),\n",
       " ('Nick Robinson', 1),\n",
       " ('Hugh Keays-Byrne', 1),\n",
       " ('Josh Helman', 1),\n",
       " ('Ansel Elgort', 1),\n",
       " ('Mark Hamill', 1),\n",
       " ('Carrie Fisher', 1),\n",
       " ('Adam Driver', 1),\n",
       " ('Daisy Ridley', 1),\n",
       " ('Will Poulter', 1),\n",
       " ('Paul Anderson', 1),\n",
       " ('Emilia Clarke', 1),\n",
       " ('Jon Hamm', 1),\n",
       " ('Phyllis Smith', 1),\n",
       " ('Richard Kind', 1),\n",
       " ('Lewis Black', 1),\n",
       " ('Eddie Redmayne', 1),\n",
       " ('Douglas Booth', 1),\n",
       " ('Peter Dinklage', 1),\n",
       " ('Lily James', 1),\n",
       " ('Richard Madden', 1),\n",
       " ('Holliday Grainger', 1),\n",
       " ('Britt Robertson', 1),\n",
       " ('Raffey Cassidy', 1),\n",
       " ('Thomas Robinson', 1),\n",
       " ('Archie Panjabi', 1),\n",
       " ('Rebecca Ferguson', 1),\n",
       " ('Seth MacFarlane', 1),\n",
       " ('Jessica Barth', 1),\n",
       " ('Taron Egerton', 1),\n",
       " (\"Dylan O'Brien\", 1),\n",
       " ('Kaya Scodelario', 1),\n",
       " ('Thomas Brodie-Sangster', 1),\n",
       " ('Aidan Gillen', 1),\n",
       " ('Dylan Minnette', 1),\n",
       " ('Odeya Rush', 1),\n",
       " ('Jillian Bell', 1),\n",
       " ('Raymond Ochoa', 1),\n",
       " ('Jack Bright', 1),\n",
       " ('Maleah Nipay-Padilla', 1),\n",
       " ('Rose Leslie', 1),\n",
       " ('Ã“lafur Darri Ã“lafsson', 1),\n",
       " ('Luca Calvani', 1),\n",
       " ('Jim Parsons', 1),\n",
       " ('Matt Jones', 1),\n",
       " ('John Hawkes', 1),\n",
       " ('Luke Bracey', 1),\n",
       " ('Olivia Munn', 1),\n",
       " ('Leehom Wang', 1),\n",
       " ('Tang Wei', 1),\n",
       " ('Holt McCallany', 1),\n",
       " ('Michael B. Jordan', 1),\n",
       " ('Melissa McCarthy', 1),\n",
       " ('Miranda Hart', 1),\n",
       " ('Cillian Murphy', 1),\n",
       " ('Levi Miller', 1),\n",
       " ('Noah Schnapp', 1),\n",
       " ('Bill Melendez', 1),\n",
       " ('Venus Schultheis', 1),\n",
       " ('Hadley Belle Miller', 1),\n",
       " ('Madisyn Shipman', 1),\n",
       " ('Jim Beaver', 1),\n",
       " ('Tom Kenny', 1),\n",
       " ('Bill Fagerbakke', 1),\n",
       " ('Rodger Bumpass', 1),\n",
       " ('Clancy Brown', 1),\n",
       " ('Carolyn Lawrence', 1),\n",
       " ('Dave Bautista', 1),\n",
       " ('Scott Adsit', 1),\n",
       " ('Ryan Potter', 1),\n",
       " ('Daniel Henney', 1),\n",
       " ('T.J. Miller', 1),\n",
       " ('Carrie Coon', 1),\n",
       " ('Tyler Perry', 1),\n",
       " ('Jon Bernthal', 1),\n",
       " ('Rebel Wilson', 1),\n",
       " ('Alan Ritchson', 1),\n",
       " ('Noel Fisher', 1),\n",
       " ('Jack Reynor', 1),\n",
       " ('Judy Greer', 1),\n",
       " ('David Harbour', 1),\n",
       " ('Haley Bennett', 1),\n",
       " ('Dane DeHaan', 1),\n",
       " ('Jonas Armstrong', 1),\n",
       " ('Kyle Gallner', 1),\n",
       " ('Cole Konis', 1),\n",
       " ('Ben Reed', 1),\n",
       " ('Ben Mendelsohn', 1),\n",
       " ('Aaron Taylor-Johnson', 1),\n",
       " ('Elizabeth Olsen', 1),\n",
       " ('Juliette Binoche', 1),\n",
       " ('Juno Temple', 1),\n",
       " ('Isobelle Molloy', 1),\n",
       " ('Craig Berry', 1),\n",
       " ('Alison Brie', 1),\n",
       " ('David Burrows', 1),\n",
       " ('Sarah Gadon', 1),\n",
       " ('Art Parkinson', 1),\n",
       " ('Charles Dance', 1),\n",
       " ('Tom McGrath', 1),\n",
       " ('Chris Miller', 1),\n",
       " ('Christopher Knights', 1),\n",
       " ('Conrad Vernon', 1),\n",
       " ('Sullivan Stapleton', 1),\n",
       " ('Callan Mulvey', 1),\n",
       " ('Peter Capaldi', 1),\n",
       " ('Imelda Staunton', 1),\n",
       " ('Aksel Hennie', 1),\n",
       " ('Nonso Anozie', 1),\n",
       " ('Gemma Chan', 1),\n",
       " ('Rebecca Hall', 1),\n",
       " ('Ty Burrell', 1),\n",
       " ('Max Charles', 1),\n",
       " ('Ariel Winter', 1),\n",
       " ('Ellie Kemper', 1),\n",
       " (\"Jack O'Connell\", 1),\n",
       " ('Takamasa Ishihara', 1),\n",
       " ('Finn Wittrock', 1),\n",
       " ('Jessica Lucas', 1),\n",
       " ('QuvenzhanÃ© Wallis', 1),\n",
       " ('Imogen Poots', 1),\n",
       " ('Isaac Hempstead Wright', 1),\n",
       " ('Dee Bradley Baker', 1),\n",
       " ('Steve Blum', 1),\n",
       " ('Jessica Brown Findlay', 1),\n",
       " ('Liam McIntyre', 1),\n",
       " ('Gaia Weiss', 1),\n",
       " ('Scott Adkins', 1),\n",
       " ('Roxanne McKee', 1),\n",
       " ('Eli Roth', 1),\n",
       " ('Tom Felton', 1),\n",
       " ('Ed Asner', 1),\n",
       " ('Jordan Nagai', 1),\n",
       " ('Bob Peterson', 1),\n",
       " ('Leonard Nimoy', 1),\n",
       " ('Moon Bloodgood', 1),\n",
       " ('Ayelet Zurer', 1),\n",
       " ('Pierfrancesco Favino', 1),\n",
       " ('Anika Noni Rose', 1),\n",
       " ('Bruno Campos', 1),\n",
       " ('Michael-Leon Wooley', 1),\n",
       " ('Jennifer Cody', 1),\n",
       " ('Mr. T', 1),\n",
       " ('Teri Hatcher', 1),\n",
       " ('Jennifer Saunders', 1),\n",
       " ('Dawn French', 1),\n",
       " ('Steve Valentine', 1),\n",
       " ('Daryl Sabara', 1),\n",
       " ('Sage Ryan', 1),\n",
       " ('Victor Gojcaj', 1),\n",
       " ('Matthew Gray Gubler', 1),\n",
       " ('Rainn Wilson', 1),\n",
       " ('Lake Bell', 1),\n",
       " ('Anna Friel', 1),\n",
       " ('Danny McBride', 1),\n",
       " ('Jorma Taccone', 1),\n",
       " ('Matt Lauer', 1),\n",
       " ('Tony Kgoroge', 1),\n",
       " ('Patrick Mofokeng', 1),\n",
       " ('Matt Stern', 1),\n",
       " ('Max Minghella', 1),\n",
       " ('Ashraf Barhom', 1),\n",
       " ('Michael Lonsdale', 1),\n",
       " ('John Ortiz', 1),\n",
       " ('Tom Wilkinson', 1),\n",
       " ('Lisa Roberts Gillan', 1),\n",
       " ('Nelsan Ellis', 1),\n",
       " ('Michael Bunin', 1),\n",
       " ('Natalia Klimas', 1),\n",
       " ('Ellen Page', 1),\n",
       " ('Crispin Glover', 1),\n",
       " ('Eric Roberts', 1),\n",
       " ('Randy Couture', 1),\n",
       " ('Craig Ferguson', 1),\n",
       " ('America Ferrera', 1),\n",
       " ('Bruce Boxleitner', 1),\n",
       " ('Yaya DaCosta', 1),\n",
       " ('Donna Murphy', 1),\n",
       " ('M.C. Gainey', 1),\n",
       " ('Daniel Olbrychski', 1),\n",
       " ('Gary Sweet', 1),\n",
       " ('Arthur Angel', 1),\n",
       " ('Steven Berkoff', 1),\n",
       " ('Steve Toussaint', 1),\n",
       " ('Kieran Culkin', 1),\n",
       " ('Jake Abel', 1),\n",
       " ('Ethan Suplee', 1),\n",
       " ('Kevin Corrigan', 1),\n",
       " ('Maya Rudolph', 1),\n",
       " ('Jennifer Beals', 1),\n",
       " ('Taraji P. Henson', 1),\n",
       " ('Jimmi Simpson', 1),\n",
       " ('Noah Ringer', 1),\n",
       " ('Jackson Rathbone', 1),\n",
       " ('Dev Patel', 1),\n",
       " ('Shaun Toub', 1),\n",
       " (\"Chris O'Dowd\", 1),\n",
       " ('Juliette Lewis', 1),\n",
       " (\"Catherine O'Hara\", 1),\n",
       " ('Alex Borstein', 1),\n",
       " ('Emily Barclay', 1),\n",
       " ('Deborra-Lee Furness', 1),\n",
       " ('Cher', 1),\n",
       " ('Christina Aguilera', 1),\n",
       " ('Jemaine Clement', 1),\n",
       " ('Christina Applegate', 1),\n",
       " ('Pascale Hutton', 1),\n",
       " ('Kathryn Hahn', 1),\n",
       " ('Frank Langella', 1),\n",
       " ('Tom Cavanagh', 1),\n",
       " ('Christine Taylor', 1),\n",
       " ('Shawn Roberts', 1),\n",
       " (\"Denis O'Hare\", 1),\n",
       " ('Kate Bosworth', 1),\n",
       " ('Jang Dong-gun', 1),\n",
       " ('Ti Lung', 1),\n",
       " ('Wentworth Miller', 1),\n",
       " ('Ali Larter', 1),\n",
       " ('Kim Coates', 1),\n",
       " ('Kacey Barnfield', 1),\n",
       " ('Robbie Coltrane', 1),\n",
       " ('Mary Gibbs', 1),\n",
       " ('James Coburn', 1),\n",
       " ('Haley Joel Osment', 1),\n",
       " ('Sam Robards', 1),\n",
       " ('Jake Thomas', 1),\n",
       " ('Vincent Cassel', 1),\n",
       " ('Oded Fehr', 1),\n",
       " ('Corey Burton', 1),\n",
       " ('Claudia Christian', 1),\n",
       " ('John Mahoney', 1),\n",
       " ('Iain Glen', 1),\n",
       " ('Joseph Fiennes', 1),\n",
       " ('Bob Hoskins', 1),\n",
       " ('Shannyn Sossamon', 1),\n",
       " ('Laura Fraser', 1),\n",
       " ('Roselyn SÃ¡nchez', 1),\n",
       " ('Jeff Goldblum', 1),\n",
       " ('Alexander Pollock', 1),\n",
       " ('Miriam Margolyes', 1),\n",
       " ('Catherine McCormack', 1),\n",
       " ('Stephen Dillane', 1),\n",
       " ('Larry Bryggman', 1),\n",
       " ('Ming-Na Wen', 1),\n",
       " ('Kristen Wilson', 1),\n",
       " ('Raven-SymonÃ©', 1),\n",
       " ('Kyla Pratt', 1),\n",
       " ('Steve Burton', 1),\n",
       " ('Monica Potter', 1),\n",
       " ('Michael Wincott', 1),\n",
       " ('Mika Boorem', 1),\n",
       " ('Jason Bonham', 1),\n",
       " ('Kelsey Grammer', 1),\n",
       " ('Avery Brooks', 1),\n",
       " ('David Duchovny', 1),\n",
       " ('Orlando Jones', 1),\n",
       " ('Ted Levine', 1),\n",
       " ('Mario Van Peebles', 1),\n",
       " ('Ron Silver', 1),\n",
       " ('Marlon Brando', 1),\n",
       " ('Paul Soles', 1),\n",
       " ('Laurie Holden', 1),\n",
       " ('Hal Holbrook', 1),\n",
       " ('Christian Slater', 1),\n",
       " ('Kevin Pollak', 1),\n",
       " ('Brandy Norwood', 1),\n",
       " ('Troy Garity', 1),\n",
       " ('William Converse-Roberts', 1),\n",
       " ('Kip Pardue', 1),\n",
       " ('Robert Sean Leonard', 1),\n",
       " ('Estella Warren', 1),\n",
       " ('Ray Liotta', 1),\n",
       " (\"Matt O'Leary\", 1),\n",
       " ('Bridget Fonda', 1),\n",
       " ('Chris Kattan', 1),\n",
       " ('Sam Neill', 1),\n",
       " ('Trevor Morgan', 1),\n",
       " ('Alessandro Nivola', 1),\n",
       " ('Ben Burtt', 1),\n",
       " ('Elissa Knight', 1),\n",
       " ('Fred Willard', 1),\n",
       " ('John Ratzenberger', 1),\n",
       " ('Leslie Bibb', 1),\n",
       " ('Karen Allen', 1),\n",
       " ('Mathieu Amalric', 1),\n",
       " ('Giancarlo Giannini', 1),\n",
       " ('Tilda Swinton', 1),\n",
       " ('Julia Ormond', 1),\n",
       " ('Luke Ford', 1),\n",
       " ('Tim Blake Nelson', 1),\n",
       " ('Cedric the Entertainer', 1),\n",
       " ('Doug Jones', 1),\n",
       " ('Rachel Bilson', 1),\n",
       " ('Carice van Houten', 1),\n",
       " ('Steven Strait', 1),\n",
       " ('Camilla Belle', 1),\n",
       " ('Nathanael Baring', 1),\n",
       " ('Mo Zinal', 1),\n",
       " ('Jae Head', 1),\n",
       " ('Sarah Jane Morris', 1),\n",
       " ('Miley Cyrus', 1),\n",
       " ('Susie Essman', 1),\n",
       " ('Mark Walton', 1),\n",
       " ('Bryan Brown', 1),\n",
       " ('Rhys Darby', 1),\n",
       " ('Sasha Alexander', 1),\n",
       " ('Fionnula Flanagan', 1),\n",
       " ('Kathleen Turner', 1),\n",
       " ('Simon McBurney', 1),\n",
       " ('Eliza Bennett', 1),\n",
       " ('Alexis Dziena', 1),\n",
       " ('Lucy Lawless', 1),\n",
       " ('Michelle Yeoh', 1),\n",
       " ('MÃ©lanie Thierry', 1),\n",
       " ('Jeffrey Donovan', 1),\n",
       " ('Geoff Pierson', 1),\n",
       " ('Sarah Bolger', 1),\n",
       " ('Andrew McCarthy', 1),\n",
       " ('Dwight Yoakam', 1),\n",
       " ('Romany Malco', 1),\n",
       " ('Meagan Good', 1),\n",
       " ('Emile Hirsch', 1),\n",
       " ('Scott Porter', 1),\n",
       " ('Carol Burnett', 1),\n",
       " ('Michael Angarano', 1),\n",
       " ('Collin Chou', 1),\n",
       " ('50 Cent', 1),\n",
       " ('Donnie Wahlberg', 1),\n",
       " ('Emmanuelle Chriqui', 1),\n",
       " ('Nick Swardson', 1),\n",
       " ('Lainie Kazan', 1),\n",
       " ('Harry Treadaway', 1),\n",
       " ('Betty Buckley', 1),\n",
       " ('Tracey Ullman', 1),\n",
       " ('Scott Caan', 1),\n",
       " ('Hayley Atwell', 1),\n",
       " ('Alan Rickman', 1),\n",
       " ('Maggie Smith', 1),\n",
       " ('Kevin McNally', 1),\n",
       " ('Karin Konoval', 1),\n",
       " ('Freida Pinto', 1),\n",
       " ('Anil Kapoor', 1),\n",
       " ('Griffin Gluck', 1),\n",
       " ('Dakota Goyo', 1),\n",
       " ('Kevin Durand', 1),\n",
       " ('Jared Harris', 1),\n",
       " ('Kelly Reilly', 1),\n",
       " ('Blake Lively', 1),\n",
       " ('Nick Frost', 1),\n",
       " ('Jena Malone', 1),\n",
       " ('Will.i.am', 1),\n",
       " ('Walton Goggins', 1),\n",
       " ('Benedict Cumberbatch', 1),\n",
       " ('Jeremy Irvine', 1),\n",
       " ('Violante Placido', 1),\n",
       " ('Fergus Riordan', 1),\n",
       " ('Johnny Whitworth', 1),\n",
       " ('Matthew Macfadyen', 1),\n",
       " ('Will Rothhaar', 1),\n",
       " ('Cory Hardrict', 1),\n",
       " ('Jim Parrack', 1),\n",
       " ('Eugenio Derbez', 1),\n",
       " ('Tim Meadows', 1),\n",
       " ('Jay Chou', 1),\n",
       " ('Edward Furlong', 1),\n",
       " ('Rose McGowan', 1),\n",
       " ('Rachel Nichols', 1),\n",
       " ('Alan Alda', 1),\n",
       " ('Pink', 1),\n",
       " ('E.G. Daily', 1),\n",
       " ('Dan Fogler', 1),\n",
       " ('Breckin Meyer', 1),\n",
       " ('Elisabeth Harnois', 1),\n",
       " ('Jenny Slate', 1),\n",
       " ...]"
      ]
     },
     "execution_count": 171,
     "metadata": {},
     "output_type": "execute_result"
    }
   ],
   "source": [
    "films_high_budget = data[data.budget > data.budget.mean()]\n",
    "Counter(films_high_budget.cast.str.split('|').sum()).most_common()\n",
    "#  the right answer is 3"
   ]
  },
  {
   "cell_type": "markdown",
   "metadata": {},
   "source": [
    "# 18. Какой актер снялся в большем количестве высокобюджетных фильмов? (в фильмах где бюджет выше среднего по данной выборке)\n",
    "Варианты ответов:\n",
    "1. Tom Cruise\n",
    "2. Mark Wahlberg \n",
    "3. Matt Damon\n",
    "4. Angelina Jolie\n",
    "5. Adam Sandler"
   ]
  },
  {
   "cell_type": "code",
   "execution_count": 392,
   "metadata": {},
   "outputs": [],
   "source": [
    "answer_ls.append(3)"
   ]
  },
  {
   "cell_type": "code",
   "execution_count": 393,
   "metadata": {},
   "outputs": [
    {
     "data": {
      "text/plain": [
       "[4, 2, 3, 2, 1, 5, 2, 1, 4, 5, 3, 1, 3, 4, 5, 1, 3, 3]"
      ]
     },
     "execution_count": 393,
     "metadata": {},
     "output_type": "execute_result"
    }
   ],
   "source": [
    "answer_ls"
   ]
  },
  {
   "cell_type": "code",
   "execution_count": 176,
   "metadata": {},
   "outputs": [
    {
     "data": {
      "text/plain": [
       "[('Action', 17),\n",
       " ('Thriller', 15),\n",
       " ('Drama', 12),\n",
       " ('Crime', 10),\n",
       " ('Fantasy', 8),\n",
       " ('Adventure', 7),\n",
       " ('Comedy', 6),\n",
       " ('Science Fiction', 4),\n",
       " ('Mystery', 3),\n",
       " ('Animation', 3),\n",
       " ('Family', 3),\n",
       " ('History', 2),\n",
       " ('War', 1),\n",
       " ('Horror', 1),\n",
       " ('Romance', 1)]"
      ]
     },
     "execution_count": 176,
     "metadata": {},
     "output_type": "execute_result"
    }
   ],
   "source": [
    "genres_list = ['Drama', 'Action', 'Thriller', 'Adventure', 'Crime']\n",
    "Nick = 'Nicolas Cage'\n",
    "nicks_films = data[data.cast.str.contains(Nick)]\n",
    "Counter(nicks_films.genres.str.split('|').sum()).most_common()\n",
    "#  the right answer is 2"
   ]
  },
  {
   "cell_type": "markdown",
   "metadata": {},
   "source": [
    "# 19. В фильмах какого жанра больше всего снимался Nicolas Cage?  \n",
    "Варианты ответа:\n",
    "1. Drama\n",
    "2. Action\n",
    "3. Thriller\n",
    "4. Adventure\n",
    "5. Crime"
   ]
  },
  {
   "cell_type": "code",
   "execution_count": 394,
   "metadata": {},
   "outputs": [],
   "source": [
    "answer_ls.append(2)"
   ]
  },
  {
   "cell_type": "code",
   "execution_count": 395,
   "metadata": {},
   "outputs": [
    {
     "data": {
      "text/plain": [
       "[4, 2, 3, 2, 1, 5, 2, 1, 4, 5, 3, 1, 3, 4, 5, 1, 3, 3, 2]"
      ]
     },
     "execution_count": 395,
     "metadata": {},
     "output_type": "execute_result"
    }
   ],
   "source": [
    "answer_ls"
   ]
  },
  {
   "cell_type": "code",
   "execution_count": 201,
   "metadata": {},
   "outputs": [
    {
     "name": "stdout",
     "output_type": "stream",
     "text": [
      "Uni = 185\n",
      "Par = 134\n",
      "Col = 172\n",
      "War = 183\n",
      "Fox = 135\n"
     ]
    }
   ],
   "source": [
    "#studios = {\n",
    "# 'Universal':['Universal', 'Universal Pictures', 'Universal Studios'],\n",
    "# 'Paramount':['Paramount Pictures', 'Paramount Pictures Corporation', 'Paramount'],\n",
    "# 'Columbia':['Columbia Pictures', 'Columbia Pictures Industries, Inc.', 'Columbia'],\n",
    "# 'Warner Bros':['Warner Bros', 'Warner Bros. Entertainment Inc.', 'WB'],\n",
    "# '20th Century Fox':['Twentieth Century Fox Film Corporation', '20th Century Fox', '20th Century Fox Film Corporation']}\n",
    "\n",
    "#for studiotag in studios.keys():\n",
    "#    for name in studios.values():\n",
    "#        for i in range(len(data)):\n",
    "#            data.studio[i] = []\n",
    " #           if name in (data.production_companies.str.split('|')[i]):\n",
    "#                data.studio.append(studiotag)\n",
    "#data.studio \n",
    "uni_data = data[data.production_companies.str.contains('Universal')]\n",
    "print('Uni =', len(uni_data))\n",
    "par_data = data[data.production_companies.str.contains('Paramount')]\n",
    "print('Par =', len(par_data))\n",
    "col_data = data[data.production_companies.str.contains('Columbia')]\n",
    "print('Col =', len(col_data))\n",
    "war_data = data[data.production_companies.str.contains('Warner Bros')|\n",
    "               data.production_companies.str.contains('WB')]\n",
    "print('War =', len(war_data))\n",
    "fox_data = data[data.production_companies.str.contains('Twentieth Century')|\n",
    "               data.production_companies.str.contains('20th Century')]\n",
    "print('Fox =', len(fox_data))\n",
    "#  the right answer is 1"
   ]
  },
  {
   "cell_type": "markdown",
   "metadata": {},
   "source": [
    "# 20. Какая студия сняла больше всего фильмов?\n",
    "Варианты ответа:\n",
    "1. Universal Pictures (Universal)\n",
    "2. Paramount Pictures\n",
    "3. Columbia Pictures\n",
    "4. Warner Bros\n",
    "5. Twentieth Century Fox Film Corporation"
   ]
  },
  {
   "cell_type": "code",
   "execution_count": 396,
   "metadata": {},
   "outputs": [],
   "source": [
    "answer_ls.append(1)"
   ]
  },
  {
   "cell_type": "code",
   "execution_count": 397,
   "metadata": {},
   "outputs": [
    {
     "data": {
      "text/plain": [
       "[4, 2, 3, 2, 1, 5, 2, 1, 4, 5, 3, 1, 3, 4, 5, 1, 3, 3, 2, 1]"
      ]
     },
     "execution_count": 397,
     "metadata": {},
     "output_type": "execute_result"
    }
   ],
   "source": [
    "answer_ls"
   ]
  },
  {
   "cell_type": "code",
   "execution_count": 287,
   "metadata": {},
   "outputs": [
    {
     "name": "stdout",
     "output_type": "stream",
     "text": [
      "Uni = 11\n",
      "Par = 7\n",
      "Col = 7\n",
      "War = 12\n",
      "Fox = 8\n"
     ]
    }
   ],
   "source": [
    "data2015 = data[data.release_year == 2015]\n",
    "\n",
    "uni = len(data2015[data2015.production_companies.str.contains(\"Universal Pictures\")])\n",
    "print('Uni =', uni)\n",
    "par = len(data2015[data2015.production_companies.str.contains(\"Paramount Pictures\")])\n",
    "print('Par =', par)\n",
    "col = len(data2015[data2015.production_companies.str.contains(\"Columbia Pictures\")])\n",
    "print('Col =', col)\n",
    "war = len(data2015[data2015.production_companies.str.contains(\"Warner Bros\")])\n",
    "print('War =', war)\n",
    "fox = len(data2015[data2015.production_companies.str.contains(\"Twentieth Century Fox Film Corporation\")])\n",
    "print('Fox =', fox)\n",
    "#  the right answer is 4"
   ]
  },
  {
   "cell_type": "markdown",
   "metadata": {},
   "source": [
    "# 21. Какая студия сняла больше всего фильмов в 2015 году?\n",
    "Варианты ответа:\n",
    "1. Universal Pictures\n",
    "2. Paramount Pictures\n",
    "3. Columbia Pictures\n",
    "4. Warner Bros\n",
    "5. Twentieth Century Fox Film Corporation"
   ]
  },
  {
   "cell_type": "code",
   "execution_count": 398,
   "metadata": {},
   "outputs": [],
   "source": [
    "answer_ls.append(4)"
   ]
  },
  {
   "cell_type": "code",
   "execution_count": 399,
   "metadata": {},
   "outputs": [
    {
     "data": {
      "text/plain": [
       "[4, 2, 3, 2, 1, 5, 2, 1, 4, 5, 3, 1, 3, 4, 5, 1, 3, 3, 2, 1, 4]"
      ]
     },
     "execution_count": 399,
     "metadata": {},
     "output_type": "execute_result"
    }
   ],
   "source": [
    "answer_ls"
   ]
  },
  {
   "cell_type": "code",
   "execution_count": 231,
   "metadata": {},
   "outputs": [
    {
     "name": "stdout",
     "output_type": "stream",
     "text": [
      "Uni = 13133749034\n",
      "Par = 5276561954\n",
      "Col = 12222735769\n",
      "War = 7355328916\n",
      "Dis = 12066316328\n"
     ]
    }
   ],
   "source": [
    "uni_data = data[data.production_companies.str.contains('Universal')& data.genres.str.contains('Comedy')]\n",
    "print('Uni =', uni_data.revenue.sum())\n",
    "par_data = data[data.production_companies.str.contains('Paramount')& data.genres.str.contains('Comedy')]\n",
    "print('Par =', par_data.revenue.sum())\n",
    "col_data = data[data.production_companies.str.contains('Columbia')& data.genres.str.contains('Comedy')]\n",
    "print('Col =', col_data.revenue.sum())\n",
    "war_data = data[(data.production_companies.str.contains('Warner Bros')|\n",
    "               data.production_companies.str.contains('WB'))& data.genres.str.contains('Comedy')]\n",
    "print('War =', war_data.revenue.sum())\n",
    "dis_data = data[(data.production_companies.str.contains('Walt Disney')|\n",
    "               data.production_companies.str.contains('Disney'))& data.genres.str.contains('Comedy')]\n",
    "print('Dis =', dis_data.revenue.sum())\n",
    "#  the right answer is 2"
   ]
  },
  {
   "cell_type": "markdown",
   "metadata": {},
   "source": [
    "# 22. Какая студия заработала больше всего денег в жанре комедий за все время?\n",
    "Варианты ответа:\n",
    "1. Warner Bros\n",
    "2. Universal Pictures (Universal)\n",
    "3. Columbia Pictures\n",
    "4. Paramount Pictures\n",
    "5. Walt Disney"
   ]
  },
  {
   "cell_type": "code",
   "execution_count": 400,
   "metadata": {},
   "outputs": [],
   "source": [
    "answer_ls.append(2)"
   ]
  },
  {
   "cell_type": "code",
   "execution_count": 402,
   "metadata": {},
   "outputs": [
    {
     "data": {
      "text/plain": [
       "22"
      ]
     },
     "execution_count": 402,
     "metadata": {},
     "output_type": "execute_result"
    }
   ],
   "source": [
    "len(answer_ls)"
   ]
  },
  {
   "cell_type": "code",
   "execution_count": 242,
   "metadata": {},
   "outputs": [
    {
     "name": "stdout",
     "output_type": "stream",
     "text": [
      "Uni = 2901011579\n",
      "Par = 606726715\n",
      "Col = 3468406608\n",
      "War = 1869520056\n",
      "Luc = 50365377\n"
     ]
    }
   ],
   "source": [
    "uni_data = data[data.production_companies.str.contains('Universal')& (data.release_year == 2012)]\n",
    "print('Uni =', uni_data.revenue.sum())\n",
    "par_data = data[data.production_companies.str.contains('Paramount')& (data.release_year == 2012)]\n",
    "print('Par =', par_data.revenue.sum())\n",
    "col_data = data[data.production_companies.str.contains('Columbia')& (data.release_year == 2012)]\n",
    "print('Col =', col_data.revenue.sum())\n",
    "war_data = data[(data.production_companies.str.contains('Warner Bros')|\n",
    "               data.production_companies.str.contains('WB'))& (data.release_year == 2012)]\n",
    "print('War =', war_data.revenue.sum())\n",
    "luc_data = data[(data.production_companies.str.contains('Lucasfilm'))& (data.release_year == 2012)]\n",
    "print('Luc =', luc_data.revenue.sum())\n",
    "#  the right answer is 3"
   ]
  },
  {
   "cell_type": "markdown",
   "metadata": {},
   "source": [
    "# 23. Какая студия заработала больше всего денег в 2012 году?\n",
    "Варианты ответа:\n",
    "1. Universal Pictures (Universal)\n",
    "2. Warner Bros\n",
    "3. Columbia Pictures\n",
    "4. Paramount Pictures\n",
    "5. Lucasfilm"
   ]
  },
  {
   "cell_type": "code",
   "execution_count": 403,
   "metadata": {},
   "outputs": [],
   "source": [
    "answer_ls.append(3)"
   ]
  },
  {
   "cell_type": "code",
   "execution_count": 404,
   "metadata": {},
   "outputs": [
    {
     "data": {
      "text/plain": [
       "[4, 2, 3, 2, 1, 5, 2, 1, 4, 5, 3, 1, 3, 4, 5, 1, 3, 3, 2, 1, 4, 2, 3]"
      ]
     },
     "execution_count": 404,
     "metadata": {},
     "output_type": "execute_result"
    }
   ],
   "source": [
    "answer_ls"
   ]
  },
  {
   "cell_type": "code",
   "execution_count": 220,
   "metadata": {},
   "outputs": [
    {
     "name": "stderr",
     "output_type": "stream",
     "text": [
      "C:\\Users\\User\\Anaconda3\\lib\\site-packages\\ipykernel_launcher.py:2: SettingWithCopyWarning: \n",
      "A value is trying to be set on a copy of a slice from a DataFrame.\n",
      "Try using .loc[row_indexer,col_indexer] = value instead\n",
      "\n",
      "See the caveats in the documentation: http://pandas.pydata.org/pandas-docs/stable/user_guide/indexing.html#returning-a-view-versus-a-copy\n",
      "  \n"
     ]
    },
    {
     "data": {
      "text/plain": [
       "'tt0267626'"
      ]
     },
     "execution_count": 220,
     "metadata": {},
     "output_type": "execute_result"
    }
   ],
   "source": [
    "par_data = data[data.production_companies.str.contains('Paramount')]\n",
    "par_data['profit'] = par_data['revenue'] - par_data['budget']\n",
    "i_profit_min = par_data.profit.idxmin()\n",
    "data.iloc[i_profit_min]['imdb_id']\n",
    "#  the right answer is 1"
   ]
  },
  {
   "cell_type": "markdown",
   "metadata": {},
   "source": [
    "# 24. Самый убыточный фильм от Paramount Pictures\n",
    "Варианты ответа:\n",
    "\n",
    "1. K-19: The Widowmaker tt0267626\n",
    "2. Next tt0435705\n",
    "3. Twisted tt0315297\n",
    "4. The Love Guru tt0811138\n",
    "5. The Fighter tt0964517"
   ]
  },
  {
   "cell_type": "code",
   "execution_count": 405,
   "metadata": {},
   "outputs": [],
   "source": [
    "answer_ls.append(1)"
   ]
  },
  {
   "cell_type": "code",
   "execution_count": 406,
   "metadata": {},
   "outputs": [
    {
     "data": {
      "text/plain": [
       "[4, 2, 3, 2, 1, 5, 2, 1, 4, 5, 3, 1, 3, 4, 5, 1, 3, 3, 2, 1, 4, 2, 3, 1]"
      ]
     },
     "execution_count": 406,
     "metadata": {},
     "output_type": "execute_result"
    }
   ],
   "source": [
    "answer_ls"
   ]
  },
  {
   "cell_type": "code",
   "execution_count": 125,
   "metadata": {},
   "outputs": [
    {
     "data": {
      "text/plain": [
       "2015"
      ]
     },
     "execution_count": 125,
     "metadata": {},
     "output_type": "execute_result"
    }
   ],
   "source": [
    "profit_year = data[['budget','revenue','release_year']]\n",
    "(profit_year.groupby(['release_year']).sum()['revenue'] - profit_year.groupby(['release_year']).sum()['budget']).idxmax()\n",
    "#  the right answer is 5\n"
   ]
  },
  {
   "cell_type": "markdown",
   "metadata": {},
   "source": [
    "# 25. Какой Самый прибыльный год (заработали больше всего)?\n",
    "Варианты ответа:\n",
    "1. 2014\n",
    "2. 2008\n",
    "3. 2012\n",
    "4. 2002\n",
    "5. 2015"
   ]
  },
  {
   "cell_type": "code",
   "execution_count": 407,
   "metadata": {},
   "outputs": [],
   "source": [
    "answer_ls.append(5)"
   ]
  },
  {
   "cell_type": "code",
   "execution_count": 408,
   "metadata": {},
   "outputs": [
    {
     "data": {
      "text/plain": [
       "[4, 2, 3, 2, 1, 5, 2, 1, 4, 5, 3, 1, 3, 4, 5, 1, 3, 3, 2, 1, 4, 2, 3, 1, 5]"
      ]
     },
     "execution_count": 408,
     "metadata": {},
     "output_type": "execute_result"
    }
   ],
   "source": [
    "answer_ls"
   ]
  },
  {
   "cell_type": "code",
   "execution_count": 206,
   "metadata": {},
   "outputs": [
    {
     "data": {
      "text/plain": [
       "2014"
      ]
     },
     "execution_count": 206,
     "metadata": {},
     "output_type": "execute_result"
    }
   ],
   "source": [
    "data_war = data[data.production_companies.str.contains('Warner Bros')|\n",
    "               data.production_companies.str.contains('WB')]\n",
    "profit_year = data_war[['budget','revenue','release_year']]\n",
    "(profit_year.groupby(['release_year']).sum()['revenue'] \n",
    " - profit_year.groupby(['release_year']).sum()['budget']).idxmax()\n",
    "#  the right answer is 1"
   ]
  },
  {
   "cell_type": "markdown",
   "metadata": {},
   "source": [
    "# 26. Какой Самый прибыльный год для студии Warner Bros?\n",
    "Варианты ответа:\n",
    "1. 2014\n",
    "2. 2008\n",
    "3. 2012\n",
    "4. 2010\n",
    "5. 2015"
   ]
  },
  {
   "cell_type": "code",
   "execution_count": 409,
   "metadata": {},
   "outputs": [],
   "source": [
    "answer_ls.append(1)"
   ]
  },
  {
   "cell_type": "code",
   "execution_count": 410,
   "metadata": {},
   "outputs": [
    {
     "data": {
      "text/plain": [
       "[4, 2, 3, 2, 1, 5, 2, 1, 4, 5, 3, 1, 3, 4, 5, 1, 3, 3, 2, 1, 4, 2, 3, 1, 5, 1]"
      ]
     },
     "execution_count": 410,
     "metadata": {},
     "output_type": "execute_result"
    }
   ],
   "source": [
    "answer_ls"
   ]
  },
  {
   "cell_type": "code",
   "execution_count": 254,
   "metadata": {},
   "outputs": [
    {
     "data": {
      "text/plain": [
       "[(9, 227),\n",
       " (12, 191),\n",
       " (10, 186),\n",
       " (8, 161),\n",
       " (3, 156),\n",
       " (4, 149),\n",
       " (6, 147),\n",
       " (11, 146),\n",
       " (7, 142),\n",
       " (5, 140),\n",
       " (2, 135),\n",
       " (1, 110)]"
      ]
     },
     "execution_count": 254,
     "metadata": {},
     "output_type": "execute_result"
    }
   ],
   "source": [
    "data_t = data\n",
    "data_t['release_date'] = pd.to_datetime(data_t['release_date'], format = '%m/%d/%Y')\n",
    "# data_t.head()\n",
    "data_t['month'] = data_t['release_date'].dt.month\n",
    "# data_t.head()\n",
    "Counter(data_t.month).most_common()\n",
    "#  the right answer is 4"
   ]
  },
  {
   "cell_type": "markdown",
   "metadata": {},
   "source": [
    "# 27. В каком месяце за все годы суммарно вышло больше всего фильмов?\n",
    "Варианты ответа:\n",
    "1. Январь\n",
    "2. Июнь\n",
    "3. Декабрь\n",
    "4. Сентябрь\n",
    "5. Май"
   ]
  },
  {
   "cell_type": "code",
   "execution_count": 411,
   "metadata": {},
   "outputs": [],
   "source": [
    "answer_ls.append(4)"
   ]
  },
  {
   "cell_type": "code",
   "execution_count": 413,
   "metadata": {},
   "outputs": [
    {
     "data": {
      "text/plain": [
       "27"
      ]
     },
     "execution_count": 413,
     "metadata": {},
     "output_type": "execute_result"
    }
   ],
   "source": [
    "len(answer_ls)"
   ]
  },
  {
   "cell_type": "code",
   "execution_count": 257,
   "metadata": {},
   "outputs": [
    {
     "data": {
      "text/plain": [
       "450"
      ]
     },
     "execution_count": 257,
     "metadata": {},
     "output_type": "execute_result"
    }
   ],
   "source": [
    "Counter(data_t.month)[6] + Counter(data_t.month)[7] + Counter(data_t.month)[8]\n",
    "#  the right answer is 2"
   ]
  },
  {
   "cell_type": "markdown",
   "metadata": {},
   "source": [
    "# 28. Сколько суммарно вышло фильмов летом? (за июнь, июль, август)\n",
    "Варианты ответа:\n",
    "1. 345\n",
    "2. 450\n",
    "3. 478\n",
    "4. 523\n",
    "5. 381"
   ]
  },
  {
   "cell_type": "code",
   "execution_count": 414,
   "metadata": {},
   "outputs": [],
   "source": [
    "answer_ls.append(2)"
   ]
  },
  {
   "cell_type": "code",
   "execution_count": 416,
   "metadata": {},
   "outputs": [
    {
     "data": {
      "text/plain": [
       "28"
      ]
     },
     "execution_count": 416,
     "metadata": {},
     "output_type": "execute_result"
    }
   ],
   "source": [
    "len(answer_ls)"
   ]
  },
  {
   "cell_type": "code",
   "execution_count": 262,
   "metadata": {},
   "outputs": [
    {
     "data": {
      "text/plain": [
       "[6, 1, 7, 3, 8]"
      ]
     },
     "execution_count": 262,
     "metadata": {},
     "output_type": "execute_result"
    }
   ],
   "source": [
    "data_winter = data_t[(data_t.month == 11)|(data_t.month == 12)|(data_t.month == 1)]\n",
    "#  data_winter.head()\n",
    "dir_list = ['Steven Soderbergh', 'Christopher Nolan', 'Clint Eastwood', 'Ridley Scott', 'Peter Jackson']\n",
    "count_list = []\n",
    "for director in dir_list:\n",
    "    count_list.append(len(data_winter[data_winter.director.str.contains(director)]))\n",
    "count_list\n",
    "#  the right answer is 5"
   ]
  },
  {
   "cell_type": "markdown",
   "metadata": {},
   "source": [
    "# 29. Какой режисер выпускает (суммарно по годам) больше всего фильмов зимой?\n",
    "Варианты ответов:\n",
    "1. Steven Soderbergh\n",
    "2. Christopher Nolan\n",
    "3. Clint Eastwood\n",
    "4. Ridley Scott\n",
    "5. Peter Jackson"
   ]
  },
  {
   "cell_type": "code",
   "execution_count": 417,
   "metadata": {},
   "outputs": [],
   "source": [
    "answer_ls.append(5)"
   ]
  },
  {
   "cell_type": "code",
   "execution_count": 419,
   "metadata": {},
   "outputs": [
    {
     "data": {
      "text/plain": [
       "5"
      ]
     },
     "execution_count": 419,
     "metadata": {},
     "output_type": "execute_result"
    }
   ],
   "source": [
    "answer_ls[28]"
   ]
  },
  {
   "cell_type": "code",
   "execution_count": 275,
   "metadata": {},
   "outputs": [
    {
     "data": {
      "text/plain": [
       "<bound method Counter.most_common of Counter({5: 7, 11: 5, 4: 3, 6: 1})>"
      ]
     },
     "execution_count": 275,
     "metadata": {},
     "output_type": "execute_result"
    }
   ],
   "source": [
    "best_months_list = []\n",
    "for year in range(2000,2016):\n",
    "    month_list = []\n",
    "    for month in range(1,13):\n",
    "        month_list.append(data_t[(data_t.release_year == year)&(data_t.month == month)].revenue.sum())\n",
    "#     print(month_list)\n",
    "    best_months_list.append(month_list.index(max(month_list)))\n",
    "Counter(best_months_list).most_common\n",
    "#  the right answer is 5"
   ]
  },
  {
   "cell_type": "markdown",
   "metadata": {},
   "source": [
    "# 30. Какой месяц чаще всего по годам самый прибыльный?\n",
    "Варианты ответа:\n",
    "1. Январь\n",
    "2. Июнь\n",
    "3. Декабрь\n",
    "4. Сентябрь\n",
    "5. Май"
   ]
  },
  {
   "cell_type": "code",
   "execution_count": 420,
   "metadata": {},
   "outputs": [],
   "source": [
    "answer_ls.append(5)"
   ]
  },
  {
   "cell_type": "code",
   "execution_count": 423,
   "metadata": {},
   "outputs": [
    {
     "data": {
      "text/plain": [
       "30"
      ]
     },
     "execution_count": 423,
     "metadata": {},
     "output_type": "execute_result"
    }
   ],
   "source": [
    "len(answer_ls)"
   ]
  },
  {
   "cell_type": "code",
   "execution_count": 351,
   "metadata": {},
   "outputs": [
    {
     "name": "stdout",
     "output_type": "stream",
     "text": [
      "Uni = 14.762162162162163\n",
      "War = 15.251366120218579\n",
      "Jim = 59.0\n",
      "Par = 17.0327868852459\n",
      "Four = 83.0\n"
     ]
    }
   ],
   "source": [
    "# data_s = data\n",
    "# data_s['title_len'] = data_s['original_title'].str.len()\n",
    "# # data_s['title_len']\n",
    "# data_s['studio_list'] = data_s.production_companies.str.split('|')\n",
    "# # data_s['studio_list']\n",
    "# full_studio_list = []\n",
    "# for i in range(len(data_s)):\n",
    "#     for studio in data_s['studio_list'][i]:\n",
    "#         if studio in full_studio_list:\n",
    "#             continue\n",
    "#         else:\n",
    "#             full_studio_list.append(studio)\n",
    "# full_studio_list.sort()\n",
    "# full_studio_list\n",
    "# title_len_list =[]\n",
    "# Counter(data_s.production_companies.str.split('|').sum()).most_common()\n",
    "\n",
    "data_l = data[data.production_companies.str.contains('Universal Pictures')|\n",
    "             data.production_companies.str.contains('Universal')|\n",
    "             data.production_companies.str.contains('Warner Bros')|\n",
    "             data.production_companies.str.contains('Jim Henson Company, The')|\n",
    "             data.production_companies.str.contains('Paramount Pictures')|\n",
    "             data.production_companies.str.contains('Four By Two Productions')]\n",
    "# data_l\n",
    "\n",
    "print('Uni =', data_l[data_l.production_companies.str.contains('Universal')].title_len.mean())\n",
    "print('War =', data_l[data_l.production_companies.str.contains('Warner Bros')].title_len.mean())\n",
    "print('Jim =', data_l[data_l.production_companies.str.contains('Jim Henson Company, The')].title_len.mean())\n",
    "print('Par =', data_l[data_l.production_companies.str.contains('Paramount Pictures')].title_len.mean())\n",
    "print('Four =', data_l[data_l.production_companies.str.contains('Four By Two Productions')].title_len.mean())\n",
    "#  the right answer is 5"
   ]
  },
  {
   "cell_type": "markdown",
   "metadata": {},
   "source": [
    "# 31. Названия фильмов какой студии в среднем самые длинные по количеству символов?\n",
    "Варианты ответа:\n",
    "1. Universal Pictures (Universal)\n",
    "2. Warner Bros\n",
    "3. Jim Henson Company, The\n",
    "4. Paramount Pictures\n",
    "5. Four By Two Productions"
   ]
  },
  {
   "cell_type": "code",
   "execution_count": 424,
   "metadata": {},
   "outputs": [],
   "source": [
    "answer_ls.append(5)"
   ]
  },
  {
   "cell_type": "code",
   "execution_count": 426,
   "metadata": {},
   "outputs": [
    {
     "data": {
      "text/plain": [
       "5"
      ]
     },
     "execution_count": 426,
     "metadata": {},
     "output_type": "execute_result"
    }
   ],
   "source": [
    "answer_ls[30]"
   ]
  },
  {
   "cell_type": "code",
   "execution_count": 302,
   "metadata": {},
   "outputs": [
    {
     "name": "stdout",
     "output_type": "stream",
     "text": [
      "Uni = 2.627027027027027\n",
      "War = 2.73224043715847\n",
      "Jim = 10.0\n",
      "Par = 2.8688524590163933\n",
      "Four = 12.0\n"
     ]
    },
    {
     "name": "stderr",
     "output_type": "stream",
     "text": [
      "C:\\Users\\User\\Anaconda3\\lib\\site-packages\\ipykernel_launcher.py:8: SettingWithCopyWarning: \n",
      "A value is trying to be set on a copy of a slice from a DataFrame.\n",
      "Try using .loc[row_indexer,col_indexer] = value instead\n",
      "\n",
      "See the caveats in the documentation: http://pandas.pydata.org/pandas-docs/stable/user_guide/indexing.html#returning-a-view-versus-a-copy\n",
      "  \n"
     ]
    }
   ],
   "source": [
    "data_n = data[data.production_companies.str.contains('Universal Pictures')|\n",
    "             data.production_companies.str.contains('Universal')|\n",
    "             data.production_companies.str.contains('Warner Bros')|\n",
    "             data.production_companies.str.contains('Jim Henson Company, The')|\n",
    "             data.production_companies.str.contains('Paramount Pictures')|\n",
    "             data.production_companies.str.contains('Four By Two Productions')]\n",
    "# len(data_n)\n",
    "data_n['n_of_words'] = data_n.original_title.apply(lambda x: len(x.split(' ')))\n",
    "# data_n.n_of_words\n",
    "print('Uni =', data_n[data_n.production_companies.str.contains('Universal')].n_of_words.mean())\n",
    "print('War =', data_n[data_n.production_companies.str.contains('Warner Bros')].n_of_words.mean())\n",
    "print('Jim =', data_n[data_n.production_companies.str.contains('Jim Henson Company, The')].n_of_words.mean())\n",
    "print('Par =', data_n[data_n.production_companies.str.contains('Paramount Pictures')].n_of_words.mean())\n",
    "print('Four =', data_n[data_n.production_companies.str.contains('Four By Two Productions')].n_of_words.mean())\n",
    "#  the right answer is 5"
   ]
  },
  {
   "cell_type": "markdown",
   "metadata": {},
   "source": [
    "# 32. Названия фильмов какой студии в среднем самые длинные по количеству слов?\n",
    "Варианты ответа:\n",
    "1. Universal Pictures (Universal)\n",
    "2. Warner Bros\n",
    "3. Jim Henson Company, The\n",
    "4. Paramount Pictures\n",
    "5. Four By Two Productions"
   ]
  },
  {
   "cell_type": "code",
   "execution_count": 427,
   "metadata": {},
   "outputs": [],
   "source": [
    "answer_ls.append(5)"
   ]
  },
  {
   "cell_type": "code",
   "execution_count": 429,
   "metadata": {},
   "outputs": [
    {
     "data": {
      "text/plain": [
       "5"
      ]
     },
     "execution_count": 429,
     "metadata": {},
     "output_type": "execute_result"
    }
   ],
   "source": [
    "answer_ls[31]"
   ]
  },
  {
   "cell_type": "code",
   "execution_count": 307,
   "metadata": {},
   "outputs": [
    {
     "data": {
      "text/plain": [
       "2462"
      ]
     },
     "execution_count": 307,
     "metadata": {},
     "output_type": "execute_result"
    }
   ],
   "source": [
    "data['original_title'] = data.original_title.apply(lambda x:str(x).lower())\n",
    "len(sorted(Counter(data.original_title.str.split(' ').sum()).most_common()))\n",
    "#  the right answer is 3"
   ]
  },
  {
   "cell_type": "markdown",
   "metadata": {},
   "source": [
    "# 33. Сколько разных слов используется в названиях фильмов?(без учета регистра)\n",
    "Варианты ответа:\n",
    "1. 6540\n",
    "2. 1002\n",
    "3. 2461\n",
    "4. 28304\n",
    "5. 3432"
   ]
  },
  {
   "cell_type": "code",
   "execution_count": 430,
   "metadata": {},
   "outputs": [],
   "source": [
    "answer_ls.append(3)"
   ]
  },
  {
   "cell_type": "code",
   "execution_count": 432,
   "metadata": {},
   "outputs": [
    {
     "data": {
      "text/plain": [
       "33"
      ]
     },
     "execution_count": 432,
     "metadata": {},
     "output_type": "execute_result"
    }
   ],
   "source": [
    "len(answer_ls)"
   ]
  },
  {
   "cell_type": "code",
   "execution_count": 311,
   "metadata": {},
   "outputs": [
    {
     "data": {
      "text/html": [
       "<div>\n",
       "<style scoped>\n",
       "    .dataframe tbody tr th:only-of-type {\n",
       "        vertical-align: middle;\n",
       "    }\n",
       "\n",
       "    .dataframe tbody tr th {\n",
       "        vertical-align: top;\n",
       "    }\n",
       "\n",
       "    .dataframe thead th {\n",
       "        text-align: right;\n",
       "    }\n",
       "</style>\n",
       "<table border=\"1\" class=\"dataframe\">\n",
       "  <thead>\n",
       "    <tr style=\"text-align: right;\">\n",
       "      <th></th>\n",
       "      <th>imdb_id</th>\n",
       "      <th>popularity</th>\n",
       "      <th>budget</th>\n",
       "      <th>revenue</th>\n",
       "      <th>original_title</th>\n",
       "      <th>cast</th>\n",
       "      <th>director</th>\n",
       "      <th>tagline</th>\n",
       "      <th>overview</th>\n",
       "      <th>runtime</th>\n",
       "      <th>genres</th>\n",
       "      <th>production_companies</th>\n",
       "      <th>release_date</th>\n",
       "      <th>vote_count</th>\n",
       "      <th>vote_average</th>\n",
       "      <th>release_year</th>\n",
       "      <th>title_len</th>\n",
       "      <th>studio_list</th>\n",
       "    </tr>\n",
       "  </thead>\n",
       "  <tbody>\n",
       "    <tr>\n",
       "      <td>9</td>\n",
       "      <td>tt2096673</td>\n",
       "      <td>6.326804</td>\n",
       "      <td>175000000</td>\n",
       "      <td>853708609</td>\n",
       "      <td>inside out</td>\n",
       "      <td>Amy Poehler|Phyllis Smith|Richard Kind|Bill Ha...</td>\n",
       "      <td>Pete Docter</td>\n",
       "      <td>Meet the little voices inside your head.</td>\n",
       "      <td>Growing up can be a bumpy road, and it's no ex...</td>\n",
       "      <td>94</td>\n",
       "      <td>Comedy|Animation|Family</td>\n",
       "      <td>Walt Disney Pictures|Pixar Animation Studios|W...</td>\n",
       "      <td>6/9/2015</td>\n",
       "      <td>3935</td>\n",
       "      <td>8.0</td>\n",
       "      <td>2015</td>\n",
       "      <td>10</td>\n",
       "      <td>[Walt Disney Pictures, Pixar Animation Studios...</td>\n",
       "    </tr>\n",
       "    <tr>\n",
       "      <td>34</td>\n",
       "      <td>tt3170832</td>\n",
       "      <td>3.557846</td>\n",
       "      <td>6000000</td>\n",
       "      <td>35401758</td>\n",
       "      <td>room</td>\n",
       "      <td>Brie Larson|Jacob Tremblay|Joan Allen|Sean Bri...</td>\n",
       "      <td>Lenny Abrahamson</td>\n",
       "      <td>Love knows no boundaries</td>\n",
       "      <td>Jack is a young boy of 5 years old who has liv...</td>\n",
       "      <td>117</td>\n",
       "      <td>Drama|Thriller</td>\n",
       "      <td>Element Pictures|No Trace Camping|A24|Duperele...</td>\n",
       "      <td>10/16/2015</td>\n",
       "      <td>1520</td>\n",
       "      <td>8.0</td>\n",
       "      <td>2015</td>\n",
       "      <td>4</td>\n",
       "      <td>[Element Pictures, No Trace Camping, A24, Dupe...</td>\n",
       "    </tr>\n",
       "    <tr>\n",
       "      <td>118</td>\n",
       "      <td>tt0816692</td>\n",
       "      <td>24.949134</td>\n",
       "      <td>165000000</td>\n",
       "      <td>621752480</td>\n",
       "      <td>interstellar</td>\n",
       "      <td>Matthew McConaughey|Jessica Chastain|Anne Hath...</td>\n",
       "      <td>Christopher Nolan</td>\n",
       "      <td>Mankind was born on Earth. It was never meant ...</td>\n",
       "      <td>Interstellar chronicles the adventures of a gr...</td>\n",
       "      <td>169</td>\n",
       "      <td>Adventure|Drama|Science Fiction</td>\n",
       "      <td>Paramount Pictures|Legendary Pictures|Warner B...</td>\n",
       "      <td>11/5/2014</td>\n",
       "      <td>6498</td>\n",
       "      <td>8.0</td>\n",
       "      <td>2014</td>\n",
       "      <td>12</td>\n",
       "      <td>[Paramount Pictures, Legendary Pictures, Warne...</td>\n",
       "    </tr>\n",
       "    <tr>\n",
       "      <td>119</td>\n",
       "      <td>tt2015381</td>\n",
       "      <td>14.311205</td>\n",
       "      <td>170000000</td>\n",
       "      <td>773312399</td>\n",
       "      <td>guardians of the galaxy</td>\n",
       "      <td>Chris Pratt|Zoe Saldana|Dave Bautista|Vin Dies...</td>\n",
       "      <td>James Gunn</td>\n",
       "      <td>All heroes start somewhere.</td>\n",
       "      <td>Light years from Earth, 26 years after being a...</td>\n",
       "      <td>121</td>\n",
       "      <td>Action|Science Fiction|Adventure</td>\n",
       "      <td>Marvel Studios|Moving Picture Company (MPC)|Bu...</td>\n",
       "      <td>7/30/2014</td>\n",
       "      <td>5612</td>\n",
       "      <td>7.9</td>\n",
       "      <td>2014</td>\n",
       "      <td>23</td>\n",
       "      <td>[Marvel Studios, Moving Picture Company (MPC),...</td>\n",
       "    </tr>\n",
       "    <tr>\n",
       "      <td>125</td>\n",
       "      <td>tt2084970</td>\n",
       "      <td>8.110711</td>\n",
       "      <td>14000000</td>\n",
       "      <td>233555708</td>\n",
       "      <td>the imitation game</td>\n",
       "      <td>Benedict Cumberbatch|Keira Knightley|Matthew G...</td>\n",
       "      <td>Morten Tyldum</td>\n",
       "      <td>The true enigma was the man who cracked the code.</td>\n",
       "      <td>Based on the real life story of legendary cryp...</td>\n",
       "      <td>113</td>\n",
       "      <td>History|Drama|Thriller|War</td>\n",
       "      <td>Black Bear Pictures|Bristol Automotive</td>\n",
       "      <td>11/14/2014</td>\n",
       "      <td>3478</td>\n",
       "      <td>8.0</td>\n",
       "      <td>2014</td>\n",
       "      <td>18</td>\n",
       "      <td>[Black Bear Pictures, Bristol Automotive]</td>\n",
       "    </tr>\n",
       "    <tr>\n",
       "      <td>128</td>\n",
       "      <td>tt2267998</td>\n",
       "      <td>6.438727</td>\n",
       "      <td>61000000</td>\n",
       "      <td>369330363</td>\n",
       "      <td>gone girl</td>\n",
       "      <td>Ben Affleck|Rosamund Pike|Carrie Coon|Neil Pat...</td>\n",
       "      <td>David Fincher</td>\n",
       "      <td>You don't know what you've got 'til it's...</td>\n",
       "      <td>With his wife's disappearance having become th...</td>\n",
       "      <td>145</td>\n",
       "      <td>Mystery|Thriller|Drama</td>\n",
       "      <td>Twentieth Century Fox Film Corporation|Regency...</td>\n",
       "      <td>10/1/2014</td>\n",
       "      <td>3720</td>\n",
       "      <td>7.9</td>\n",
       "      <td>2014</td>\n",
       "      <td>9</td>\n",
       "      <td>[Twentieth Century Fox Film Corporation, Regen...</td>\n",
       "    </tr>\n",
       "    <tr>\n",
       "      <td>138</td>\n",
       "      <td>tt2278388</td>\n",
       "      <td>4.930820</td>\n",
       "      <td>30000000</td>\n",
       "      <td>174600318</td>\n",
       "      <td>the grand budapest hotel</td>\n",
       "      <td>Ralph Fiennes|Tony Revolori|F. Murray Abraham|...</td>\n",
       "      <td>Wes Anderson</td>\n",
       "      <td>A perfect holiday without leaving home.</td>\n",
       "      <td>The Grand Budapest Hotel tells of a legendary ...</td>\n",
       "      <td>99</td>\n",
       "      <td>Comedy|Drama</td>\n",
       "      <td>Fox Searchlight Pictures|Scott Rudin Productio...</td>\n",
       "      <td>2/26/2014</td>\n",
       "      <td>2802</td>\n",
       "      <td>7.9</td>\n",
       "      <td>2014</td>\n",
       "      <td>24</td>\n",
       "      <td>[Fox Searchlight Pictures, Scott Rudin Product...</td>\n",
       "    </tr>\n",
       "    <tr>\n",
       "      <td>370</td>\n",
       "      <td>tt1375666</td>\n",
       "      <td>9.363643</td>\n",
       "      <td>160000000</td>\n",
       "      <td>825500000</td>\n",
       "      <td>inception</td>\n",
       "      <td>Leonardo DiCaprio|Joseph Gordon-Levitt|Ellen P...</td>\n",
       "      <td>Christopher Nolan</td>\n",
       "      <td>Your mind is the scene of the crime.</td>\n",
       "      <td>Cobb, a skilled thief who commits corporate es...</td>\n",
       "      <td>148</td>\n",
       "      <td>Action|Thriller|Science Fiction|Mystery|Adventure</td>\n",
       "      <td>Legendary Pictures|Warner Bros.|Syncopy</td>\n",
       "      <td>7/14/2010</td>\n",
       "      <td>9767</td>\n",
       "      <td>7.9</td>\n",
       "      <td>2010</td>\n",
       "      <td>9</td>\n",
       "      <td>[Legendary Pictures, Warner Bros., Syncopy]</td>\n",
       "    </tr>\n",
       "    <tr>\n",
       "      <td>600</td>\n",
       "      <td>tt0468569</td>\n",
       "      <td>8.466668</td>\n",
       "      <td>185000000</td>\n",
       "      <td>1001921825</td>\n",
       "      <td>the dark knight</td>\n",
       "      <td>Christian Bale|Michael Caine|Heath Ledger|Aaro...</td>\n",
       "      <td>Christopher Nolan</td>\n",
       "      <td>Why So Serious?</td>\n",
       "      <td>Batman raises the stakes in his war on crime. ...</td>\n",
       "      <td>152</td>\n",
       "      <td>Drama|Action|Crime|Thriller</td>\n",
       "      <td>DC Comics|Legendary Pictures|Warner Bros.|Syncopy</td>\n",
       "      <td>7/16/2008</td>\n",
       "      <td>8432</td>\n",
       "      <td>8.1</td>\n",
       "      <td>2008</td>\n",
       "      <td>15</td>\n",
       "      <td>[DC Comics, Legendary Pictures, Warner Bros., ...</td>\n",
       "    </tr>\n",
       "    <tr>\n",
       "      <td>873</td>\n",
       "      <td>tt0253474</td>\n",
       "      <td>2.364204</td>\n",
       "      <td>35000000</td>\n",
       "      <td>120072577</td>\n",
       "      <td>the pianist</td>\n",
       "      <td>Adrien Brody|Thomas Kretschmann|Frank Finlay|M...</td>\n",
       "      <td>Roman Polanski</td>\n",
       "      <td>Music was his passion. Survival was his master...</td>\n",
       "      <td>The Pianist is a film adapted from the biograp...</td>\n",
       "      <td>150</td>\n",
       "      <td>Drama|War</td>\n",
       "      <td>Bac Films|Canal+Polska|Heritage Films|Studio B...</td>\n",
       "      <td>9/24/2002</td>\n",
       "      <td>938</td>\n",
       "      <td>7.9</td>\n",
       "      <td>2002</td>\n",
       "      <td>11</td>\n",
       "      <td>[Bac Films, Canal+Polska, Heritage Films, Stud...</td>\n",
       "    </tr>\n",
       "    <tr>\n",
       "      <td>1082</td>\n",
       "      <td>tt0167260</td>\n",
       "      <td>7.122455</td>\n",
       "      <td>94000000</td>\n",
       "      <td>1118888979</td>\n",
       "      <td>the lord of the rings: the return of the king</td>\n",
       "      <td>Elijah Wood|Ian McKellen|Viggo Mortensen|Liv T...</td>\n",
       "      <td>Peter Jackson</td>\n",
       "      <td>The eye of the enemy is moving.</td>\n",
       "      <td>Aragorn is revealed as the heir to the ancient...</td>\n",
       "      <td>201</td>\n",
       "      <td>Adventure|Fantasy|Action</td>\n",
       "      <td>WingNut Films|New Line Cinema</td>\n",
       "      <td>12/1/2003</td>\n",
       "      <td>5636</td>\n",
       "      <td>7.9</td>\n",
       "      <td>2003</td>\n",
       "      <td>45</td>\n",
       "      <td>[WingNut Films, New Line Cinema]</td>\n",
       "    </tr>\n",
       "    <tr>\n",
       "      <td>1184</td>\n",
       "      <td>tt0993846</td>\n",
       "      <td>4.877927</td>\n",
       "      <td>100000000</td>\n",
       "      <td>392000694</td>\n",
       "      <td>the wolf of wall street</td>\n",
       "      <td>Leonardo DiCaprio|Jonah Hill|Margot Robbie|Kyl...</td>\n",
       "      <td>Martin Scorsese</td>\n",
       "      <td>EARN. SPEND. PARTY.</td>\n",
       "      <td>A New York stockbroker refuses to cooperate in...</td>\n",
       "      <td>180</td>\n",
       "      <td>Crime|Drama|Comedy</td>\n",
       "      <td>Paramount Pictures|Appian Way|EMJAG Production...</td>\n",
       "      <td>12/25/2013</td>\n",
       "      <td>4027</td>\n",
       "      <td>7.9</td>\n",
       "      <td>2013</td>\n",
       "      <td>23</td>\n",
       "      <td>[Paramount Pictures, Appian Way, EMJAG Product...</td>\n",
       "    </tr>\n",
       "    <tr>\n",
       "      <td>1192</td>\n",
       "      <td>tt2024544</td>\n",
       "      <td>3.625529</td>\n",
       "      <td>20000000</td>\n",
       "      <td>187000000</td>\n",
       "      <td>12 years a slave</td>\n",
       "      <td>Chiwetel Ejiofor|Michael Fassbender|Lupita Nyo...</td>\n",
       "      <td>Steve McQueen</td>\n",
       "      <td>The extraordinary true story of Solomon Northup</td>\n",
       "      <td>In the pre-Civil War United States, Solomon No...</td>\n",
       "      <td>134</td>\n",
       "      <td>Drama|History</td>\n",
       "      <td>Plan B Entertainment|Regency Enterprises|River...</td>\n",
       "      <td>10/18/2013</td>\n",
       "      <td>2241</td>\n",
       "      <td>7.9</td>\n",
       "      <td>2013</td>\n",
       "      <td>16</td>\n",
       "      <td>[Plan B Entertainment, Regency Enterprises, Ri...</td>\n",
       "    </tr>\n",
       "    <tr>\n",
       "      <td>1801</td>\n",
       "      <td>tt0209144</td>\n",
       "      <td>3.095625</td>\n",
       "      <td>9000000</td>\n",
       "      <td>39723096</td>\n",
       "      <td>memento</td>\n",
       "      <td>Guy Pearce|Carrie-Anne Moss|Joe Pantoliano|Mar...</td>\n",
       "      <td>Christopher Nolan</td>\n",
       "      <td>Some memories are best forgotten.</td>\n",
       "      <td>Suffering short-term memory loss after a head ...</td>\n",
       "      <td>113</td>\n",
       "      <td>Mystery|Thriller</td>\n",
       "      <td>Summit Entertainment|Newmarket Capital Group|T...</td>\n",
       "      <td>10/11/2000</td>\n",
       "      <td>2144</td>\n",
       "      <td>7.9</td>\n",
       "      <td>2000</td>\n",
       "      <td>7</td>\n",
       "      <td>[Summit Entertainment, Newmarket Capital Group...</td>\n",
       "    </tr>\n",
       "  </tbody>\n",
       "</table>\n",
       "</div>"
      ],
      "text/plain": [
       "        imdb_id  popularity     budget     revenue  \\\n",
       "9     tt2096673    6.326804  175000000   853708609   \n",
       "34    tt3170832    3.557846    6000000    35401758   \n",
       "118   tt0816692   24.949134  165000000   621752480   \n",
       "119   tt2015381   14.311205  170000000   773312399   \n",
       "125   tt2084970    8.110711   14000000   233555708   \n",
       "128   tt2267998    6.438727   61000000   369330363   \n",
       "138   tt2278388    4.930820   30000000   174600318   \n",
       "370   tt1375666    9.363643  160000000   825500000   \n",
       "600   tt0468569    8.466668  185000000  1001921825   \n",
       "873   tt0253474    2.364204   35000000   120072577   \n",
       "1082  tt0167260    7.122455   94000000  1118888979   \n",
       "1184  tt0993846    4.877927  100000000   392000694   \n",
       "1192  tt2024544    3.625529   20000000   187000000   \n",
       "1801  tt0209144    3.095625    9000000    39723096   \n",
       "\n",
       "                                     original_title  \\\n",
       "9                                        inside out   \n",
       "34                                             room   \n",
       "118                                    interstellar   \n",
       "119                         guardians of the galaxy   \n",
       "125                              the imitation game   \n",
       "128                                       gone girl   \n",
       "138                        the grand budapest hotel   \n",
       "370                                       inception   \n",
       "600                                 the dark knight   \n",
       "873                                     the pianist   \n",
       "1082  the lord of the rings: the return of the king   \n",
       "1184                        the wolf of wall street   \n",
       "1192                               12 years a slave   \n",
       "1801                                        memento   \n",
       "\n",
       "                                                   cast           director  \\\n",
       "9     Amy Poehler|Phyllis Smith|Richard Kind|Bill Ha...        Pete Docter   \n",
       "34    Brie Larson|Jacob Tremblay|Joan Allen|Sean Bri...   Lenny Abrahamson   \n",
       "118   Matthew McConaughey|Jessica Chastain|Anne Hath...  Christopher Nolan   \n",
       "119   Chris Pratt|Zoe Saldana|Dave Bautista|Vin Dies...         James Gunn   \n",
       "125   Benedict Cumberbatch|Keira Knightley|Matthew G...      Morten Tyldum   \n",
       "128   Ben Affleck|Rosamund Pike|Carrie Coon|Neil Pat...      David Fincher   \n",
       "138   Ralph Fiennes|Tony Revolori|F. Murray Abraham|...       Wes Anderson   \n",
       "370   Leonardo DiCaprio|Joseph Gordon-Levitt|Ellen P...  Christopher Nolan   \n",
       "600   Christian Bale|Michael Caine|Heath Ledger|Aaro...  Christopher Nolan   \n",
       "873   Adrien Brody|Thomas Kretschmann|Frank Finlay|M...     Roman Polanski   \n",
       "1082  Elijah Wood|Ian McKellen|Viggo Mortensen|Liv T...      Peter Jackson   \n",
       "1184  Leonardo DiCaprio|Jonah Hill|Margot Robbie|Kyl...    Martin Scorsese   \n",
       "1192  Chiwetel Ejiofor|Michael Fassbender|Lupita Nyo...      Steve McQueen   \n",
       "1801  Guy Pearce|Carrie-Anne Moss|Joe Pantoliano|Mar...  Christopher Nolan   \n",
       "\n",
       "                                                tagline  \\\n",
       "9              Meet the little voices inside your head.   \n",
       "34                             Love knows no boundaries   \n",
       "118   Mankind was born on Earth. It was never meant ...   \n",
       "119                         All heroes start somewhere.   \n",
       "125   The true enigma was the man who cracked the code.   \n",
       "128         You don't know what you've got 'til it's...   \n",
       "138             A perfect holiday without leaving home.   \n",
       "370                Your mind is the scene of the crime.   \n",
       "600                                     Why So Serious?   \n",
       "873   Music was his passion. Survival was his master...   \n",
       "1082                    The eye of the enemy is moving.   \n",
       "1184                                EARN. SPEND. PARTY.   \n",
       "1192    The extraordinary true story of Solomon Northup   \n",
       "1801                  Some memories are best forgotten.   \n",
       "\n",
       "                                               overview  runtime  \\\n",
       "9     Growing up can be a bumpy road, and it's no ex...       94   \n",
       "34    Jack is a young boy of 5 years old who has liv...      117   \n",
       "118   Interstellar chronicles the adventures of a gr...      169   \n",
       "119   Light years from Earth, 26 years after being a...      121   \n",
       "125   Based on the real life story of legendary cryp...      113   \n",
       "128   With his wife's disappearance having become th...      145   \n",
       "138   The Grand Budapest Hotel tells of a legendary ...       99   \n",
       "370   Cobb, a skilled thief who commits corporate es...      148   \n",
       "600   Batman raises the stakes in his war on crime. ...      152   \n",
       "873   The Pianist is a film adapted from the biograp...      150   \n",
       "1082  Aragorn is revealed as the heir to the ancient...      201   \n",
       "1184  A New York stockbroker refuses to cooperate in...      180   \n",
       "1192  In the pre-Civil War United States, Solomon No...      134   \n",
       "1801  Suffering short-term memory loss after a head ...      113   \n",
       "\n",
       "                                                 genres  \\\n",
       "9                               Comedy|Animation|Family   \n",
       "34                                       Drama|Thriller   \n",
       "118                     Adventure|Drama|Science Fiction   \n",
       "119                    Action|Science Fiction|Adventure   \n",
       "125                          History|Drama|Thriller|War   \n",
       "128                              Mystery|Thriller|Drama   \n",
       "138                                        Comedy|Drama   \n",
       "370   Action|Thriller|Science Fiction|Mystery|Adventure   \n",
       "600                         Drama|Action|Crime|Thriller   \n",
       "873                                           Drama|War   \n",
       "1082                           Adventure|Fantasy|Action   \n",
       "1184                                 Crime|Drama|Comedy   \n",
       "1192                                      Drama|History   \n",
       "1801                                   Mystery|Thriller   \n",
       "\n",
       "                                   production_companies release_date  \\\n",
       "9     Walt Disney Pictures|Pixar Animation Studios|W...     6/9/2015   \n",
       "34    Element Pictures|No Trace Camping|A24|Duperele...   10/16/2015   \n",
       "118   Paramount Pictures|Legendary Pictures|Warner B...    11/5/2014   \n",
       "119   Marvel Studios|Moving Picture Company (MPC)|Bu...    7/30/2014   \n",
       "125              Black Bear Pictures|Bristol Automotive   11/14/2014   \n",
       "128   Twentieth Century Fox Film Corporation|Regency...    10/1/2014   \n",
       "138   Fox Searchlight Pictures|Scott Rudin Productio...    2/26/2014   \n",
       "370             Legendary Pictures|Warner Bros.|Syncopy    7/14/2010   \n",
       "600   DC Comics|Legendary Pictures|Warner Bros.|Syncopy    7/16/2008   \n",
       "873   Bac Films|Canal+Polska|Heritage Films|Studio B...    9/24/2002   \n",
       "1082                      WingNut Films|New Line Cinema    12/1/2003   \n",
       "1184  Paramount Pictures|Appian Way|EMJAG Production...   12/25/2013   \n",
       "1192  Plan B Entertainment|Regency Enterprises|River...   10/18/2013   \n",
       "1801  Summit Entertainment|Newmarket Capital Group|T...   10/11/2000   \n",
       "\n",
       "      vote_count  vote_average  release_year  title_len  \\\n",
       "9           3935           8.0          2015         10   \n",
       "34          1520           8.0          2015          4   \n",
       "118         6498           8.0          2014         12   \n",
       "119         5612           7.9          2014         23   \n",
       "125         3478           8.0          2014         18   \n",
       "128         3720           7.9          2014          9   \n",
       "138         2802           7.9          2014         24   \n",
       "370         9767           7.9          2010          9   \n",
       "600         8432           8.1          2008         15   \n",
       "873          938           7.9          2002         11   \n",
       "1082        5636           7.9          2003         45   \n",
       "1184        4027           7.9          2013         23   \n",
       "1192        2241           7.9          2013         16   \n",
       "1801        2144           7.9          2000          7   \n",
       "\n",
       "                                            studio_list  \n",
       "9     [Walt Disney Pictures, Pixar Animation Studios...  \n",
       "34    [Element Pictures, No Trace Camping, A24, Dupe...  \n",
       "118   [Paramount Pictures, Legendary Pictures, Warne...  \n",
       "119   [Marvel Studios, Moving Picture Company (MPC),...  \n",
       "125           [Black Bear Pictures, Bristol Automotive]  \n",
       "128   [Twentieth Century Fox Film Corporation, Regen...  \n",
       "138   [Fox Searchlight Pictures, Scott Rudin Product...  \n",
       "370         [Legendary Pictures, Warner Bros., Syncopy]  \n",
       "600   [DC Comics, Legendary Pictures, Warner Bros., ...  \n",
       "873   [Bac Films, Canal+Polska, Heritage Films, Stud...  \n",
       "1082                   [WingNut Films, New Line Cinema]  \n",
       "1184  [Paramount Pictures, Appian Way, EMJAG Product...  \n",
       "1192  [Plan B Entertainment, Regency Enterprises, Ri...  \n",
       "1801  [Summit Entertainment, Newmarket Capital Group...  "
      ]
     },
     "execution_count": 311,
     "metadata": {},
     "output_type": "execute_result"
    }
   ],
   "source": [
    "data[data.vote_average >= data.vote_average.max()*0.97]\n",
    "#  the right answer is 1"
   ]
  },
  {
   "cell_type": "markdown",
   "metadata": {},
   "source": [
    "# 34. Какие фильмы входят в 1 процент лучших по рейтингу?\n",
    "Варианты ответа:\n",
    "1. Inside Out, Gone Girl, 12 Years a Slave\n",
    "2. BloodRayne, The Adventures of Rocky & Bullwinkle\n",
    "3. The Lord of the Rings: The Return of the King\n",
    "4. 300, Lucky Number Slevin"
   ]
  },
  {
   "cell_type": "code",
   "execution_count": 433,
   "metadata": {},
   "outputs": [],
   "source": [
    "answer_ls.append(1)"
   ]
  },
  {
   "cell_type": "code",
   "execution_count": 435,
   "metadata": {},
   "outputs": [
    {
     "data": {
      "text/plain": [
       "1"
      ]
     },
     "execution_count": 435,
     "metadata": {},
     "output_type": "execute_result"
    }
   ],
   "source": [
    "answer_ls[33]"
   ]
  },
  {
   "cell_type": "code",
   "execution_count": 335,
   "metadata": {},
   "outputs": [
    {
     "name": "stdout",
     "output_type": "stream",
     "text": [
      "['Johnny Depp', 'Helena Bonham Carter']   6\n",
      "['Hugh Jackman', 'Ian McKellen']   5\n",
      "['Vin Diesel', 'Paul Walker']   5\n",
      "['Adam Sandler', 'Kevin James']   5\n",
      "['Daniel Radcliffe', 'Rupert Grint']   8\n"
     ]
    }
   ],
   "source": [
    "def number_of_films(pair):\n",
    "    return len(data[data.cast.str.contains(pair[0]) & data.cast.str.contains(pair[1])])\n",
    "\n",
    "actors_pairs = [['Johnny Depp', 'Helena Bonham Carter'],\n",
    "               ['Hugh Jackman', 'Ian McKellen'],\n",
    "               ['Vin Diesel', 'Paul Walker'],\n",
    "               ['Adam Sandler', 'Kevin James'],\n",
    "               ['Daniel Radcliffe', 'Rupert Grint']]\n",
    "for pair in actors_pairs:\n",
    "    print(pair, ' ',number_of_films(pair) )\n",
    "#  the right answer is 5"
   ]
  },
  {
   "cell_type": "markdown",
   "metadata": {},
   "source": [
    "# 35. Какие актеры чаще всего снимаются в одном фильме вместе\n",
    "Варианты ответа:\n",
    "1. Johnny Depp & Helena Bonham Carter\n",
    "2. Hugh Jackman & Ian McKellen\n",
    "3. Vin Diesel & Paul Walker\n",
    "4. Adam Sandler & Kevin James\n",
    "5. Daniel Radcliffe & Rupert Grint"
   ]
  },
  {
   "cell_type": "code",
   "execution_count": 436,
   "metadata": {},
   "outputs": [],
   "source": [
    "answer_ls.append(5)"
   ]
  },
  {
   "cell_type": "code",
   "execution_count": 438,
   "metadata": {},
   "outputs": [
    {
     "data": {
      "text/plain": [
       "5"
      ]
     },
     "execution_count": 438,
     "metadata": {},
     "output_type": "execute_result"
    }
   ],
   "source": [
    "answer_ls[34]"
   ]
  },
  {
   "cell_type": "code",
   "execution_count": 328,
   "metadata": {},
   "outputs": [
    {
     "name": "stdout",
     "output_type": "stream",
     "text": [
      "Quentin Tarantino   0.8571428571428571\n",
      "Steven Soderbergh   0.7692307692307693\n",
      "Robert Rodriguez   0.7272727272727273\n",
      "Christopher Nolan   1.0\n",
      "Clint Eastwood   0.8333333333333334\n"
     ]
    },
    {
     "name": "stderr",
     "output_type": "stream",
     "text": [
      "C:\\Users\\User\\Anaconda3\\lib\\site-packages\\ipykernel_launcher.py:3: SettingWithCopyWarning: \n",
      "A value is trying to be set on a copy of a slice from a DataFrame.\n",
      "Try using .loc[row_indexer,col_indexer] = value instead\n",
      "\n",
      "See the caveats in the documentation: http://pandas.pydata.org/pandas-docs/stable/user_guide/indexing.html#returning-a-view-versus-a-copy\n",
      "  This is separate from the ipykernel package so we can avoid doing imports until\n"
     ]
    }
   ],
   "source": [
    "def profit_probability(director):\n",
    "    data_d = data[data.director.str.contains(director)]\n",
    "    data_d['profit'] = data_d['revenue'] - data_d['budget']\n",
    "    # len(data_d.profit)\n",
    "    return len(data_d[data_d.profit > 0])/len(data_d.profit)\n",
    "\n",
    "dir_list = ['Quentin Tarantino', 'Steven Soderbergh', 'Robert Rodriguez', 'Christopher Nolan', 'Clint Eastwood' ]\n",
    "for director in dir_list:\n",
    "    print(director,' ', profit_probability(director))\n",
    "#  the right answer is 4"
   ]
  },
  {
   "cell_type": "markdown",
   "metadata": {},
   "source": [
    "# 36. У какого из режиссеров выше вероятность выпустить фильм в прибыли? (5 баллов)101\n",
    "Варианты ответа:\n",
    "1. Quentin Tarantino\n",
    "2. Steven Soderbergh\n",
    "3. Robert Rodriguez\n",
    "4. Christopher Nolan\n",
    "5. Clint Eastwood"
   ]
  },
  {
   "cell_type": "code",
   "execution_count": 439,
   "metadata": {},
   "outputs": [],
   "source": [
    "answer_ls.append(4)"
   ]
  },
  {
   "cell_type": "markdown",
   "metadata": {},
   "source": [
    "# Submission"
   ]
  },
  {
   "cell_type": "code",
   "execution_count": 441,
   "metadata": {},
   "outputs": [
    {
     "data": {
      "text/plain": [
       "36"
      ]
     },
     "execution_count": 441,
     "metadata": {},
     "output_type": "execute_result"
    }
   ],
   "source": [
    "len(answer_ls)"
   ]
  },
  {
   "cell_type": "code",
   "execution_count": 442,
   "metadata": {},
   "outputs": [
    {
     "data": {
      "text/html": [
       "<div>\n",
       "<style scoped>\n",
       "    .dataframe tbody tr th:only-of-type {\n",
       "        vertical-align: middle;\n",
       "    }\n",
       "\n",
       "    .dataframe tbody tr th {\n",
       "        vertical-align: top;\n",
       "    }\n",
       "\n",
       "    .dataframe thead th {\n",
       "        text-align: right;\n",
       "    }\n",
       "</style>\n",
       "<table border=\"1\" class=\"dataframe\">\n",
       "  <thead>\n",
       "    <tr style=\"text-align: right;\">\n",
       "      <th></th>\n",
       "      <th>Id</th>\n",
       "      <th>Answer</th>\n",
       "    </tr>\n",
       "  </thead>\n",
       "  <tbody>\n",
       "    <tr>\n",
       "      <td>0</td>\n",
       "      <td>1</td>\n",
       "      <td>4</td>\n",
       "    </tr>\n",
       "    <tr>\n",
       "      <td>1</td>\n",
       "      <td>2</td>\n",
       "      <td>2</td>\n",
       "    </tr>\n",
       "    <tr>\n",
       "      <td>2</td>\n",
       "      <td>3</td>\n",
       "      <td>3</td>\n",
       "    </tr>\n",
       "    <tr>\n",
       "      <td>3</td>\n",
       "      <td>4</td>\n",
       "      <td>2</td>\n",
       "    </tr>\n",
       "    <tr>\n",
       "      <td>4</td>\n",
       "      <td>5</td>\n",
       "      <td>1</td>\n",
       "    </tr>\n",
       "    <tr>\n",
       "      <td>5</td>\n",
       "      <td>6</td>\n",
       "      <td>5</td>\n",
       "    </tr>\n",
       "    <tr>\n",
       "      <td>6</td>\n",
       "      <td>7</td>\n",
       "      <td>2</td>\n",
       "    </tr>\n",
       "    <tr>\n",
       "      <td>7</td>\n",
       "      <td>8</td>\n",
       "      <td>1</td>\n",
       "    </tr>\n",
       "    <tr>\n",
       "      <td>8</td>\n",
       "      <td>9</td>\n",
       "      <td>4</td>\n",
       "    </tr>\n",
       "    <tr>\n",
       "      <td>9</td>\n",
       "      <td>10</td>\n",
       "      <td>5</td>\n",
       "    </tr>\n",
       "    <tr>\n",
       "      <td>10</td>\n",
       "      <td>11</td>\n",
       "      <td>3</td>\n",
       "    </tr>\n",
       "    <tr>\n",
       "      <td>11</td>\n",
       "      <td>12</td>\n",
       "      <td>1</td>\n",
       "    </tr>\n",
       "    <tr>\n",
       "      <td>12</td>\n",
       "      <td>13</td>\n",
       "      <td>3</td>\n",
       "    </tr>\n",
       "    <tr>\n",
       "      <td>13</td>\n",
       "      <td>14</td>\n",
       "      <td>4</td>\n",
       "    </tr>\n",
       "    <tr>\n",
       "      <td>14</td>\n",
       "      <td>15</td>\n",
       "      <td>5</td>\n",
       "    </tr>\n",
       "    <tr>\n",
       "      <td>15</td>\n",
       "      <td>16</td>\n",
       "      <td>1</td>\n",
       "    </tr>\n",
       "    <tr>\n",
       "      <td>16</td>\n",
       "      <td>17</td>\n",
       "      <td>3</td>\n",
       "    </tr>\n",
       "    <tr>\n",
       "      <td>17</td>\n",
       "      <td>18</td>\n",
       "      <td>3</td>\n",
       "    </tr>\n",
       "    <tr>\n",
       "      <td>18</td>\n",
       "      <td>19</td>\n",
       "      <td>2</td>\n",
       "    </tr>\n",
       "    <tr>\n",
       "      <td>19</td>\n",
       "      <td>20</td>\n",
       "      <td>1</td>\n",
       "    </tr>\n",
       "    <tr>\n",
       "      <td>20</td>\n",
       "      <td>21</td>\n",
       "      <td>4</td>\n",
       "    </tr>\n",
       "    <tr>\n",
       "      <td>21</td>\n",
       "      <td>22</td>\n",
       "      <td>2</td>\n",
       "    </tr>\n",
       "    <tr>\n",
       "      <td>22</td>\n",
       "      <td>23</td>\n",
       "      <td>3</td>\n",
       "    </tr>\n",
       "    <tr>\n",
       "      <td>23</td>\n",
       "      <td>24</td>\n",
       "      <td>1</td>\n",
       "    </tr>\n",
       "    <tr>\n",
       "      <td>24</td>\n",
       "      <td>25</td>\n",
       "      <td>5</td>\n",
       "    </tr>\n",
       "    <tr>\n",
       "      <td>25</td>\n",
       "      <td>26</td>\n",
       "      <td>1</td>\n",
       "    </tr>\n",
       "    <tr>\n",
       "      <td>26</td>\n",
       "      <td>27</td>\n",
       "      <td>4</td>\n",
       "    </tr>\n",
       "    <tr>\n",
       "      <td>27</td>\n",
       "      <td>28</td>\n",
       "      <td>2</td>\n",
       "    </tr>\n",
       "    <tr>\n",
       "      <td>28</td>\n",
       "      <td>29</td>\n",
       "      <td>5</td>\n",
       "    </tr>\n",
       "    <tr>\n",
       "      <td>29</td>\n",
       "      <td>30</td>\n",
       "      <td>5</td>\n",
       "    </tr>\n",
       "    <tr>\n",
       "      <td>30</td>\n",
       "      <td>31</td>\n",
       "      <td>5</td>\n",
       "    </tr>\n",
       "    <tr>\n",
       "      <td>31</td>\n",
       "      <td>32</td>\n",
       "      <td>5</td>\n",
       "    </tr>\n",
       "    <tr>\n",
       "      <td>32</td>\n",
       "      <td>33</td>\n",
       "      <td>3</td>\n",
       "    </tr>\n",
       "    <tr>\n",
       "      <td>33</td>\n",
       "      <td>34</td>\n",
       "      <td>1</td>\n",
       "    </tr>\n",
       "    <tr>\n",
       "      <td>34</td>\n",
       "      <td>35</td>\n",
       "      <td>5</td>\n",
       "    </tr>\n",
       "    <tr>\n",
       "      <td>35</td>\n",
       "      <td>36</td>\n",
       "      <td>4</td>\n",
       "    </tr>\n",
       "  </tbody>\n",
       "</table>\n",
       "</div>"
      ],
      "text/plain": [
       "    Id  Answer\n",
       "0    1       4\n",
       "1    2       2\n",
       "2    3       3\n",
       "3    4       2\n",
       "4    5       1\n",
       "5    6       5\n",
       "6    7       2\n",
       "7    8       1\n",
       "8    9       4\n",
       "9   10       5\n",
       "10  11       3\n",
       "11  12       1\n",
       "12  13       3\n",
       "13  14       4\n",
       "14  15       5\n",
       "15  16       1\n",
       "16  17       3\n",
       "17  18       3\n",
       "18  19       2\n",
       "19  20       1\n",
       "20  21       4\n",
       "21  22       2\n",
       "22  23       3\n",
       "23  24       1\n",
       "24  25       5\n",
       "25  26       1\n",
       "26  27       4\n",
       "27  28       2\n",
       "28  29       5\n",
       "29  30       5\n",
       "30  31       5\n",
       "31  32       5\n",
       "32  33       3\n",
       "33  34       1\n",
       "34  35       5\n",
       "35  36       4"
      ]
     },
     "execution_count": 442,
     "metadata": {},
     "output_type": "execute_result"
    }
   ],
   "source": [
    "pd.DataFrame({'Id':range(1,len(answer_ls)+1), 'Answer':answer_ls}, columns=['Id', 'Answer'])"
   ]
  },
  {
   "cell_type": "code",
   "execution_count": null,
   "metadata": {},
   "outputs": [],
   "source": []
  }
 ],
 "metadata": {
  "kernelspec": {
   "display_name": "Python 3",
   "language": "python",
   "name": "python3"
  },
  "language_info": {
   "codemirror_mode": {
    "name": "ipython",
    "version": 3
   },
   "file_extension": ".py",
   "mimetype": "text/x-python",
   "name": "python",
   "nbconvert_exporter": "python",
   "pygments_lexer": "ipython3",
   "version": "3.7.4"
  }
 },
 "nbformat": 4,
 "nbformat_minor": 4
}
